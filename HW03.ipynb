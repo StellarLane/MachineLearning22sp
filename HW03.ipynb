{
  "cells": [
    {
      "cell_type": "markdown",
      "metadata": {
        "id": "jRDuJsGCgxCO"
      },
      "source": [
        "# HW3 Image Classification\n",
        "## We strongly recommend that you run with Kaggle for this homework\n"
      ]
    },
    {
      "cell_type": "markdown",
      "metadata": {
        "id": "EVgrPb3HhJUT"
      },
      "source": [
        "# Get Data\n",
        "Notes: if the links are dead, you can download the data directly from Kaggle and upload it to the workspace, or you can use the Kaggle API to directly download the data into colab.\n"
      ]
    },
    {
      "cell_type": "code",
      "execution_count": 1,
      "metadata": {
        "_cell_guid": "b1076dfc-b9ad-4769-8c92-a6c4dae69d19",
        "_uuid": "8f2839f25d086af736a60e9eeb907d3b93b6e0e5",
        "colab": {
          "base_uri": "https://localhost:8080/"
        },
        "execution": {
          "iopub.execute_input": "2022-03-03T13:07:43.697626Z",
          "iopub.status.busy": "2022-03-03T13:07:43.697321Z",
          "iopub.status.idle": "2022-03-03T13:07:49.305932Z",
          "shell.execute_reply": "2022-03-03T13:07:49.305076Z",
          "shell.execute_reply.started": "2022-03-03T13:07:43.697542Z"
        },
        "id": "EAO6dg9eVaU_",
        "outputId": "6ab4a9f9-8dd6-4259-8d1e-1215e6521486",
        "papermill": {
          "duration": 19.351342,
          "end_time": "2022-02-23T10:03:06.247288",
          "exception": false,
          "start_time": "2022-02-23T10:02:46.895946",
          "status": "completed"
        },
        "tags": []
      },
      "outputs": [],
      "source": [
        "# ! wget https://www.dropbox.com/s/6l2vcvxl54b0b6w/food11.zip"
      ]
    },
    {
      "cell_type": "code",
      "execution_count": 2,
      "metadata": {
        "colab": {
          "base_uri": "https://localhost:8080/"
        },
        "id": "HEsBm1lkhGmk",
        "outputId": "8ade0916-a2f5-4174-81d6-74134cbbe7b6"
      },
      "outputs": [],
      "source": [
        "# ! unzip food11.zip"
      ]
    },
    {
      "cell_type": "markdown",
      "metadata": {
        "id": "n5ceUnRihL-f"
      },
      "source": [
        "# Training"
      ]
    },
    {
      "cell_type": "code",
      "execution_count": 3,
      "metadata": {
        "execution": {
          "iopub.execute_input": "2022-03-03T13:07:49.308172Z",
          "iopub.status.busy": "2022-03-03T13:07:49.307662Z",
          "iopub.status.idle": "2022-03-03T13:07:49.313283Z",
          "shell.execute_reply": "2022-03-03T13:07:49.311435Z",
          "shell.execute_reply.started": "2022-03-03T13:07:49.308134Z"
        },
        "id": "ay3WkYnHVaVE",
        "papermill": {
          "duration": 0.0189,
          "end_time": "2022-02-23T10:03:06.279758",
          "exception": false,
          "start_time": "2022-02-23T10:03:06.260858",
          "status": "completed"
        },
        "tags": [],
        "trusted": true
      },
      "outputs": [],
      "source": [
        "_exp_name = \"sample\""
      ]
    },
    {
      "cell_type": "code",
      "execution_count": 4,
      "metadata": {
        "execution": {
          "iopub.execute_input": "2022-03-03T13:07:49.315997Z",
          "iopub.status.busy": "2022-03-03T13:07:49.314913Z",
          "iopub.status.idle": "2022-03-03T13:07:50.877804Z",
          "shell.execute_reply": "2022-03-03T13:07:50.877072Z",
          "shell.execute_reply.started": "2022-03-03T13:07:49.315959Z"
        },
        "id": "CwOGtRWHVaVF",
        "papermill": {
          "duration": 1.654263,
          "end_time": "2022-02-23T10:03:07.947242",
          "exception": false,
          "start_time": "2022-02-23T10:03:06.292979",
          "status": "completed"
        },
        "tags": [],
        "trusted": true
      },
      "outputs": [
        {
          "name": "stderr",
          "output_type": "stream",
          "text": [
            "/home/stellarlane/anaconda3/envs/ml22sp/lib/python3.12/site-packages/tqdm/auto.py:21: TqdmWarning: IProgress not found. Please update jupyter and ipywidgets. See https://ipywidgets.readthedocs.io/en/stable/user_install.html\n",
            "  from .autonotebook import tqdm as notebook_tqdm\n"
          ]
        }
      ],
      "source": [
        "# Import necessary packages.\n",
        "import numpy as np\n",
        "import pandas as pd\n",
        "import torch\n",
        "import os\n",
        "import torch.nn as nn\n",
        "import torchvision.transforms as transforms\n",
        "import timm\n",
        "from PIL import Image\n",
        "# \"ConcatDataset\" and \"Subset\" are possibly useful when doing semi-supervised learning.\n",
        "from torch.utils.data import ConcatDataset, DataLoader, Subset, Dataset\n",
        "from torchvision.datasets import DatasetFolder, VisionDataset\n",
        "from torch.optim.lr_scheduler import CosineAnnealingLR\n",
        "# This is for the progress bar.\n",
        "from tqdm.auto import tqdm\n",
        "import random"
      ]
    },
    {
      "cell_type": "code",
      "execution_count": 5,
      "metadata": {
        "execution": {
          "iopub.execute_input": "2022-03-03T13:07:50.879924Z",
          "iopub.status.busy": "2022-03-03T13:07:50.879715Z",
          "iopub.status.idle": "2022-03-03T13:07:50.93271Z",
          "shell.execute_reply": "2022-03-03T13:07:50.932056Z",
          "shell.execute_reply.started": "2022-03-03T13:07:50.879894Z"
        },
        "id": "8kJm9GekVaVH",
        "papermill": {
          "duration": 0.078771,
          "end_time": "2022-02-23T10:03:08.039428",
          "exception": false,
          "start_time": "2022-02-23T10:03:07.960657",
          "status": "completed"
        },
        "tags": [],
        "trusted": true
      },
      "outputs": [],
      "source": [
        "myseed = 6666  # set a random seed for reproducibility\n",
        "torch.backends.cudnn.deterministic = True\n",
        "torch.backends.cudnn.benchmark = False\n",
        "np.random.seed(myseed)\n",
        "torch.manual_seed(myseed)\n",
        "if torch.cuda.is_available():\n",
        "    torch.cuda.manual_seed_all(myseed)"
      ]
    },
    {
      "cell_type": "markdown",
      "metadata": {
        "id": "d9MVtgbSVaVH",
        "papermill": {
          "duration": 0.01289,
          "end_time": "2022-02-23T10:03:08.065357",
          "exception": false,
          "start_time": "2022-02-23T10:03:08.052467",
          "status": "completed"
        },
        "tags": []
      },
      "source": [
        "## **Transforms**\n",
        "Torchvision provides lots of useful utilities for image preprocessing, data wrapping as well as data augmentation.\n",
        "\n",
        "Please refer to PyTorch official website for details about different transforms."
      ]
    },
    {
      "cell_type": "code",
      "execution_count": 6,
      "metadata": {
        "execution": {
          "iopub.execute_input": "2022-03-03T13:07:50.935618Z",
          "iopub.status.busy": "2022-03-03T13:07:50.935424Z",
          "iopub.status.idle": "2022-03-03T13:07:50.942922Z",
          "shell.execute_reply": "2022-03-03T13:07:50.942191Z",
          "shell.execute_reply.started": "2022-03-03T13:07:50.935594Z"
        },
        "id": "jvI3Xmq4VaVJ",
        "papermill": {
          "duration": 0.021406,
          "end_time": "2022-02-23T10:03:08.099437",
          "exception": false,
          "start_time": "2022-02-23T10:03:08.078031",
          "status": "completed"
        },
        "tags": [],
        "trusted": true
      },
      "outputs": [],
      "source": [
        "# Normally, We don't need augmentations in testing and validation.\n",
        "# All we need here is to resize the PIL image and transform it into Tensor.\n",
        "test_tfm = transforms.Compose([\n",
        "    transforms.Resize((128, 128)),\n",
        "    transforms.ToTensor(),\n",
        "])\n",
        "\n",
        "# However, it is also possible to use augmentation in the testing phase.\n",
        "# You may use train_tfm to produce a variety of images and then test using ensemble methods\n",
        "train_tfm = transforms.Compose([\n",
        "    # Resize the image into a fixed shape (height = width = 128)\n",
        "    transforms.Resize((128, 128)),\n",
        "    # You may add some transforms here.\n",
        "    transforms.RandomHorizontalFlip(p=0.1),\n",
        "    transforms.RandomVerticalFlip(p=0.1),\n",
        "    transforms.ColorJitter(brightness=0.2,contrast=0.2,saturation=0.2,hue=0.01),\n",
        "    transforms.RandomAffine(15,(0.01,0.1),(0.01,1),10),\n",
        "    # ToTensor() should be the last one of the transforms.\n",
        "    transforms.ToTensor(),\n",
        "])\n"
      ]
    },
    {
      "cell_type": "markdown",
      "metadata": {
        "id": "D0ivMf-jVaVK",
        "papermill": {
          "duration": 0.012739,
          "end_time": "2022-02-23T10:03:08.125181",
          "exception": false,
          "start_time": "2022-02-23T10:03:08.112442",
          "status": "completed"
        },
        "tags": []
      },
      "source": [
        "## **Datasets**\n",
        "The data is labelled by the name, so we load images and label while calling '__getitem__'"
      ]
    },
    {
      "cell_type": "code",
      "execution_count": 7,
      "metadata": {
        "execution": {
          "iopub.execute_input": "2022-03-03T13:07:50.945969Z",
          "iopub.status.busy": "2022-03-03T13:07:50.945683Z",
          "iopub.status.idle": "2022-03-03T13:07:50.954587Z",
          "shell.execute_reply": "2022-03-03T13:07:50.953785Z",
          "shell.execute_reply.started": "2022-03-03T13:07:50.94592Z"
        },
        "id": "xBdtPhKwVaVL",
        "papermill": {
          "duration": 0.023022,
          "end_time": "2022-02-23T10:03:08.160912",
          "exception": false,
          "start_time": "2022-02-23T10:03:08.13789",
          "status": "completed"
        },
        "tags": [],
        "trusted": true
      },
      "outputs": [],
      "source": [
        "class FoodDataset(Dataset):\n",
        "\n",
        "    def __init__(self,path,tfm=test_tfm,files = None):\n",
        "        super(FoodDataset).__init__()\n",
        "        self.path = path\n",
        "        self.files = sorted([os.path.join(path,x) for x in os.listdir(path) if x.endswith(\".jpg\")])\n",
        "        if files != None:\n",
        "            self.files = files\n",
        "        print(f\"One {path} sample\",self.files[0])\n",
        "        self.transform = tfm\n",
        "  \n",
        "    def __len__(self):\n",
        "        return len(self.files)\n",
        "  \n",
        "    def __getitem__(self,idx):\n",
        "        fname = self.files[idx]\n",
        "        im = Image.open(fname)\n",
        "        im = self.transform(im)\n",
        "        #im = self.data[idx]\n",
        "        try:\n",
        "            label = int(fname.split(\"/\")[-1].split(\"_\")[0])\n",
        "        except:\n",
        "            label = -1 # test has no label\n",
        "        return im,label\n",
        "\n"
      ]
    },
    {
      "cell_type": "code",
      "execution_count": 8,
      "metadata": {
        "execution": {
          "iopub.execute_input": "2022-03-03T13:07:50.956055Z",
          "iopub.status.busy": "2022-03-03T13:07:50.955744Z",
          "iopub.status.idle": "2022-03-03T13:07:50.969275Z",
          "shell.execute_reply": "2022-03-03T13:07:50.968626Z",
          "shell.execute_reply.started": "2022-03-03T13:07:50.955996Z"
        },
        "id": "b_kDECOJVaVL",
        "papermill": {
          "duration": 0.0258,
          "end_time": "2022-02-23T10:03:08.199437",
          "exception": false,
          "start_time": "2022-02-23T10:03:08.173637",
          "status": "completed"
        },
        "tags": [],
        "trusted": true
      },
      "outputs": [],
      "source": [
        "class Classifier(nn.Module):\n",
        "    def __init__(self):\n",
        "        super(Classifier, self).__init__()\n",
        "        # torch.nn.Conv2d(in_channels, out_channels, kernel_size, stride, padding)\n",
        "        # torch.nn.MaxPool2d(kernel_size, stride, padding)\n",
        "        # input 維度 [3, 128, 128]\n",
        "        self.cnn = nn.Sequential(\n",
        "            nn.Conv2d(3, 64, 3, 1, 1),  # [64, 128, 128]\n",
        "            nn.BatchNorm2d(64),\n",
        "            nn.ReLU(),\n",
        "            nn.MaxPool2d(2, 2, 0),      # [64, 64, 64]\n",
        "\n",
        "            nn.Conv2d(64, 128, 3, 1, 1), # [128, 64, 64]\n",
        "            nn.BatchNorm2d(128),\n",
        "            nn.ReLU(),\n",
        "            nn.MaxPool2d(2, 2, 0),      # [128, 32, 32]\n",
        "\n",
        "            nn.Conv2d(128, 256, 3, 1, 1), # [256, 32, 32]\n",
        "            nn.BatchNorm2d(256),\n",
        "            nn.ReLU(),\n",
        "            nn.MaxPool2d(2, 2, 0),      # [256, 16, 16]\n",
        "\n",
        "            nn.Conv2d(256, 512, 3, 1, 1), # [512, 16, 16]\n",
        "            nn.BatchNorm2d(512),\n",
        "            nn.ReLU(),\n",
        "            nn.MaxPool2d(2, 2, 0),       # [512, 8, 8]\n",
        "            \n",
        "            nn.Conv2d(512, 512, 3, 1, 1), # [512, 8, 8]\n",
        "            nn.BatchNorm2d(512),\n",
        "            nn.ReLU(),\n",
        "            nn.MaxPool2d(2, 2, 0),       # [512, 4, 4]\n",
        "        )\n",
        "        self.fc = nn.Sequential(\n",
        "            nn.Linear(512*4*4, 1024),\n",
        "            nn.ReLU(),\n",
        "            nn.Linear(1024, 1024),\n",
        "            nn.ReLU(),\n",
        "            nn.Linear(1024, 1024),\n",
        "            nn.ReLU(),\n",
        "            nn.Linear(1024,32),\n",
        "            nn.ReLU(),\n",
        "            nn.Linear(32, 11)\n",
        "        )\n",
        "\n",
        "    def forward(self, x):\n",
        "        out = self.cnn(x)\n",
        "        out = out.view(out.size()[0], -1)\n",
        "        return self.fc(out)\n",
        "    \n",
        "from torch import nn\n",
        "class Residual_Network(nn.Module):\n",
        "    def __init__(self):\n",
        "        super(Residual_Network, self).__init__()\n",
        "        \n",
        "        self.cnn_layer1 = nn.Sequential(\n",
        "            nn.Conv2d(3, 64, 3, 1, 1),\n",
        "            nn.BatchNorm2d(64),\n",
        "            # nn.LeakyReLU(),\n",
        "            # nn.MaxPool2d(2,2,0)\n",
        "        )\n",
        "\n",
        "        self.cnn_layer2 = nn.Sequential(\n",
        "            nn.Conv2d(64, 64, 3, 1, 1),\n",
        "            nn.BatchNorm2d(64),\n",
        "            # nn.LeakyReLU(),\n",
        "            # nn.MaxPool2d(2,2,0)\n",
        "        )\n",
        "\n",
        "        self.cnn_layer3 = nn.Sequential(\n",
        "            nn.Conv2d(64, 128, 3, 2, 1),\n",
        "            nn.BatchNorm2d(128),\n",
        "            # nn.LeakyReLU(),\n",
        "            # nn.MaxPool2d(2,2,0)\n",
        "        )\n",
        "\n",
        "        self.cnn_layer4 = nn.Sequential(\n",
        "            nn.Conv2d(128, 128, 3, 1, 1),\n",
        "            nn.BatchNorm2d(128),\n",
        "            # nn.LeakyReLU(),\n",
        "            # nn.MaxPool2d(2,2,0)\n",
        "        )\n",
        "        self.cnn_layer5 = nn.Sequential(\n",
        "            nn.Conv2d(128, 256, 3, 2, 1),\n",
        "            nn.BatchNorm2d(256),\n",
        "            # nn.LeakyReLU(),\n",
        "            # nn.MaxPool2d(2,2,0)\n",
        "        )\n",
        "        self.cnn_layer6 = nn.Sequential(\n",
        "            nn.Conv2d(256, 256, 3, 1, 1),\n",
        "            nn.BatchNorm2d(256),\n",
        "            # nn.LeakyReLU(),\n",
        "            # nn.MaxPool2d(2,2,0)\n",
        "        )\n",
        "        self.fc_layer = nn.Sequential(\n",
        "            nn.Linear(256* 32* 32, 256),\n",
        "            nn.LeakyReLU(),\n",
        "            nn.Linear(256, 11)\n",
        "            \n",
        "        )\n",
        "        self.relu = nn.LeakyReLU()\n",
        "\n",
        "    def forward(self, x):\n",
        "        # input (x): [batch_size, 3, 128, 128]\n",
        "        # output: [batch_size, 11]\n",
        "        # Extract features by convolutional layers.\n",
        "        x1 = self.cnn_layer1(x)\n",
        "        x1 = self.relu(x1)\n",
        "        x2 = self.cnn_layer2(x1)\n",
        "        x2=x1+x2\n",
        "        x2 = self.relu(x2)\n",
        "        x3 = self.cnn_layer3(x2)\n",
        "        x3 = self.relu(x3)\n",
        "        x4 = self.cnn_layer4(x3)\n",
        "        x4=x3+x4\n",
        "        x4 = self.relu(x4)\n",
        "        x5 = self.cnn_layer5(x4)\n",
        "        x5 = self.relu(x5)\n",
        "        x6 = self.cnn_layer6(x5)\n",
        "        x5=x6+x5\n",
        "        x6 = self.relu(x6)\n",
        "        \n",
        "        # The extracted feature map must be flatten before going to fully-connected layers.\n",
        "        xout = x6.flatten(1)\n",
        "\n",
        "        # The features are transformed by fully-connected layers to obtain the final logits.\n",
        "        xout = self.fc_layer(xout)\n",
        "        return xout\n",
        "\n"
      ]
    },
    {
      "cell_type": "code",
      "execution_count": 9,
      "metadata": {
        "colab": {
          "base_uri": "https://localhost:8080/"
        },
        "execution": {
          "iopub.execute_input": "2022-03-03T13:07:50.972575Z",
          "iopub.status.busy": "2022-03-03T13:07:50.972296Z",
          "iopub.status.idle": "2022-03-03T13:07:51.01795Z",
          "shell.execute_reply": "2022-03-03T13:07:51.017303Z",
          "shell.execute_reply.started": "2022-03-03T13:07:50.972549Z"
        },
        "id": "2_OeWtstVaVO",
        "outputId": "003fe08b-819a-499a-d411-f6073b97d48b",
        "papermill": {
          "duration": 0.054295,
          "end_time": "2022-02-23T10:03:08.266338",
          "exception": false,
          "start_time": "2022-02-23T10:03:08.212043",
          "status": "completed"
        },
        "tags": [],
        "trusted": true
      },
      "outputs": [
        {
          "name": "stdout",
          "output_type": "stream",
          "text": [
            "One ./food11/training sample ./food11/training/0_0.jpg\n",
            "One ./food11/validation sample ./food11/validation/0_0.jpg\n"
          ]
        }
      ],
      "source": [
        "batch_size = 32\n",
        "_dataset_dir = \"./food11\"\n",
        "# Construct datasets.\n",
        "# The argument \"loader\" tells how torchvision reads the data.\n",
        "train_set = FoodDataset(os.path.join(_dataset_dir,\"training\"), tfm=train_tfm)\n",
        "train_loader = DataLoader(train_set, batch_size=batch_size, shuffle=True, num_workers=0, pin_memory=True)\n",
        "valid_set = FoodDataset(os.path.join(_dataset_dir,\"validation\"), tfm=test_tfm)\n",
        "valid_loader = DataLoader(valid_set, batch_size=batch_size, shuffle=True, num_workers=0, pin_memory=True)"
      ]
    },
    {
      "cell_type": "code",
      "execution_count": 10,
      "metadata": {
        "colab": {
          "base_uri": "https://localhost:8080/",
          "height": 435,
          "referenced_widgets": [
            "40c953e50bea4456b3636ec468b32f14",
            "c9f6dda2f6c743f8b5e097ef9c37bbb2",
            "1adcd5d7b2d64095b7f4009206843375",
            "50fdf3a8769e4e088045397cf582f24e",
            "bccc745f50c44be481e792082dc56bdc",
            "3a0761a5580441afa603aae4a9f940f5",
            "8080593c6cca4c54ac01a5346a400469",
            "d1428b9747444a5795ee4ab454f2d561",
            "2568e2a9a63940a1afc4bf99297f43c5",
            "498da906503141ffabdbd3406d008523",
            "e57e20ff9025496692f9e38184d83221",
            "21df1b0c3af1404db71f92815ce4f7e2",
            "cc6cfc6957df4777a60c22518a513add",
            "5705c9836e6744798ebf26e082624ad6",
            "7b2f9765b52140949f5107490b1a19cf",
            "87a51e79aefe4d37aa4a61d2537eb164",
            "8b757d6eb91b4fed8a23bf1f41a7cfd2",
            "455f6d586b094606a36ed3dd967102c9",
            "2f9c9c8c00f145778e35bacaa59a8b5e",
            "bf326d803d0c43a6ad27b6ade626af7e",
            "0193eae66b6d44d98c8c7af1c3ca245e",
            "94e8fcba033a4d6d8be5c31f8435427c",
            "5a7f7e01edbf4429a4adc7ced4304fca",
            "112b45da977a43be81589781387fcb25",
            "34b9d75cfa3e4e5ebde73f84a233c7c9",
            "c59c72e2c7f04b549a45f2267cbb94fe",
            "3eb723e514bf410997e58e12b2aa9870",
            "01f202ceca4c432fb25cf1adceadddd4",
            "606cca0455f941a0873c1af403505a7c",
            "ff674b6f3a484cf683bfe5385d798c3c",
            "f829df6953e740a19edfaa52f7ef9571",
            "4157cbb8f5b7489683669b25b583b324",
            "5d246b05af2e440eb1eb46ee1f3685b3",
            "c894a6d22ca84dcd87a7b54557b9ef03",
            "20bffe91f7b7419f97fdcbf8802002b2",
            "7d6f69caa40146798c57e9d07c946203",
            "60d2c08bdb7648a984770c04f709fe0e",
            "0b319f5705bf4c1f88e7ff53951d7486",
            "a2964dbea2e2484c9a6b41f7c732071b",
            "002050c9657448f3836ddeb14757026f",
            "d1785aa220e54739b611cc3ec832bb92",
            "4392f8b04afa43d387fb6338577c889d",
            "940659b9b3c74d0c99d170abf6b4c22f",
            "a40ef0d028874f328aa2bfa36af5c1f9",
            "669ca3f9058a41b991203298f4046b26",
            "be043829292e4029bbcbc4bbf68634a6",
            "2ce21509b5254cd082ddbaeab13481fa",
            "61ed9e0c1a7949b7bb916c0ab5b9be39",
            "1419c935e12a43c6ad282126e220b04f",
            "05620cbadedf4d6ea05468ed8fe174bb",
            "3410d1eb883e4676b83f736a0b3c7ac0",
            "082f25ab850d4935b0843b0726e4db86",
            "1e6ed1370acc4a6192a6977311d4fefe",
            "0ce96c05d8b7417ea552b7a0a5db757f",
            "51fc23b7d9e54434aabb27a0fdbdb0ef",
            "aa9cd7d0ffb2405c9cb1756644a59752",
            "629f28ab51254b83b47ad07ead1f6827",
            "5ac6bf2dbe224a078c2e3fa349e0ae6e",
            "4b7d4d1dadd44039bbe954ff12f5421c",
            "fa9320b10cbb4448a63526be9492c4c7",
            "7555c0cdbb3c4bc78281d0ce30b6d50a",
            "37cb05e865ae4e93aeae6dcadc516a32",
            "e081dbdcd04547489bcf374e22a343cc",
            "ea92a75640ba4b0da70c1592f555b006",
            "3e728be5faf84b7d9c1eea54547938c1",
            "7c3ffac62aa04f568b90499734bf725b"
          ]
        },
        "execution": {
          "iopub.execute_input": "2022-03-03T13:07:51.019338Z",
          "iopub.status.busy": "2022-03-03T13:07:51.019126Z",
          "iopub.status.idle": "2022-03-03T13:12:03.270333Z",
          "shell.execute_reply": "2022-03-03T13:12:03.269658Z",
          "shell.execute_reply.started": "2022-03-03T13:07:51.019309Z"
        },
        "id": "zbVkfIFhVaVO",
        "outputId": "3d1efca0-a963-4b95-9051-e60e367d36e2",
        "papermill": {
          "duration": 32830.720158,
          "end_time": "2022-02-23T19:10:19.001001",
          "exception": false,
          "start_time": "2022-02-23T10:03:08.280843",
          "status": "completed"
        },
        "tags": [],
        "trusted": true
      },
      "outputs": [
        {
          "name": "stderr",
          "output_type": "stream",
          "text": [
            "100%|██████████| 309/309 [01:26<00:00,  3.57it/s]\n"
          ]
        },
        {
          "name": "stdout",
          "output_type": "stream",
          "text": [
            "[ Train | 001/150 ] loss = 3.15667, acc = 0.15959\n"
          ]
        },
        {
          "name": "stderr",
          "output_type": "stream",
          "text": [
            "100%|██████████| 108/108 [00:18<00:00,  5.80it/s]\n"
          ]
        },
        {
          "name": "stdout",
          "output_type": "stream",
          "text": [
            "[ Valid | 001/150 ] loss = 2.50291, acc = 0.20264\n",
            "[ Valid | 001/150 ] loss = 2.50291, acc = 0.20264 -> best\n",
            "Best model found at epoch 0, saving model\n"
          ]
        },
        {
          "name": "stderr",
          "output_type": "stream",
          "text": [
            "100%|██████████| 309/309 [01:26<00:00,  3.58it/s]\n"
          ]
        },
        {
          "name": "stdout",
          "output_type": "stream",
          "text": [
            "[ Train | 002/150 ] loss = 2.20040, acc = 0.23194\n"
          ]
        },
        {
          "name": "stderr",
          "output_type": "stream",
          "text": [
            "100%|██████████| 108/108 [00:18<00:00,  5.90it/s]\n"
          ]
        },
        {
          "name": "stdout",
          "output_type": "stream",
          "text": [
            "[ Valid | 002/150 ] loss = 2.15531, acc = 0.26061\n",
            "[ Valid | 002/150 ] loss = 2.15531, acc = 0.26061 -> best\n",
            "Best model found at epoch 1, saving model\n"
          ]
        },
        {
          "name": "stderr",
          "output_type": "stream",
          "text": [
            "100%|██████████| 309/309 [01:25<00:00,  3.60it/s]\n"
          ]
        },
        {
          "name": "stdout",
          "output_type": "stream",
          "text": [
            "[ Train | 003/150 ] loss = 2.12779, acc = 0.24591\n"
          ]
        },
        {
          "name": "stderr",
          "output_type": "stream",
          "text": [
            "100%|██████████| 108/108 [00:18<00:00,  5.88it/s]\n"
          ]
        },
        {
          "name": "stdout",
          "output_type": "stream",
          "text": [
            "[ Valid | 003/150 ] loss = 2.19502, acc = 0.29581\n",
            "[ Valid | 003/150 ] loss = 2.19502, acc = 0.29581 -> best\n",
            "Best model found at epoch 2, saving model\n"
          ]
        },
        {
          "name": "stderr",
          "output_type": "stream",
          "text": [
            "100%|██████████| 309/309 [01:25<00:00,  3.61it/s]\n"
          ]
        },
        {
          "name": "stdout",
          "output_type": "stream",
          "text": [
            "[ Train | 004/150 ] loss = 2.08190, acc = 0.25722\n"
          ]
        },
        {
          "name": "stderr",
          "output_type": "stream",
          "text": [
            "100%|██████████| 108/108 [00:18<00:00,  5.94it/s]\n"
          ]
        },
        {
          "name": "stdout",
          "output_type": "stream",
          "text": [
            "[ Valid | 004/150 ] loss = 2.08605, acc = 0.25608\n",
            "[ Valid | 004/150 ] loss = 2.08605, acc = 0.25608\n"
          ]
        },
        {
          "name": "stderr",
          "output_type": "stream",
          "text": [
            "100%|██████████| 309/309 [01:25<00:00,  3.61it/s]\n"
          ]
        },
        {
          "name": "stdout",
          "output_type": "stream",
          "text": [
            "[ Train | 005/150 ] loss = 2.05559, acc = 0.27069\n"
          ]
        },
        {
          "name": "stderr",
          "output_type": "stream",
          "text": [
            "100%|██████████| 108/108 [00:18<00:00,  5.89it/s]\n"
          ]
        },
        {
          "name": "stdout",
          "output_type": "stream",
          "text": [
            "[ Valid | 005/150 ] loss = 2.38568, acc = 0.21393\n",
            "[ Valid | 005/150 ] loss = 2.38568, acc = 0.21393\n"
          ]
        },
        {
          "name": "stderr",
          "output_type": "stream",
          "text": [
            "100%|██████████| 309/309 [01:25<00:00,  3.61it/s]\n"
          ]
        },
        {
          "name": "stdout",
          "output_type": "stream",
          "text": [
            "[ Train | 006/150 ] loss = 2.02702, acc = 0.27759\n"
          ]
        },
        {
          "name": "stderr",
          "output_type": "stream",
          "text": [
            "100%|██████████| 108/108 [00:18<00:00,  5.94it/s]\n"
          ]
        },
        {
          "name": "stdout",
          "output_type": "stream",
          "text": [
            "[ Valid | 006/150 ] loss = 1.93753, acc = 0.32812\n",
            "[ Valid | 006/150 ] loss = 1.93753, acc = 0.32812 -> best\n",
            "Best model found at epoch 5, saving model\n"
          ]
        },
        {
          "name": "stderr",
          "output_type": "stream",
          "text": [
            "100%|██████████| 309/309 [01:25<00:00,  3.61it/s]\n"
          ]
        },
        {
          "name": "stdout",
          "output_type": "stream",
          "text": [
            "[ Train | 007/150 ] loss = 1.99188, acc = 0.29731\n"
          ]
        },
        {
          "name": "stderr",
          "output_type": "stream",
          "text": [
            "100%|██████████| 108/108 [00:18<00:00,  5.91it/s]\n"
          ]
        },
        {
          "name": "stdout",
          "output_type": "stream",
          "text": [
            "[ Valid | 007/150 ] loss = 1.97825, acc = 0.33382\n",
            "[ Valid | 007/150 ] loss = 1.97825, acc = 0.33382 -> best\n",
            "Best model found at epoch 6, saving model\n"
          ]
        },
        {
          "name": "stderr",
          "output_type": "stream",
          "text": [
            "100%|██████████| 309/309 [01:25<00:00,  3.61it/s]\n"
          ]
        },
        {
          "name": "stdout",
          "output_type": "stream",
          "text": [
            "[ Train | 008/150 ] loss = 1.95458, acc = 0.31135\n"
          ]
        },
        {
          "name": "stderr",
          "output_type": "stream",
          "text": [
            "100%|██████████| 108/108 [00:18<00:00,  5.87it/s]\n"
          ]
        },
        {
          "name": "stdout",
          "output_type": "stream",
          "text": [
            "[ Valid | 008/150 ] loss = 1.89108, acc = 0.34616\n",
            "[ Valid | 008/150 ] loss = 1.89108, acc = 0.34616 -> best\n",
            "Best model found at epoch 7, saving model\n"
          ]
        },
        {
          "name": "stderr",
          "output_type": "stream",
          "text": [
            "100%|██████████| 309/309 [01:25<00:00,  3.61it/s]\n"
          ]
        },
        {
          "name": "stdout",
          "output_type": "stream",
          "text": [
            "[ Train | 009/150 ] loss = 1.92907, acc = 0.32201\n"
          ]
        },
        {
          "name": "stderr",
          "output_type": "stream",
          "text": [
            "100%|██████████| 108/108 [00:18<00:00,  5.91it/s]\n"
          ]
        },
        {
          "name": "stdout",
          "output_type": "stream",
          "text": [
            "[ Valid | 009/150 ] loss = 1.88267, acc = 0.35687\n",
            "[ Valid | 009/150 ] loss = 1.88267, acc = 0.35687 -> best\n",
            "Best model found at epoch 8, saving model\n"
          ]
        },
        {
          "name": "stderr",
          "output_type": "stream",
          "text": [
            "100%|██████████| 309/309 [01:25<00:00,  3.61it/s]\n"
          ]
        },
        {
          "name": "stdout",
          "output_type": "stream",
          "text": [
            "[ Train | 010/150 ] loss = 1.87752, acc = 0.33572\n"
          ]
        },
        {
          "name": "stderr",
          "output_type": "stream",
          "text": [
            "100%|██████████| 108/108 [00:18<00:00,  5.89it/s]\n"
          ]
        },
        {
          "name": "stdout",
          "output_type": "stream",
          "text": [
            "[ Valid | 010/150 ] loss = 1.98476, acc = 0.33758\n",
            "[ Valid | 010/150 ] loss = 1.98476, acc = 0.33758\n"
          ]
        },
        {
          "name": "stderr",
          "output_type": "stream",
          "text": [
            "100%|██████████| 309/309 [01:25<00:00,  3.61it/s]\n"
          ]
        },
        {
          "name": "stdout",
          "output_type": "stream",
          "text": [
            "[ Train | 011/150 ] loss = 1.85558, acc = 0.34980\n"
          ]
        },
        {
          "name": "stderr",
          "output_type": "stream",
          "text": [
            "100%|██████████| 108/108 [00:18<00:00,  5.91it/s]\n"
          ]
        },
        {
          "name": "stdout",
          "output_type": "stream",
          "text": [
            "[ Valid | 011/150 ] loss = 1.68984, acc = 0.41638\n",
            "[ Valid | 011/150 ] loss = 1.68984, acc = 0.41638 -> best\n",
            "Best model found at epoch 10, saving model\n"
          ]
        },
        {
          "name": "stderr",
          "output_type": "stream",
          "text": [
            "100%|██████████| 309/309 [01:25<00:00,  3.61it/s]\n"
          ]
        },
        {
          "name": "stdout",
          "output_type": "stream",
          "text": [
            "[ Train | 012/150 ] loss = 1.80979, acc = 0.36547\n"
          ]
        },
        {
          "name": "stderr",
          "output_type": "stream",
          "text": [
            "100%|██████████| 108/108 [00:18<00:00,  5.91it/s]\n"
          ]
        },
        {
          "name": "stdout",
          "output_type": "stream",
          "text": [
            "[ Valid | 012/150 ] loss = 1.75977, acc = 0.39902\n",
            "[ Valid | 012/150 ] loss = 1.75977, acc = 0.39902\n"
          ]
        },
        {
          "name": "stderr",
          "output_type": "stream",
          "text": [
            "100%|██████████| 309/309 [01:25<00:00,  3.60it/s]\n"
          ]
        },
        {
          "name": "stdout",
          "output_type": "stream",
          "text": [
            "[ Train | 013/150 ] loss = 1.79068, acc = 0.37710\n"
          ]
        },
        {
          "name": "stderr",
          "output_type": "stream",
          "text": [
            "100%|██████████| 108/108 [00:18<00:00,  5.87it/s]\n"
          ]
        },
        {
          "name": "stdout",
          "output_type": "stream",
          "text": [
            "[ Valid | 013/150 ] loss = 1.64266, acc = 0.44068\n",
            "[ Valid | 013/150 ] loss = 1.64266, acc = 0.44068 -> best\n",
            "Best model found at epoch 12, saving model\n"
          ]
        },
        {
          "name": "stderr",
          "output_type": "stream",
          "text": [
            "100%|██████████| 309/309 [01:25<00:00,  3.61it/s]\n"
          ]
        },
        {
          "name": "stdout",
          "output_type": "stream",
          "text": [
            "[ Train | 014/150 ] loss = 1.75365, acc = 0.38645\n"
          ]
        },
        {
          "name": "stderr",
          "output_type": "stream",
          "text": [
            "100%|██████████| 108/108 [00:18<00:00,  5.91it/s]\n"
          ]
        },
        {
          "name": "stdout",
          "output_type": "stream",
          "text": [
            "[ Valid | 014/150 ] loss = 2.48937, acc = 0.28723\n",
            "[ Valid | 014/150 ] loss = 2.48937, acc = 0.28723\n"
          ]
        },
        {
          "name": "stderr",
          "output_type": "stream",
          "text": [
            "100%|██████████| 309/309 [01:25<00:00,  3.61it/s]\n"
          ]
        },
        {
          "name": "stdout",
          "output_type": "stream",
          "text": [
            "[ Train | 015/150 ] loss = 1.73831, acc = 0.39231\n"
          ]
        },
        {
          "name": "stderr",
          "output_type": "stream",
          "text": [
            "100%|██████████| 108/108 [00:18<00:00,  5.91it/s]\n"
          ]
        },
        {
          "name": "stdout",
          "output_type": "stream",
          "text": [
            "[ Valid | 015/150 ] loss = 1.62221, acc = 0.45583\n",
            "[ Valid | 015/150 ] loss = 1.62221, acc = 0.45583 -> best\n",
            "Best model found at epoch 14, saving model\n"
          ]
        },
        {
          "name": "stderr",
          "output_type": "stream",
          "text": [
            "100%|██████████| 309/309 [01:25<00:00,  3.60it/s]\n"
          ]
        },
        {
          "name": "stdout",
          "output_type": "stream",
          "text": [
            "[ Train | 016/150 ] loss = 1.71778, acc = 0.40229\n"
          ]
        },
        {
          "name": "stderr",
          "output_type": "stream",
          "text": [
            "100%|██████████| 108/108 [00:18<00:00,  5.93it/s]\n"
          ]
        },
        {
          "name": "stdout",
          "output_type": "stream",
          "text": [
            "[ Valid | 016/150 ] loss = 1.73010, acc = 0.40683\n",
            "[ Valid | 016/150 ] loss = 1.73010, acc = 0.40683\n"
          ]
        },
        {
          "name": "stderr",
          "output_type": "stream",
          "text": [
            "100%|██████████| 309/309 [01:25<00:00,  3.60it/s]\n"
          ]
        },
        {
          "name": "stdout",
          "output_type": "stream",
          "text": [
            "[ Train | 017/150 ] loss = 1.66982, acc = 0.41547\n"
          ]
        },
        {
          "name": "stderr",
          "output_type": "stream",
          "text": [
            "100%|██████████| 108/108 [00:18<00:00,  5.88it/s]\n"
          ]
        },
        {
          "name": "stdout",
          "output_type": "stream",
          "text": [
            "[ Valid | 017/150 ] loss = 1.51081, acc = 0.47299\n",
            "[ Valid | 017/150 ] loss = 1.51081, acc = 0.47299 -> best\n",
            "Best model found at epoch 16, saving model\n"
          ]
        },
        {
          "name": "stderr",
          "output_type": "stream",
          "text": [
            "100%|██████████| 309/309 [01:25<00:00,  3.60it/s]\n"
          ]
        },
        {
          "name": "stdout",
          "output_type": "stream",
          "text": [
            "[ Train | 018/150 ] loss = 1.65258, acc = 0.42221\n"
          ]
        },
        {
          "name": "stderr",
          "output_type": "stream",
          "text": [
            "100%|██████████| 108/108 [00:18<00:00,  5.92it/s]\n"
          ]
        },
        {
          "name": "stdout",
          "output_type": "stream",
          "text": [
            "[ Valid | 018/150 ] loss = 1.74998, acc = 0.41570\n",
            "[ Valid | 018/150 ] loss = 1.74998, acc = 0.41570\n"
          ]
        },
        {
          "name": "stderr",
          "output_type": "stream",
          "text": [
            "100%|██████████| 309/309 [01:25<00:00,  3.59it/s]\n"
          ]
        },
        {
          "name": "stdout",
          "output_type": "stream",
          "text": [
            "[ Train | 019/150 ] loss = 1.62784, acc = 0.43123\n"
          ]
        },
        {
          "name": "stderr",
          "output_type": "stream",
          "text": [
            "100%|██████████| 108/108 [00:18<00:00,  5.89it/s]\n"
          ]
        },
        {
          "name": "stdout",
          "output_type": "stream",
          "text": [
            "[ Valid | 019/150 ] loss = 1.58224, acc = 0.48881\n",
            "[ Valid | 019/150 ] loss = 1.58224, acc = 0.48881 -> best\n",
            "Best model found at epoch 18, saving model\n"
          ]
        },
        {
          "name": "stderr",
          "output_type": "stream",
          "text": [
            "100%|██████████| 309/309 [01:25<00:00,  3.60it/s]\n"
          ]
        },
        {
          "name": "stdout",
          "output_type": "stream",
          "text": [
            "[ Train | 020/150 ] loss = 1.60870, acc = 0.43991\n"
          ]
        },
        {
          "name": "stderr",
          "output_type": "stream",
          "text": [
            "100%|██████████| 108/108 [00:18<00:00,  5.90it/s]\n"
          ]
        },
        {
          "name": "stdout",
          "output_type": "stream",
          "text": [
            "[ Valid | 020/150 ] loss = 1.57234, acc = 0.47010\n",
            "[ Valid | 020/150 ] loss = 1.57234, acc = 0.47010\n"
          ]
        },
        {
          "name": "stderr",
          "output_type": "stream",
          "text": [
            "100%|██████████| 309/309 [01:25<00:00,  3.60it/s]\n"
          ]
        },
        {
          "name": "stdout",
          "output_type": "stream",
          "text": [
            "[ Train | 021/150 ] loss = 1.59629, acc = 0.44761\n"
          ]
        },
        {
          "name": "stderr",
          "output_type": "stream",
          "text": [
            "100%|██████████| 108/108 [00:18<00:00,  5.91it/s]\n"
          ]
        },
        {
          "name": "stdout",
          "output_type": "stream",
          "text": [
            "[ Valid | 021/150 ] loss = 1.87801, acc = 0.40538\n",
            "[ Valid | 021/150 ] loss = 1.87801, acc = 0.40538\n"
          ]
        },
        {
          "name": "stderr",
          "output_type": "stream",
          "text": [
            "100%|██████████| 309/309 [01:25<00:00,  3.59it/s]\n"
          ]
        },
        {
          "name": "stdout",
          "output_type": "stream",
          "text": [
            "[ Train | 022/150 ] loss = 1.56490, acc = 0.46036\n"
          ]
        },
        {
          "name": "stderr",
          "output_type": "stream",
          "text": [
            "100%|██████████| 108/108 [00:18<00:00,  5.93it/s]\n"
          ]
        },
        {
          "name": "stdout",
          "output_type": "stream",
          "text": [
            "[ Valid | 022/150 ] loss = 1.57429, acc = 0.49518\n",
            "[ Valid | 022/150 ] loss = 1.57429, acc = 0.49518 -> best\n",
            "Best model found at epoch 21, saving model\n"
          ]
        },
        {
          "name": "stderr",
          "output_type": "stream",
          "text": [
            "100%|██████████| 309/309 [01:25<00:00,  3.61it/s]\n"
          ]
        },
        {
          "name": "stdout",
          "output_type": "stream",
          "text": [
            "[ Train | 023/150 ] loss = 1.55009, acc = 0.46553\n"
          ]
        },
        {
          "name": "stderr",
          "output_type": "stream",
          "text": [
            "100%|██████████| 108/108 [00:18<00:00,  5.90it/s]\n"
          ]
        },
        {
          "name": "stdout",
          "output_type": "stream",
          "text": [
            "[ Valid | 023/150 ] loss = 1.70479, acc = 0.44531\n",
            "[ Valid | 023/150 ] loss = 1.70479, acc = 0.44531\n"
          ]
        },
        {
          "name": "stderr",
          "output_type": "stream",
          "text": [
            "100%|██████████| 309/309 [01:25<00:00,  3.60it/s]\n"
          ]
        },
        {
          "name": "stdout",
          "output_type": "stream",
          "text": [
            "[ Train | 024/150 ] loss = 1.54130, acc = 0.46359\n"
          ]
        },
        {
          "name": "stderr",
          "output_type": "stream",
          "text": [
            "100%|██████████| 108/108 [00:18<00:00,  5.90it/s]\n"
          ]
        },
        {
          "name": "stdout",
          "output_type": "stream",
          "text": [
            "[ Valid | 024/150 ] loss = 1.47652, acc = 0.51157\n",
            "[ Valid | 024/150 ] loss = 1.47652, acc = 0.51157 -> best\n",
            "Best model found at epoch 23, saving model\n"
          ]
        },
        {
          "name": "stderr",
          "output_type": "stream",
          "text": [
            "100%|██████████| 309/309 [01:25<00:00,  3.60it/s]\n"
          ]
        },
        {
          "name": "stdout",
          "output_type": "stream",
          "text": [
            "[ Train | 025/150 ] loss = 1.51748, acc = 0.47162\n"
          ]
        },
        {
          "name": "stderr",
          "output_type": "stream",
          "text": [
            "100%|██████████| 108/108 [00:18<00:00,  5.92it/s]\n"
          ]
        },
        {
          "name": "stdout",
          "output_type": "stream",
          "text": [
            "[ Valid | 025/150 ] loss = 1.71437, acc = 0.47589\n",
            "[ Valid | 025/150 ] loss = 1.71437, acc = 0.47589\n"
          ]
        },
        {
          "name": "stderr",
          "output_type": "stream",
          "text": [
            "100%|██████████| 309/309 [01:25<00:00,  3.60it/s]\n"
          ]
        },
        {
          "name": "stdout",
          "output_type": "stream",
          "text": [
            "[ Train | 026/150 ] loss = 1.50163, acc = 0.48246\n"
          ]
        },
        {
          "name": "stderr",
          "output_type": "stream",
          "text": [
            "100%|██████████| 108/108 [00:18<00:00,  5.91it/s]\n"
          ]
        },
        {
          "name": "stdout",
          "output_type": "stream",
          "text": [
            "[ Valid | 026/150 ] loss = 1.69353, acc = 0.47010\n",
            "[ Valid | 026/150 ] loss = 1.69353, acc = 0.47010\n"
          ]
        },
        {
          "name": "stderr",
          "output_type": "stream",
          "text": [
            "100%|██████████| 309/309 [01:25<00:00,  3.60it/s]\n"
          ]
        },
        {
          "name": "stdout",
          "output_type": "stream",
          "text": [
            "[ Train | 027/150 ] loss = 1.47456, acc = 0.48740\n"
          ]
        },
        {
          "name": "stderr",
          "output_type": "stream",
          "text": [
            "100%|██████████| 108/108 [00:18<00:00,  5.88it/s]\n"
          ]
        },
        {
          "name": "stdout",
          "output_type": "stream",
          "text": [
            "[ Valid | 027/150 ] loss = 1.60736, acc = 0.48061\n",
            "[ Valid | 027/150 ] loss = 1.60736, acc = 0.48061\n"
          ]
        },
        {
          "name": "stderr",
          "output_type": "stream",
          "text": [
            "100%|██████████| 309/309 [01:25<00:00,  3.60it/s]\n"
          ]
        },
        {
          "name": "stdout",
          "output_type": "stream",
          "text": [
            "[ Train | 028/150 ] loss = 1.46668, acc = 0.49460\n"
          ]
        },
        {
          "name": "stderr",
          "output_type": "stream",
          "text": [
            "100%|██████████| 108/108 [00:18<00:00,  5.92it/s]\n"
          ]
        },
        {
          "name": "stdout",
          "output_type": "stream",
          "text": [
            "[ Valid | 028/150 ] loss = 1.51598, acc = 0.48843\n",
            "[ Valid | 028/150 ] loss = 1.51598, acc = 0.48843\n"
          ]
        },
        {
          "name": "stderr",
          "output_type": "stream",
          "text": [
            "100%|██████████| 309/309 [01:25<00:00,  3.60it/s]\n"
          ]
        },
        {
          "name": "stdout",
          "output_type": "stream",
          "text": [
            "[ Train | 029/150 ] loss = 1.44022, acc = 0.50398\n"
          ]
        },
        {
          "name": "stderr",
          "output_type": "stream",
          "text": [
            "100%|██████████| 108/108 [00:18<00:00,  5.90it/s]\n"
          ]
        },
        {
          "name": "stdout",
          "output_type": "stream",
          "text": [
            "[ Valid | 029/150 ] loss = 1.65124, acc = 0.50772\n",
            "[ Valid | 029/150 ] loss = 1.65124, acc = 0.50772\n"
          ]
        },
        {
          "name": "stderr",
          "output_type": "stream",
          "text": [
            "100%|██████████| 309/309 [01:25<00:00,  3.60it/s]\n"
          ]
        },
        {
          "name": "stdout",
          "output_type": "stream",
          "text": [
            "[ Train | 030/150 ] loss = 1.41857, acc = 0.50498\n"
          ]
        },
        {
          "name": "stderr",
          "output_type": "stream",
          "text": [
            "100%|██████████| 108/108 [00:18<00:00,  5.87it/s]\n"
          ]
        },
        {
          "name": "stdout",
          "output_type": "stream",
          "text": [
            "[ Valid | 030/150 ] loss = 1.53985, acc = 0.48553\n",
            "[ Valid | 030/150 ] loss = 1.53985, acc = 0.48553\n"
          ]
        },
        {
          "name": "stderr",
          "output_type": "stream",
          "text": [
            "100%|██████████| 309/309 [01:25<00:00,  3.60it/s]\n"
          ]
        },
        {
          "name": "stdout",
          "output_type": "stream",
          "text": [
            "[ Train | 031/150 ] loss = 1.41753, acc = 0.50338\n"
          ]
        },
        {
          "name": "stderr",
          "output_type": "stream",
          "text": [
            "100%|██████████| 108/108 [00:18<00:00,  5.87it/s]\n"
          ]
        },
        {
          "name": "stdout",
          "output_type": "stream",
          "text": [
            "[ Valid | 031/150 ] loss = 1.44129, acc = 0.54176\n",
            "[ Valid | 031/150 ] loss = 1.44129, acc = 0.54176 -> best\n",
            "Best model found at epoch 30, saving model\n"
          ]
        },
        {
          "name": "stderr",
          "output_type": "stream",
          "text": [
            "100%|██████████| 309/309 [01:25<00:00,  3.60it/s]\n"
          ]
        },
        {
          "name": "stdout",
          "output_type": "stream",
          "text": [
            "[ Train | 032/150 ] loss = 1.41137, acc = 0.51212\n"
          ]
        },
        {
          "name": "stderr",
          "output_type": "stream",
          "text": [
            "100%|██████████| 108/108 [00:18<00:00,  5.90it/s]\n"
          ]
        },
        {
          "name": "stdout",
          "output_type": "stream",
          "text": [
            "[ Valid | 032/150 ] loss = 1.56434, acc = 0.49662\n",
            "[ Valid | 032/150 ] loss = 1.56434, acc = 0.49662\n"
          ]
        },
        {
          "name": "stderr",
          "output_type": "stream",
          "text": [
            "100%|██████████| 309/309 [01:25<00:00,  3.61it/s]\n"
          ]
        },
        {
          "name": "stdout",
          "output_type": "stream",
          "text": [
            "[ Train | 033/150 ] loss = 1.39185, acc = 0.51837\n"
          ]
        },
        {
          "name": "stderr",
          "output_type": "stream",
          "text": [
            "100%|██████████| 108/108 [00:18<00:00,  5.91it/s]\n"
          ]
        },
        {
          "name": "stdout",
          "output_type": "stream",
          "text": [
            "[ Valid | 033/150 ] loss = 1.37435, acc = 0.55334\n",
            "[ Valid | 033/150 ] loss = 1.37435, acc = 0.55334 -> best\n",
            "Best model found at epoch 32, saving model\n"
          ]
        },
        {
          "name": "stderr",
          "output_type": "stream",
          "text": [
            "100%|██████████| 309/309 [01:25<00:00,  3.61it/s]\n"
          ]
        },
        {
          "name": "stdout",
          "output_type": "stream",
          "text": [
            "[ Train | 034/150 ] loss = 1.36098, acc = 0.53558\n"
          ]
        },
        {
          "name": "stderr",
          "output_type": "stream",
          "text": [
            "100%|██████████| 108/108 [00:18<00:00,  5.92it/s]\n"
          ]
        },
        {
          "name": "stdout",
          "output_type": "stream",
          "text": [
            "[ Valid | 034/150 ] loss = 1.62612, acc = 0.49884\n",
            "[ Valid | 034/150 ] loss = 1.62612, acc = 0.49884\n"
          ]
        },
        {
          "name": "stderr",
          "output_type": "stream",
          "text": [
            "100%|██████████| 309/309 [01:25<00:00,  3.60it/s]\n"
          ]
        },
        {
          "name": "stdout",
          "output_type": "stream",
          "text": [
            "[ Train | 035/150 ] loss = 1.35748, acc = 0.52791\n"
          ]
        },
        {
          "name": "stderr",
          "output_type": "stream",
          "text": [
            "100%|██████████| 108/108 [00:18<00:00,  5.88it/s]\n"
          ]
        },
        {
          "name": "stdout",
          "output_type": "stream",
          "text": [
            "[ Valid | 035/150 ] loss = 1.31759, acc = 0.58121\n",
            "[ Valid | 035/150 ] loss = 1.31759, acc = 0.58121 -> best\n",
            "Best model found at epoch 34, saving model\n"
          ]
        },
        {
          "name": "stderr",
          "output_type": "stream",
          "text": [
            "100%|██████████| 309/309 [01:25<00:00,  3.60it/s]\n"
          ]
        },
        {
          "name": "stdout",
          "output_type": "stream",
          "text": [
            "[ Train | 036/150 ] loss = 1.35079, acc = 0.52921\n"
          ]
        },
        {
          "name": "stderr",
          "output_type": "stream",
          "text": [
            "100%|██████████| 108/108 [00:18<00:00,  5.90it/s]\n"
          ]
        },
        {
          "name": "stdout",
          "output_type": "stream",
          "text": [
            "[ Valid | 036/150 ] loss = 1.42148, acc = 0.54466\n",
            "[ Valid | 036/150 ] loss = 1.42148, acc = 0.54466\n"
          ]
        },
        {
          "name": "stderr",
          "output_type": "stream",
          "text": [
            "100%|██████████| 309/309 [01:25<00:00,  3.60it/s]\n"
          ]
        },
        {
          "name": "stdout",
          "output_type": "stream",
          "text": [
            "[ Train | 037/150 ] loss = 1.34562, acc = 0.53825\n"
          ]
        },
        {
          "name": "stderr",
          "output_type": "stream",
          "text": [
            "100%|██████████| 108/108 [00:18<00:00,  5.90it/s]\n"
          ]
        },
        {
          "name": "stdout",
          "output_type": "stream",
          "text": [
            "[ Valid | 037/150 ] loss = 1.36099, acc = 0.56337\n",
            "[ Valid | 037/150 ] loss = 1.36099, acc = 0.56337\n"
          ]
        },
        {
          "name": "stderr",
          "output_type": "stream",
          "text": [
            "100%|██████████| 309/309 [01:25<00:00,  3.60it/s]\n"
          ]
        },
        {
          "name": "stdout",
          "output_type": "stream",
          "text": [
            "[ Train | 038/150 ] loss = 1.34449, acc = 0.53271\n"
          ]
        },
        {
          "name": "stderr",
          "output_type": "stream",
          "text": [
            "100%|██████████| 108/108 [00:18<00:00,  5.91it/s]\n"
          ]
        },
        {
          "name": "stdout",
          "output_type": "stream",
          "text": [
            "[ Valid | 038/150 ] loss = 1.56281, acc = 0.51543\n",
            "[ Valid | 038/150 ] loss = 1.56281, acc = 0.51543\n"
          ]
        },
        {
          "name": "stderr",
          "output_type": "stream",
          "text": [
            "100%|██████████| 309/309 [01:25<00:00,  3.60it/s]\n"
          ]
        },
        {
          "name": "stdout",
          "output_type": "stream",
          "text": [
            "[ Train | 039/150 ] loss = 1.31976, acc = 0.54150\n"
          ]
        },
        {
          "name": "stderr",
          "output_type": "stream",
          "text": [
            "100%|██████████| 108/108 [00:18<00:00,  5.91it/s]\n"
          ]
        },
        {
          "name": "stdout",
          "output_type": "stream",
          "text": [
            "[ Valid | 039/150 ] loss = 1.91370, acc = 0.48418\n",
            "[ Valid | 039/150 ] loss = 1.91370, acc = 0.48418\n"
          ]
        },
        {
          "name": "stderr",
          "output_type": "stream",
          "text": [
            "100%|██████████| 309/309 [01:25<00:00,  3.60it/s]\n"
          ]
        },
        {
          "name": "stdout",
          "output_type": "stream",
          "text": [
            "[ Train | 040/150 ] loss = 1.29948, acc = 0.55485\n"
          ]
        },
        {
          "name": "stderr",
          "output_type": "stream",
          "text": [
            "100%|██████████| 108/108 [00:18<00:00,  5.90it/s]\n"
          ]
        },
        {
          "name": "stdout",
          "output_type": "stream",
          "text": [
            "[ Valid | 040/150 ] loss = 1.30181, acc = 0.57581\n",
            "[ Valid | 040/150 ] loss = 1.30181, acc = 0.57581\n"
          ]
        },
        {
          "name": "stderr",
          "output_type": "stream",
          "text": [
            "100%|██████████| 309/309 [01:25<00:00,  3.60it/s]\n"
          ]
        },
        {
          "name": "stdout",
          "output_type": "stream",
          "text": [
            "[ Train | 041/150 ] loss = 1.29411, acc = 0.55178\n"
          ]
        },
        {
          "name": "stderr",
          "output_type": "stream",
          "text": [
            "100%|██████████| 108/108 [00:18<00:00,  5.87it/s]\n"
          ]
        },
        {
          "name": "stdout",
          "output_type": "stream",
          "text": [
            "[ Valid | 041/150 ] loss = 1.92911, acc = 0.46557\n",
            "[ Valid | 041/150 ] loss = 1.92911, acc = 0.46557\n"
          ]
        },
        {
          "name": "stderr",
          "output_type": "stream",
          "text": [
            "100%|██████████| 309/309 [01:25<00:00,  3.60it/s]\n"
          ]
        },
        {
          "name": "stdout",
          "output_type": "stream",
          "text": [
            "[ Train | 042/150 ] loss = 1.28053, acc = 0.55898\n"
          ]
        },
        {
          "name": "stderr",
          "output_type": "stream",
          "text": [
            "100%|██████████| 108/108 [00:18<00:00,  5.92it/s]\n"
          ]
        },
        {
          "name": "stdout",
          "output_type": "stream",
          "text": [
            "[ Valid | 042/150 ] loss = 1.58368, acc = 0.51929\n",
            "[ Valid | 042/150 ] loss = 1.58368, acc = 0.51929\n"
          ]
        },
        {
          "name": "stderr",
          "output_type": "stream",
          "text": [
            "100%|██████████| 309/309 [01:25<00:00,  3.59it/s]\n"
          ]
        },
        {
          "name": "stdout",
          "output_type": "stream",
          "text": [
            "[ Train | 043/150 ] loss = 1.27946, acc = 0.55827\n"
          ]
        },
        {
          "name": "stderr",
          "output_type": "stream",
          "text": [
            "100%|██████████| 108/108 [00:18<00:00,  5.91it/s]\n"
          ]
        },
        {
          "name": "stdout",
          "output_type": "stream",
          "text": [
            "[ Valid | 043/150 ] loss = 1.38008, acc = 0.54446\n",
            "[ Valid | 043/150 ] loss = 1.38008, acc = 0.54446\n"
          ]
        },
        {
          "name": "stderr",
          "output_type": "stream",
          "text": [
            "100%|██████████| 309/309 [01:25<00:00,  3.60it/s]\n"
          ]
        },
        {
          "name": "stdout",
          "output_type": "stream",
          "text": [
            "[ Train | 044/150 ] loss = 1.25919, acc = 0.56123\n"
          ]
        },
        {
          "name": "stderr",
          "output_type": "stream",
          "text": [
            "100%|██████████| 108/108 [00:18<00:00,  5.90it/s]\n"
          ]
        },
        {
          "name": "stdout",
          "output_type": "stream",
          "text": [
            "[ Valid | 044/150 ] loss = 1.40968, acc = 0.56182\n",
            "[ Valid | 044/150 ] loss = 1.40968, acc = 0.56182\n"
          ]
        },
        {
          "name": "stderr",
          "output_type": "stream",
          "text": [
            "100%|██████████| 309/309 [01:25<00:00,  3.61it/s]\n"
          ]
        },
        {
          "name": "stdout",
          "output_type": "stream",
          "text": [
            "[ Train | 045/150 ] loss = 1.26813, acc = 0.56036\n"
          ]
        },
        {
          "name": "stderr",
          "output_type": "stream",
          "text": [
            "100%|██████████| 108/108 [00:18<00:00,  5.89it/s]\n"
          ]
        },
        {
          "name": "stdout",
          "output_type": "stream",
          "text": [
            "[ Valid | 045/150 ] loss = 1.36268, acc = 0.57012\n",
            "[ Valid | 045/150 ] loss = 1.36268, acc = 0.57012\n"
          ]
        },
        {
          "name": "stderr",
          "output_type": "stream",
          "text": [
            "100%|██████████| 309/309 [01:25<00:00,  3.60it/s]\n"
          ]
        },
        {
          "name": "stdout",
          "output_type": "stream",
          "text": [
            "[ Train | 046/150 ] loss = 1.24894, acc = 0.56614\n"
          ]
        },
        {
          "name": "stderr",
          "output_type": "stream",
          "text": [
            "100%|██████████| 108/108 [00:18<00:00,  5.91it/s]\n"
          ]
        },
        {
          "name": "stdout",
          "output_type": "stream",
          "text": [
            "[ Valid | 046/150 ] loss = 1.26960, acc = 0.59336\n",
            "[ Valid | 046/150 ] loss = 1.26960, acc = 0.59336 -> best\n",
            "Best model found at epoch 45, saving model\n"
          ]
        },
        {
          "name": "stderr",
          "output_type": "stream",
          "text": [
            "100%|██████████| 309/309 [01:25<00:00,  3.61it/s]\n"
          ]
        },
        {
          "name": "stdout",
          "output_type": "stream",
          "text": [
            "[ Train | 047/150 ] loss = 1.24606, acc = 0.56800\n"
          ]
        },
        {
          "name": "stderr",
          "output_type": "stream",
          "text": [
            "100%|██████████| 108/108 [00:18<00:00,  5.91it/s]\n"
          ]
        },
        {
          "name": "stdout",
          "output_type": "stream",
          "text": [
            "[ Valid | 047/150 ] loss = 1.59059, acc = 0.51360\n",
            "[ Valid | 047/150 ] loss = 1.59059, acc = 0.51360\n"
          ]
        },
        {
          "name": "stderr",
          "output_type": "stream",
          "text": [
            "100%|██████████| 309/309 [01:25<00:00,  3.60it/s]\n"
          ]
        },
        {
          "name": "stdout",
          "output_type": "stream",
          "text": [
            "[ Train | 048/150 ] loss = 1.23758, acc = 0.57292\n"
          ]
        },
        {
          "name": "stderr",
          "output_type": "stream",
          "text": [
            "100%|██████████| 108/108 [00:18<00:00,  5.92it/s]\n"
          ]
        },
        {
          "name": "stdout",
          "output_type": "stream",
          "text": [
            "[ Valid | 048/150 ] loss = 1.36275, acc = 0.57870\n",
            "[ Valid | 048/150 ] loss = 1.36275, acc = 0.57870\n"
          ]
        },
        {
          "name": "stderr",
          "output_type": "stream",
          "text": [
            "100%|██████████| 309/309 [01:25<00:00,  3.60it/s]\n"
          ]
        },
        {
          "name": "stdout",
          "output_type": "stream",
          "text": [
            "[ Train | 049/150 ] loss = 1.23973, acc = 0.57334\n"
          ]
        },
        {
          "name": "stderr",
          "output_type": "stream",
          "text": [
            "100%|██████████| 108/108 [00:18<00:00,  5.92it/s]\n"
          ]
        },
        {
          "name": "stdout",
          "output_type": "stream",
          "text": [
            "[ Valid | 049/150 ] loss = 1.37472, acc = 0.56520\n",
            "[ Valid | 049/150 ] loss = 1.37472, acc = 0.56520\n"
          ]
        },
        {
          "name": "stderr",
          "output_type": "stream",
          "text": [
            "100%|██████████| 309/309 [01:25<00:00,  3.60it/s]\n"
          ]
        },
        {
          "name": "stdout",
          "output_type": "stream",
          "text": [
            "[ Train | 050/150 ] loss = 1.21118, acc = 0.58032\n"
          ]
        },
        {
          "name": "stderr",
          "output_type": "stream",
          "text": [
            "100%|██████████| 108/108 [00:18<00:00,  5.91it/s]\n"
          ]
        },
        {
          "name": "stdout",
          "output_type": "stream",
          "text": [
            "[ Valid | 050/150 ] loss = 1.65208, acc = 0.52315\n",
            "[ Valid | 050/150 ] loss = 1.65208, acc = 0.52315\n"
          ]
        },
        {
          "name": "stderr",
          "output_type": "stream",
          "text": [
            "100%|██████████| 309/309 [01:25<00:00,  3.61it/s]\n"
          ]
        },
        {
          "name": "stdout",
          "output_type": "stream",
          "text": [
            "[ Train | 051/150 ] loss = 1.21042, acc = 0.58238\n"
          ]
        },
        {
          "name": "stderr",
          "output_type": "stream",
          "text": [
            "100%|██████████| 108/108 [00:18<00:00,  5.88it/s]\n"
          ]
        },
        {
          "name": "stdout",
          "output_type": "stream",
          "text": [
            "[ Valid | 051/150 ] loss = 1.47897, acc = 0.55507\n",
            "[ Valid | 051/150 ] loss = 1.47897, acc = 0.55507\n"
          ]
        },
        {
          "name": "stderr",
          "output_type": "stream",
          "text": [
            "100%|██████████| 309/309 [01:25<00:00,  3.59it/s]\n"
          ]
        },
        {
          "name": "stdout",
          "output_type": "stream",
          "text": [
            "[ Train | 052/150 ] loss = 1.21436, acc = 0.57882\n"
          ]
        },
        {
          "name": "stderr",
          "output_type": "stream",
          "text": [
            "100%|██████████| 108/108 [00:18<00:00,  5.88it/s]\n"
          ]
        },
        {
          "name": "stdout",
          "output_type": "stream",
          "text": [
            "[ Valid | 052/150 ] loss = 1.65344, acc = 0.49971\n",
            "[ Valid | 052/150 ] loss = 1.65344, acc = 0.49971\n"
          ]
        },
        {
          "name": "stderr",
          "output_type": "stream",
          "text": [
            "100%|██████████| 309/309 [01:25<00:00,  3.60it/s]\n"
          ]
        },
        {
          "name": "stdout",
          "output_type": "stream",
          "text": [
            "[ Train | 053/150 ] loss = 1.18407, acc = 0.59401\n"
          ]
        },
        {
          "name": "stderr",
          "output_type": "stream",
          "text": [
            "100%|██████████| 108/108 [00:18<00:00,  5.90it/s]\n"
          ]
        },
        {
          "name": "stdout",
          "output_type": "stream",
          "text": [
            "[ Valid | 053/150 ] loss = 1.38644, acc = 0.55478\n",
            "[ Valid | 053/150 ] loss = 1.38644, acc = 0.55478\n"
          ]
        },
        {
          "name": "stderr",
          "output_type": "stream",
          "text": [
            "100%|██████████| 309/309 [01:25<00:00,  3.60it/s]\n"
          ]
        },
        {
          "name": "stdout",
          "output_type": "stream",
          "text": [
            "[ Train | 054/150 ] loss = 1.19651, acc = 0.58449\n"
          ]
        },
        {
          "name": "stderr",
          "output_type": "stream",
          "text": [
            "100%|██████████| 108/108 [00:18<00:00,  5.93it/s]\n"
          ]
        },
        {
          "name": "stdout",
          "output_type": "stream",
          "text": [
            "[ Valid | 054/150 ] loss = 1.78868, acc = 0.47965\n",
            "[ Valid | 054/150 ] loss = 1.78868, acc = 0.47965\n"
          ]
        },
        {
          "name": "stderr",
          "output_type": "stream",
          "text": [
            "100%|██████████| 309/309 [01:25<00:00,  3.60it/s]\n"
          ]
        },
        {
          "name": "stdout",
          "output_type": "stream",
          "text": [
            "[ Train | 055/150 ] loss = 1.19031, acc = 0.59066\n"
          ]
        },
        {
          "name": "stderr",
          "output_type": "stream",
          "text": [
            "100%|██████████| 108/108 [00:18<00:00,  5.92it/s]\n"
          ]
        },
        {
          "name": "stdout",
          "output_type": "stream",
          "text": [
            "[ Valid | 055/150 ] loss = 1.20080, acc = 0.61844\n",
            "[ Valid | 055/150 ] loss = 1.20080, acc = 0.61844 -> best\n",
            "Best model found at epoch 54, saving model\n"
          ]
        },
        {
          "name": "stderr",
          "output_type": "stream",
          "text": [
            "100%|██████████| 309/309 [01:25<00:00,  3.60it/s]\n"
          ]
        },
        {
          "name": "stdout",
          "output_type": "stream",
          "text": [
            "[ Train | 056/150 ] loss = 1.15437, acc = 0.60522\n"
          ]
        },
        {
          "name": "stderr",
          "output_type": "stream",
          "text": [
            "100%|██████████| 108/108 [00:18<00:00,  5.90it/s]\n"
          ]
        },
        {
          "name": "stdout",
          "output_type": "stream",
          "text": [
            "[ Valid | 056/150 ] loss = 1.72698, acc = 0.52209\n",
            "[ Valid | 056/150 ] loss = 1.72698, acc = 0.52209\n"
          ]
        },
        {
          "name": "stderr",
          "output_type": "stream",
          "text": [
            "100%|██████████| 309/309 [01:25<00:00,  3.60it/s]\n"
          ]
        },
        {
          "name": "stdout",
          "output_type": "stream",
          "text": [
            "[ Train | 057/150 ] loss = 1.16996, acc = 0.59802\n"
          ]
        },
        {
          "name": "stderr",
          "output_type": "stream",
          "text": [
            "100%|██████████| 108/108 [00:18<00:00,  5.89it/s]\n"
          ]
        },
        {
          "name": "stdout",
          "output_type": "stream",
          "text": [
            "[ Valid | 057/150 ] loss = 1.33334, acc = 0.58372\n",
            "[ Valid | 057/150 ] loss = 1.33334, acc = 0.58372\n"
          ]
        },
        {
          "name": "stderr",
          "output_type": "stream",
          "text": [
            "100%|██████████| 309/309 [01:25<00:00,  3.60it/s]\n"
          ]
        },
        {
          "name": "stdout",
          "output_type": "stream",
          "text": [
            "[ Train | 058/150 ] loss = 1.15665, acc = 0.60374\n"
          ]
        },
        {
          "name": "stderr",
          "output_type": "stream",
          "text": [
            "100%|██████████| 108/108 [00:18<00:00,  5.88it/s]\n"
          ]
        },
        {
          "name": "stdout",
          "output_type": "stream",
          "text": [
            "[ Valid | 058/150 ] loss = 1.36628, acc = 0.57764\n",
            "[ Valid | 058/150 ] loss = 1.36628, acc = 0.57764\n"
          ]
        },
        {
          "name": "stderr",
          "output_type": "stream",
          "text": [
            "100%|██████████| 309/309 [01:25<00:00,  3.61it/s]\n"
          ]
        },
        {
          "name": "stdout",
          "output_type": "stream",
          "text": [
            "[ Train | 059/150 ] loss = 1.15354, acc = 0.60437\n"
          ]
        },
        {
          "name": "stderr",
          "output_type": "stream",
          "text": [
            "100%|██████████| 108/108 [00:18<00:00,  5.89it/s]\n"
          ]
        },
        {
          "name": "stdout",
          "output_type": "stream",
          "text": [
            "[ Valid | 059/150 ] loss = 1.30800, acc = 0.58623\n",
            "[ Valid | 059/150 ] loss = 1.30800, acc = 0.58623\n"
          ]
        },
        {
          "name": "stderr",
          "output_type": "stream",
          "text": [
            "100%|██████████| 309/309 [01:25<00:00,  3.60it/s]\n"
          ]
        },
        {
          "name": "stdout",
          "output_type": "stream",
          "text": [
            "[ Train | 060/150 ] loss = 1.14119, acc = 0.59990\n"
          ]
        },
        {
          "name": "stderr",
          "output_type": "stream",
          "text": [
            "100%|██████████| 108/108 [00:18<00:00,  5.88it/s]\n"
          ]
        },
        {
          "name": "stdout",
          "output_type": "stream",
          "text": [
            "[ Valid | 060/150 ] loss = 1.46124, acc = 0.56144\n",
            "[ Valid | 060/150 ] loss = 1.46124, acc = 0.56144\n"
          ]
        },
        {
          "name": "stderr",
          "output_type": "stream",
          "text": [
            "100%|██████████| 309/309 [01:25<00:00,  3.61it/s]\n"
          ]
        },
        {
          "name": "stdout",
          "output_type": "stream",
          "text": [
            "[ Train | 061/150 ] loss = 1.14993, acc = 0.60546\n"
          ]
        },
        {
          "name": "stderr",
          "output_type": "stream",
          "text": [
            "100%|██████████| 108/108 [00:18<00:00,  5.89it/s]\n"
          ]
        },
        {
          "name": "stdout",
          "output_type": "stream",
          "text": [
            "[ Valid | 061/150 ] loss = 1.38761, acc = 0.58005\n",
            "[ Valid | 061/150 ] loss = 1.38761, acc = 0.58005\n"
          ]
        },
        {
          "name": "stderr",
          "output_type": "stream",
          "text": [
            "100%|██████████| 309/309 [01:25<00:00,  3.60it/s]\n"
          ]
        },
        {
          "name": "stdout",
          "output_type": "stream",
          "text": [
            "[ Train | 062/150 ] loss = 1.15011, acc = 0.60328\n"
          ]
        },
        {
          "name": "stderr",
          "output_type": "stream",
          "text": [
            "100%|██████████| 108/108 [00:18<00:00,  5.92it/s]\n"
          ]
        },
        {
          "name": "stdout",
          "output_type": "stream",
          "text": [
            "[ Valid | 062/150 ] loss = 1.32192, acc = 0.57793\n",
            "[ Valid | 062/150 ] loss = 1.32192, acc = 0.57793\n"
          ]
        },
        {
          "name": "stderr",
          "output_type": "stream",
          "text": [
            "100%|██████████| 309/309 [01:25<00:00,  3.59it/s]\n"
          ]
        },
        {
          "name": "stdout",
          "output_type": "stream",
          "text": [
            "[ Train | 063/150 ] loss = 1.12291, acc = 0.60831\n"
          ]
        },
        {
          "name": "stderr",
          "output_type": "stream",
          "text": [
            "100%|██████████| 108/108 [00:18<00:00,  5.88it/s]\n"
          ]
        },
        {
          "name": "stdout",
          "output_type": "stream",
          "text": [
            "[ Valid | 063/150 ] loss = 1.29698, acc = 0.59317\n",
            "[ Valid | 063/150 ] loss = 1.29698, acc = 0.59317\n"
          ]
        },
        {
          "name": "stderr",
          "output_type": "stream",
          "text": [
            "100%|██████████| 309/309 [01:25<00:00,  3.59it/s]\n"
          ]
        },
        {
          "name": "stdout",
          "output_type": "stream",
          "text": [
            "[ Train | 064/150 ] loss = 1.11895, acc = 0.61665\n"
          ]
        },
        {
          "name": "stderr",
          "output_type": "stream",
          "text": [
            "100%|██████████| 108/108 [00:18<00:00,  5.89it/s]\n"
          ]
        },
        {
          "name": "stdout",
          "output_type": "stream",
          "text": [
            "[ Valid | 064/150 ] loss = 1.32020, acc = 0.59857\n",
            "[ Valid | 064/150 ] loss = 1.32020, acc = 0.59857\n"
          ]
        },
        {
          "name": "stderr",
          "output_type": "stream",
          "text": [
            "100%|██████████| 309/309 [01:25<00:00,  3.61it/s]\n"
          ]
        },
        {
          "name": "stdout",
          "output_type": "stream",
          "text": [
            "[ Train | 065/150 ] loss = 1.11469, acc = 0.61596\n"
          ]
        },
        {
          "name": "stderr",
          "output_type": "stream",
          "text": [
            "100%|██████████| 108/108 [00:18<00:00,  5.91it/s]\n"
          ]
        },
        {
          "name": "stdout",
          "output_type": "stream",
          "text": [
            "[ Valid | 065/150 ] loss = 1.41609, acc = 0.56240\n",
            "[ Valid | 065/150 ] loss = 1.41609, acc = 0.56240\n"
          ]
        },
        {
          "name": "stderr",
          "output_type": "stream",
          "text": [
            "100%|██████████| 309/309 [01:25<00:00,  3.60it/s]\n"
          ]
        },
        {
          "name": "stdout",
          "output_type": "stream",
          "text": [
            "[ Train | 066/150 ] loss = 1.12188, acc = 0.61729\n"
          ]
        },
        {
          "name": "stderr",
          "output_type": "stream",
          "text": [
            "100%|██████████| 108/108 [00:18<00:00,  5.89it/s]\n"
          ]
        },
        {
          "name": "stdout",
          "output_type": "stream",
          "text": [
            "[ Valid | 066/150 ] loss = 1.18330, acc = 0.62461\n",
            "[ Valid | 066/150 ] loss = 1.18330, acc = 0.62461 -> best\n",
            "Best model found at epoch 65, saving model\n"
          ]
        },
        {
          "name": "stderr",
          "output_type": "stream",
          "text": [
            "100%|██████████| 309/309 [01:25<00:00,  3.60it/s]\n"
          ]
        },
        {
          "name": "stdout",
          "output_type": "stream",
          "text": [
            "[ Train | 067/150 ] loss = 1.09834, acc = 0.62174\n"
          ]
        },
        {
          "name": "stderr",
          "output_type": "stream",
          "text": [
            "100%|██████████| 108/108 [00:18<00:00,  5.85it/s]\n"
          ]
        },
        {
          "name": "stdout",
          "output_type": "stream",
          "text": [
            "[ Valid | 067/150 ] loss = 1.62793, acc = 0.53578\n",
            "[ Valid | 067/150 ] loss = 1.62793, acc = 0.53578\n"
          ]
        },
        {
          "name": "stderr",
          "output_type": "stream",
          "text": [
            "100%|██████████| 309/309 [01:26<00:00,  3.59it/s]\n"
          ]
        },
        {
          "name": "stdout",
          "output_type": "stream",
          "text": [
            "[ Train | 068/150 ] loss = 1.09869, acc = 0.62496\n"
          ]
        },
        {
          "name": "stderr",
          "output_type": "stream",
          "text": [
            "100%|██████████| 108/108 [00:18<00:00,  5.91it/s]\n"
          ]
        },
        {
          "name": "stdout",
          "output_type": "stream",
          "text": [
            "[ Valid | 068/150 ] loss = 1.14562, acc = 0.64207\n",
            "[ Valid | 068/150 ] loss = 1.14562, acc = 0.64207 -> best\n",
            "Best model found at epoch 67, saving model\n"
          ]
        },
        {
          "name": "stderr",
          "output_type": "stream",
          "text": [
            "100%|██████████| 309/309 [01:25<00:00,  3.61it/s]\n"
          ]
        },
        {
          "name": "stdout",
          "output_type": "stream",
          "text": [
            "[ Train | 069/150 ] loss = 1.08773, acc = 0.62369\n"
          ]
        },
        {
          "name": "stderr",
          "output_type": "stream",
          "text": [
            "100%|██████████| 108/108 [00:18<00:00,  5.92it/s]\n"
          ]
        },
        {
          "name": "stdout",
          "output_type": "stream",
          "text": [
            "[ Valid | 069/150 ] loss = 1.34101, acc = 0.57485\n",
            "[ Valid | 069/150 ] loss = 1.34101, acc = 0.57485\n"
          ]
        },
        {
          "name": "stderr",
          "output_type": "stream",
          "text": [
            "100%|██████████| 309/309 [01:25<00:00,  3.60it/s]\n"
          ]
        },
        {
          "name": "stdout",
          "output_type": "stream",
          "text": [
            "[ Train | 070/150 ] loss = 1.09149, acc = 0.62868\n"
          ]
        },
        {
          "name": "stderr",
          "output_type": "stream",
          "text": [
            "100%|██████████| 108/108 [00:18<00:00,  5.91it/s]\n"
          ]
        },
        {
          "name": "stdout",
          "output_type": "stream",
          "text": [
            "[ Valid | 070/150 ] loss = 1.29360, acc = 0.58304\n",
            "[ Valid | 070/150 ] loss = 1.29360, acc = 0.58304\n"
          ]
        },
        {
          "name": "stderr",
          "output_type": "stream",
          "text": [
            "100%|██████████| 309/309 [01:25<00:00,  3.60it/s]\n"
          ]
        },
        {
          "name": "stdout",
          "output_type": "stream",
          "text": [
            "[ Train | 071/150 ] loss = 1.08625, acc = 0.62275\n"
          ]
        },
        {
          "name": "stderr",
          "output_type": "stream",
          "text": [
            "100%|██████████| 108/108 [00:18<00:00,  5.88it/s]\n"
          ]
        },
        {
          "name": "stdout",
          "output_type": "stream",
          "text": [
            "[ Valid | 071/150 ] loss = 1.20662, acc = 0.61555\n",
            "[ Valid | 071/150 ] loss = 1.20662, acc = 0.61555\n"
          ]
        },
        {
          "name": "stderr",
          "output_type": "stream",
          "text": [
            "100%|██████████| 309/309 [01:25<00:00,  3.60it/s]\n"
          ]
        },
        {
          "name": "stdout",
          "output_type": "stream",
          "text": [
            "[ Train | 072/150 ] loss = 1.08578, acc = 0.62324\n"
          ]
        },
        {
          "name": "stderr",
          "output_type": "stream",
          "text": [
            "100%|██████████| 108/108 [00:18<00:00,  5.90it/s]\n"
          ]
        },
        {
          "name": "stdout",
          "output_type": "stream",
          "text": [
            "[ Valid | 072/150 ] loss = 1.12142, acc = 0.64091\n",
            "[ Valid | 072/150 ] loss = 1.12142, acc = 0.64091\n"
          ]
        },
        {
          "name": "stderr",
          "output_type": "stream",
          "text": [
            "100%|██████████| 309/309 [01:25<00:00,  3.61it/s]\n"
          ]
        },
        {
          "name": "stdout",
          "output_type": "stream",
          "text": [
            "[ Train | 073/150 ] loss = 1.05996, acc = 0.63495\n"
          ]
        },
        {
          "name": "stderr",
          "output_type": "stream",
          "text": [
            "100%|██████████| 108/108 [00:18<00:00,  5.89it/s]\n"
          ]
        },
        {
          "name": "stdout",
          "output_type": "stream",
          "text": [
            "[ Valid | 073/150 ] loss = 1.21495, acc = 0.61323\n",
            "[ Valid | 073/150 ] loss = 1.21495, acc = 0.61323\n"
          ]
        },
        {
          "name": "stderr",
          "output_type": "stream",
          "text": [
            "100%|██████████| 309/309 [01:25<00:00,  3.60it/s]\n"
          ]
        },
        {
          "name": "stdout",
          "output_type": "stream",
          "text": [
            "[ Train | 074/150 ] loss = 1.07152, acc = 0.63206\n"
          ]
        },
        {
          "name": "stderr",
          "output_type": "stream",
          "text": [
            "100%|██████████| 108/108 [00:18<00:00,  5.84it/s]\n"
          ]
        },
        {
          "name": "stdout",
          "output_type": "stream",
          "text": [
            "[ Valid | 074/150 ] loss = 1.31451, acc = 0.58941\n",
            "[ Valid | 074/150 ] loss = 1.31451, acc = 0.58941\n"
          ]
        },
        {
          "name": "stderr",
          "output_type": "stream",
          "text": [
            "100%|██████████| 309/309 [01:25<00:00,  3.61it/s]\n"
          ]
        },
        {
          "name": "stdout",
          "output_type": "stream",
          "text": [
            "[ Train | 075/150 ] loss = 1.06310, acc = 0.63254\n"
          ]
        },
        {
          "name": "stderr",
          "output_type": "stream",
          "text": [
            "100%|██████████| 108/108 [00:18<00:00,  5.90it/s]\n"
          ]
        },
        {
          "name": "stdout",
          "output_type": "stream",
          "text": [
            "[ Valid | 075/150 ] loss = 1.17078, acc = 0.63387\n",
            "[ Valid | 075/150 ] loss = 1.17078, acc = 0.63387\n"
          ]
        },
        {
          "name": "stderr",
          "output_type": "stream",
          "text": [
            "100%|██████████| 309/309 [01:25<00:00,  3.61it/s]\n"
          ]
        },
        {
          "name": "stdout",
          "output_type": "stream",
          "text": [
            "[ Train | 076/150 ] loss = 1.07406, acc = 0.63143\n"
          ]
        },
        {
          "name": "stderr",
          "output_type": "stream",
          "text": [
            "100%|██████████| 108/108 [00:18<00:00,  5.89it/s]\n"
          ]
        },
        {
          "name": "stdout",
          "output_type": "stream",
          "text": [
            "[ Valid | 076/150 ] loss = 1.28330, acc = 0.60841\n",
            "[ Valid | 076/150 ] loss = 1.28330, acc = 0.60841\n"
          ]
        },
        {
          "name": "stderr",
          "output_type": "stream",
          "text": [
            "100%|██████████| 309/309 [01:25<00:00,  3.61it/s]\n"
          ]
        },
        {
          "name": "stdout",
          "output_type": "stream",
          "text": [
            "[ Train | 077/150 ] loss = 1.06784, acc = 0.63119\n"
          ]
        },
        {
          "name": "stderr",
          "output_type": "stream",
          "text": [
            "100%|██████████| 108/108 [00:18<00:00,  5.88it/s]\n"
          ]
        },
        {
          "name": "stdout",
          "output_type": "stream",
          "text": [
            "[ Valid | 077/150 ] loss = 1.16715, acc = 0.63532\n",
            "[ Valid | 077/150 ] loss = 1.16715, acc = 0.63532\n"
          ]
        },
        {
          "name": "stderr",
          "output_type": "stream",
          "text": [
            "100%|██████████| 309/309 [01:25<00:00,  3.60it/s]\n"
          ]
        },
        {
          "name": "stdout",
          "output_type": "stream",
          "text": [
            "[ Train | 078/150 ] loss = 1.05398, acc = 0.63900\n"
          ]
        },
        {
          "name": "stderr",
          "output_type": "stream",
          "text": [
            "100%|██████████| 108/108 [00:18<00:00,  5.87it/s]\n"
          ]
        },
        {
          "name": "stdout",
          "output_type": "stream",
          "text": [
            "[ Valid | 078/150 ] loss = 1.27282, acc = 0.59491\n",
            "[ Valid | 078/150 ] loss = 1.27282, acc = 0.59491\n"
          ]
        },
        {
          "name": "stderr",
          "output_type": "stream",
          "text": [
            "100%|██████████| 309/309 [01:25<00:00,  3.61it/s]\n"
          ]
        },
        {
          "name": "stdout",
          "output_type": "stream",
          "text": [
            "[ Train | 079/150 ] loss = 1.04589, acc = 0.63886\n"
          ]
        },
        {
          "name": "stderr",
          "output_type": "stream",
          "text": [
            "100%|██████████| 108/108 [00:18<00:00,  5.85it/s]\n"
          ]
        },
        {
          "name": "stdout",
          "output_type": "stream",
          "text": [
            "[ Valid | 079/150 ] loss = 1.27538, acc = 0.62375\n",
            "[ Valid | 079/150 ] loss = 1.27538, acc = 0.62375\n"
          ]
        },
        {
          "name": "stderr",
          "output_type": "stream",
          "text": [
            "100%|██████████| 309/309 [01:25<00:00,  3.60it/s]\n"
          ]
        },
        {
          "name": "stdout",
          "output_type": "stream",
          "text": [
            "[ Train | 080/150 ] loss = 1.05677, acc = 0.63726\n"
          ]
        },
        {
          "name": "stderr",
          "output_type": "stream",
          "text": [
            "100%|██████████| 108/108 [00:18<00:00,  5.89it/s]\n"
          ]
        },
        {
          "name": "stdout",
          "output_type": "stream",
          "text": [
            "[ Valid | 080/150 ] loss = 1.32087, acc = 0.60012\n",
            "[ Valid | 080/150 ] loss = 1.32087, acc = 0.60012\n"
          ]
        },
        {
          "name": "stderr",
          "output_type": "stream",
          "text": [
            "100%|██████████| 309/309 [01:25<00:00,  3.59it/s]\n"
          ]
        },
        {
          "name": "stdout",
          "output_type": "stream",
          "text": [
            "[ Train | 081/150 ] loss = 1.05223, acc = 0.63669\n"
          ]
        },
        {
          "name": "stderr",
          "output_type": "stream",
          "text": [
            "100%|██████████| 108/108 [00:18<00:00,  5.90it/s]\n"
          ]
        },
        {
          "name": "stdout",
          "output_type": "stream",
          "text": [
            "[ Valid | 081/150 ] loss = 1.20682, acc = 0.62259\n",
            "[ Valid | 081/150 ] loss = 1.20682, acc = 0.62259\n"
          ]
        },
        {
          "name": "stderr",
          "output_type": "stream",
          "text": [
            "100%|██████████| 309/309 [01:25<00:00,  3.60it/s]\n"
          ]
        },
        {
          "name": "stdout",
          "output_type": "stream",
          "text": [
            "[ Train | 082/150 ] loss = 1.02685, acc = 0.64626\n"
          ]
        },
        {
          "name": "stderr",
          "output_type": "stream",
          "text": [
            "100%|██████████| 108/108 [00:18<00:00,  5.90it/s]\n"
          ]
        },
        {
          "name": "stdout",
          "output_type": "stream",
          "text": [
            "[ Valid | 082/150 ] loss = 1.12838, acc = 0.64660\n",
            "[ Valid | 082/150 ] loss = 1.12838, acc = 0.64660 -> best\n",
            "Best model found at epoch 81, saving model\n"
          ]
        },
        {
          "name": "stderr",
          "output_type": "stream",
          "text": [
            "100%|██████████| 309/309 [01:25<00:00,  3.60it/s]\n"
          ]
        },
        {
          "name": "stdout",
          "output_type": "stream",
          "text": [
            "[ Train | 083/150 ] loss = 1.03328, acc = 0.64363\n"
          ]
        },
        {
          "name": "stderr",
          "output_type": "stream",
          "text": [
            "100%|██████████| 108/108 [00:18<00:00,  5.89it/s]\n"
          ]
        },
        {
          "name": "stdout",
          "output_type": "stream",
          "text": [
            "[ Valid | 083/150 ] loss = 1.35516, acc = 0.58353\n",
            "[ Valid | 083/150 ] loss = 1.35516, acc = 0.58353\n"
          ]
        },
        {
          "name": "stderr",
          "output_type": "stream",
          "text": [
            "100%|██████████| 309/309 [01:25<00:00,  3.60it/s]\n"
          ]
        },
        {
          "name": "stdout",
          "output_type": "stream",
          "text": [
            "[ Train | 084/150 ] loss = 1.03735, acc = 0.64597\n"
          ]
        },
        {
          "name": "stderr",
          "output_type": "stream",
          "text": [
            "100%|██████████| 108/108 [00:18<00:00,  5.89it/s]\n"
          ]
        },
        {
          "name": "stdout",
          "output_type": "stream",
          "text": [
            "[ Valid | 084/150 ] loss = 1.11999, acc = 0.64988\n",
            "[ Valid | 084/150 ] loss = 1.11999, acc = 0.64988 -> best\n",
            "Best model found at epoch 83, saving model\n"
          ]
        },
        {
          "name": "stderr",
          "output_type": "stream",
          "text": [
            "100%|██████████| 309/309 [01:25<00:00,  3.61it/s]\n"
          ]
        },
        {
          "name": "stdout",
          "output_type": "stream",
          "text": [
            "[ Train | 085/150 ] loss = 1.01400, acc = 0.65136\n"
          ]
        },
        {
          "name": "stderr",
          "output_type": "stream",
          "text": [
            "100%|██████████| 108/108 [00:18<00:00,  5.89it/s]\n"
          ]
        },
        {
          "name": "stdout",
          "output_type": "stream",
          "text": [
            "[ Valid | 085/150 ] loss = 1.39841, acc = 0.58449\n",
            "[ Valid | 085/150 ] loss = 1.39841, acc = 0.58449\n"
          ]
        },
        {
          "name": "stderr",
          "output_type": "stream",
          "text": [
            "100%|██████████| 309/309 [01:25<00:00,  3.61it/s]\n"
          ]
        },
        {
          "name": "stdout",
          "output_type": "stream",
          "text": [
            "[ Train | 086/150 ] loss = 1.02493, acc = 0.64353\n"
          ]
        },
        {
          "name": "stderr",
          "output_type": "stream",
          "text": [
            "100%|██████████| 108/108 [00:18<00:00,  5.91it/s]\n"
          ]
        },
        {
          "name": "stdout",
          "output_type": "stream",
          "text": [
            "[ Valid | 086/150 ] loss = 1.09441, acc = 0.65403\n",
            "[ Valid | 086/150 ] loss = 1.09441, acc = 0.65403 -> best\n",
            "Best model found at epoch 85, saving model\n"
          ]
        },
        {
          "name": "stderr",
          "output_type": "stream",
          "text": [
            "100%|██████████| 309/309 [01:25<00:00,  3.60it/s]\n"
          ]
        },
        {
          "name": "stdout",
          "output_type": "stream",
          "text": [
            "[ Train | 087/150 ] loss = 1.01602, acc = 0.65140\n"
          ]
        },
        {
          "name": "stderr",
          "output_type": "stream",
          "text": [
            "100%|██████████| 108/108 [00:18<00:00,  5.90it/s]\n"
          ]
        },
        {
          "name": "stdout",
          "output_type": "stream",
          "text": [
            "[ Valid | 087/150 ] loss = 1.20650, acc = 0.62625\n",
            "[ Valid | 087/150 ] loss = 1.20650, acc = 0.62625\n"
          ]
        },
        {
          "name": "stderr",
          "output_type": "stream",
          "text": [
            "100%|██████████| 309/309 [01:25<00:00,  3.60it/s]\n"
          ]
        },
        {
          "name": "stdout",
          "output_type": "stream",
          "text": [
            "[ Train | 088/150 ] loss = 1.03252, acc = 0.64442\n"
          ]
        },
        {
          "name": "stderr",
          "output_type": "stream",
          "text": [
            "100%|██████████| 108/108 [00:18<00:00,  5.89it/s]\n"
          ]
        },
        {
          "name": "stdout",
          "output_type": "stream",
          "text": [
            "[ Valid | 088/150 ] loss = 1.23601, acc = 0.61323\n",
            "[ Valid | 088/150 ] loss = 1.23601, acc = 0.61323\n"
          ]
        },
        {
          "name": "stderr",
          "output_type": "stream",
          "text": [
            "100%|██████████| 309/309 [01:26<00:00,  3.59it/s]\n"
          ]
        },
        {
          "name": "stdout",
          "output_type": "stream",
          "text": [
            "[ Train | 089/150 ] loss = 0.99650, acc = 0.65809\n"
          ]
        },
        {
          "name": "stderr",
          "output_type": "stream",
          "text": [
            "100%|██████████| 108/108 [00:18<00:00,  5.90it/s]\n"
          ]
        },
        {
          "name": "stdout",
          "output_type": "stream",
          "text": [
            "[ Valid | 089/150 ] loss = 1.16546, acc = 0.64873\n",
            "[ Valid | 089/150 ] loss = 1.16546, acc = 0.64873\n"
          ]
        },
        {
          "name": "stderr",
          "output_type": "stream",
          "text": [
            "100%|██████████| 309/309 [01:25<00:00,  3.60it/s]\n"
          ]
        },
        {
          "name": "stdout",
          "output_type": "stream",
          "text": [
            "[ Train | 090/150 ] loss = 1.01402, acc = 0.64788\n"
          ]
        },
        {
          "name": "stderr",
          "output_type": "stream",
          "text": [
            "100%|██████████| 108/108 [00:18<00:00,  5.88it/s]\n"
          ]
        },
        {
          "name": "stdout",
          "output_type": "stream",
          "text": [
            "[ Valid | 090/150 ] loss = 1.17431, acc = 0.63069\n",
            "[ Valid | 090/150 ] loss = 1.17431, acc = 0.63069\n"
          ]
        },
        {
          "name": "stderr",
          "output_type": "stream",
          "text": [
            "100%|██████████| 309/309 [01:25<00:00,  3.60it/s]\n"
          ]
        },
        {
          "name": "stdout",
          "output_type": "stream",
          "text": [
            "[ Train | 091/150 ] loss = 0.99342, acc = 0.65841\n"
          ]
        },
        {
          "name": "stderr",
          "output_type": "stream",
          "text": [
            "100%|██████████| 108/108 [00:18<00:00,  5.89it/s]\n"
          ]
        },
        {
          "name": "stdout",
          "output_type": "stream",
          "text": [
            "[ Valid | 091/150 ] loss = 1.04524, acc = 0.66975\n",
            "[ Valid | 091/150 ] loss = 1.04524, acc = 0.66975 -> best\n",
            "Best model found at epoch 90, saving model\n"
          ]
        },
        {
          "name": "stderr",
          "output_type": "stream",
          "text": [
            "100%|██████████| 309/309 [01:25<00:00,  3.61it/s]\n"
          ]
        },
        {
          "name": "stdout",
          "output_type": "stream",
          "text": [
            "[ Train | 092/150 ] loss = 0.99120, acc = 0.65961\n"
          ]
        },
        {
          "name": "stderr",
          "output_type": "stream",
          "text": [
            "100%|██████████| 108/108 [00:18<00:00,  5.88it/s]\n"
          ]
        },
        {
          "name": "stdout",
          "output_type": "stream",
          "text": [
            "[ Valid | 092/150 ] loss = 1.24158, acc = 0.61622\n",
            "[ Valid | 092/150 ] loss = 1.24158, acc = 0.61622\n"
          ]
        },
        {
          "name": "stderr",
          "output_type": "stream",
          "text": [
            "100%|██████████| 309/309 [01:25<00:00,  3.60it/s]\n"
          ]
        },
        {
          "name": "stdout",
          "output_type": "stream",
          "text": [
            "[ Train | 093/150 ] loss = 1.01361, acc = 0.65012\n"
          ]
        },
        {
          "name": "stderr",
          "output_type": "stream",
          "text": [
            "100%|██████████| 108/108 [00:18<00:00,  5.86it/s]\n"
          ]
        },
        {
          "name": "stdout",
          "output_type": "stream",
          "text": [
            "[ Valid | 093/150 ] loss = 1.25257, acc = 0.63050\n",
            "[ Valid | 093/150 ] loss = 1.25257, acc = 0.63050\n"
          ]
        },
        {
          "name": "stderr",
          "output_type": "stream",
          "text": [
            "100%|██████████| 309/309 [01:25<00:00,  3.60it/s]\n"
          ]
        },
        {
          "name": "stdout",
          "output_type": "stream",
          "text": [
            "[ Train | 094/150 ] loss = 1.00207, acc = 0.65212\n"
          ]
        },
        {
          "name": "stderr",
          "output_type": "stream",
          "text": [
            "100%|██████████| 108/108 [00:18<00:00,  5.88it/s]\n"
          ]
        },
        {
          "name": "stdout",
          "output_type": "stream",
          "text": [
            "[ Valid | 094/150 ] loss = 1.10172, acc = 0.66522\n",
            "[ Valid | 094/150 ] loss = 1.10172, acc = 0.66522\n"
          ]
        },
        {
          "name": "stderr",
          "output_type": "stream",
          "text": [
            "100%|██████████| 309/309 [01:25<00:00,  3.60it/s]\n"
          ]
        },
        {
          "name": "stdout",
          "output_type": "stream",
          "text": [
            "[ Train | 095/150 ] loss = 0.98669, acc = 0.65957\n"
          ]
        },
        {
          "name": "stderr",
          "output_type": "stream",
          "text": [
            "100%|██████████| 108/108 [00:18<00:00,  5.88it/s]\n"
          ]
        },
        {
          "name": "stdout",
          "output_type": "stream",
          "text": [
            "[ Valid | 095/150 ] loss = 1.06356, acc = 0.67882\n",
            "[ Valid | 095/150 ] loss = 1.06356, acc = 0.67882 -> best\n",
            "Best model found at epoch 94, saving model\n"
          ]
        },
        {
          "name": "stderr",
          "output_type": "stream",
          "text": [
            "100%|██████████| 309/309 [01:25<00:00,  3.60it/s]\n"
          ]
        },
        {
          "name": "stdout",
          "output_type": "stream",
          "text": [
            "[ Train | 096/150 ] loss = 0.97495, acc = 0.66640\n"
          ]
        },
        {
          "name": "stderr",
          "output_type": "stream",
          "text": [
            "100%|██████████| 108/108 [00:18<00:00,  5.88it/s]\n"
          ]
        },
        {
          "name": "stdout",
          "output_type": "stream",
          "text": [
            "[ Valid | 096/150 ] loss = 1.00051, acc = 0.67785\n",
            "[ Valid | 096/150 ] loss = 1.00051, acc = 0.67785\n"
          ]
        },
        {
          "name": "stderr",
          "output_type": "stream",
          "text": [
            "100%|██████████| 309/309 [01:25<00:00,  3.60it/s]\n"
          ]
        },
        {
          "name": "stdout",
          "output_type": "stream",
          "text": [
            "[ Train | 097/150 ] loss = 0.98226, acc = 0.66210\n"
          ]
        },
        {
          "name": "stderr",
          "output_type": "stream",
          "text": [
            "100%|██████████| 108/108 [00:18<00:00,  5.87it/s]\n"
          ]
        },
        {
          "name": "stdout",
          "output_type": "stream",
          "text": [
            "[ Valid | 097/150 ] loss = 1.15386, acc = 0.64979\n",
            "[ Valid | 097/150 ] loss = 1.15386, acc = 0.64979\n"
          ]
        },
        {
          "name": "stderr",
          "output_type": "stream",
          "text": [
            "100%|██████████| 309/309 [01:25<00:00,  3.60it/s]\n"
          ]
        },
        {
          "name": "stdout",
          "output_type": "stream",
          "text": [
            "[ Train | 098/150 ] loss = 0.97581, acc = 0.66323\n"
          ]
        },
        {
          "name": "stderr",
          "output_type": "stream",
          "text": [
            "100%|██████████| 108/108 [00:18<00:00,  5.89it/s]\n"
          ]
        },
        {
          "name": "stdout",
          "output_type": "stream",
          "text": [
            "[ Valid | 098/150 ] loss = 1.46372, acc = 0.57697\n",
            "[ Valid | 098/150 ] loss = 1.46372, acc = 0.57697\n"
          ]
        },
        {
          "name": "stderr",
          "output_type": "stream",
          "text": [
            "100%|██████████| 309/309 [01:25<00:00,  3.60it/s]\n"
          ]
        },
        {
          "name": "stdout",
          "output_type": "stream",
          "text": [
            "[ Train | 099/150 ] loss = 0.96977, acc = 0.66899\n"
          ]
        },
        {
          "name": "stderr",
          "output_type": "stream",
          "text": [
            "100%|██████████| 108/108 [00:18<00:00,  5.85it/s]\n"
          ]
        },
        {
          "name": "stdout",
          "output_type": "stream",
          "text": [
            "[ Valid | 099/150 ] loss = 1.10086, acc = 0.66001\n",
            "[ Valid | 099/150 ] loss = 1.10086, acc = 0.66001\n"
          ]
        },
        {
          "name": "stderr",
          "output_type": "stream",
          "text": [
            "100%|██████████| 309/309 [01:25<00:00,  3.60it/s]\n"
          ]
        },
        {
          "name": "stdout",
          "output_type": "stream",
          "text": [
            "[ Train | 100/150 ] loss = 0.96717, acc = 0.66266\n"
          ]
        },
        {
          "name": "stderr",
          "output_type": "stream",
          "text": [
            "100%|██████████| 108/108 [00:18<00:00,  5.90it/s]\n"
          ]
        },
        {
          "name": "stdout",
          "output_type": "stream",
          "text": [
            "[ Valid | 100/150 ] loss = 1.14994, acc = 0.63783\n",
            "[ Valid | 100/150 ] loss = 1.14994, acc = 0.63783\n"
          ]
        },
        {
          "name": "stderr",
          "output_type": "stream",
          "text": [
            "100%|██████████| 309/309 [01:25<00:00,  3.60it/s]\n"
          ]
        },
        {
          "name": "stdout",
          "output_type": "stream",
          "text": [
            "[ Train | 101/150 ] loss = 0.95374, acc = 0.67021\n"
          ]
        },
        {
          "name": "stderr",
          "output_type": "stream",
          "text": [
            "100%|██████████| 108/108 [00:18<00:00,  5.88it/s]\n"
          ]
        },
        {
          "name": "stdout",
          "output_type": "stream",
          "text": [
            "[ Valid | 101/150 ] loss = 1.01164, acc = 0.68451\n",
            "[ Valid | 101/150 ] loss = 1.01164, acc = 0.68451 -> best\n",
            "Best model found at epoch 100, saving model\n"
          ]
        },
        {
          "name": "stderr",
          "output_type": "stream",
          "text": [
            "100%|██████████| 309/309 [01:25<00:00,  3.60it/s]\n"
          ]
        },
        {
          "name": "stdout",
          "output_type": "stream",
          "text": [
            "[ Train | 102/150 ] loss = 0.95533, acc = 0.66879\n"
          ]
        },
        {
          "name": "stderr",
          "output_type": "stream",
          "text": [
            "100%|██████████| 108/108 [00:18<00:00,  5.86it/s]\n"
          ]
        },
        {
          "name": "stdout",
          "output_type": "stream",
          "text": [
            "[ Valid | 102/150 ] loss = 1.12295, acc = 0.65934\n",
            "[ Valid | 102/150 ] loss = 1.12295, acc = 0.65934\n"
          ]
        },
        {
          "name": "stderr",
          "output_type": "stream",
          "text": [
            "100%|██████████| 309/309 [01:25<00:00,  3.60it/s]\n"
          ]
        },
        {
          "name": "stdout",
          "output_type": "stream",
          "text": [
            "[ Train | 103/150 ] loss = 0.98250, acc = 0.66173\n"
          ]
        },
        {
          "name": "stderr",
          "output_type": "stream",
          "text": [
            "100%|██████████| 108/108 [00:18<00:00,  5.86it/s]\n"
          ]
        },
        {
          "name": "stdout",
          "output_type": "stream",
          "text": [
            "[ Valid | 103/150 ] loss = 1.70118, acc = 0.52739\n",
            "[ Valid | 103/150 ] loss = 1.70118, acc = 0.52739\n"
          ]
        },
        {
          "name": "stderr",
          "output_type": "stream",
          "text": [
            "100%|██████████| 309/309 [01:25<00:00,  3.60it/s]\n"
          ]
        },
        {
          "name": "stdout",
          "output_type": "stream",
          "text": [
            "[ Train | 104/150 ] loss = 0.95615, acc = 0.67162\n"
          ]
        },
        {
          "name": "stderr",
          "output_type": "stream",
          "text": [
            "100%|██████████| 108/108 [00:18<00:00,  5.85it/s]\n"
          ]
        },
        {
          "name": "stdout",
          "output_type": "stream",
          "text": [
            "[ Valid | 104/150 ] loss = 1.11985, acc = 0.66262\n",
            "[ Valid | 104/150 ] loss = 1.11985, acc = 0.66262\n"
          ]
        },
        {
          "name": "stderr",
          "output_type": "stream",
          "text": [
            "100%|██████████| 309/309 [01:25<00:00,  3.60it/s]\n"
          ]
        },
        {
          "name": "stdout",
          "output_type": "stream",
          "text": [
            "[ Train | 105/150 ] loss = 0.97838, acc = 0.66590\n"
          ]
        },
        {
          "name": "stderr",
          "output_type": "stream",
          "text": [
            "100%|██████████| 108/108 [00:18<00:00,  5.87it/s]\n"
          ]
        },
        {
          "name": "stdout",
          "output_type": "stream",
          "text": [
            "[ Valid | 105/150 ] loss = 1.15977, acc = 0.64014\n",
            "[ Valid | 105/150 ] loss = 1.15977, acc = 0.64014\n"
          ]
        },
        {
          "name": "stderr",
          "output_type": "stream",
          "text": [
            "100%|██████████| 309/309 [01:25<00:00,  3.60it/s]\n"
          ]
        },
        {
          "name": "stdout",
          "output_type": "stream",
          "text": [
            "[ Train | 106/150 ] loss = 0.96232, acc = 0.66816\n"
          ]
        },
        {
          "name": "stderr",
          "output_type": "stream",
          "text": [
            "100%|██████████| 108/108 [00:18<00:00,  5.86it/s]\n"
          ]
        },
        {
          "name": "stdout",
          "output_type": "stream",
          "text": [
            "[ Valid | 106/150 ] loss = 1.09553, acc = 0.65760\n",
            "[ Valid | 106/150 ] loss = 1.09553, acc = 0.65760\n"
          ]
        },
        {
          "name": "stderr",
          "output_type": "stream",
          "text": [
            "100%|██████████| 309/309 [01:25<00:00,  3.60it/s]\n"
          ]
        },
        {
          "name": "stdout",
          "output_type": "stream",
          "text": [
            "[ Train | 107/150 ] loss = 0.94027, acc = 0.67310\n"
          ]
        },
        {
          "name": "stderr",
          "output_type": "stream",
          "text": [
            "100%|██████████| 108/108 [00:18<00:00,  5.89it/s]\n"
          ]
        },
        {
          "name": "stdout",
          "output_type": "stream",
          "text": [
            "[ Valid | 107/150 ] loss = 1.07667, acc = 0.65799\n",
            "[ Valid | 107/150 ] loss = 1.07667, acc = 0.65799\n"
          ]
        },
        {
          "name": "stderr",
          "output_type": "stream",
          "text": [
            "100%|██████████| 309/309 [01:25<00:00,  3.61it/s]\n"
          ]
        },
        {
          "name": "stdout",
          "output_type": "stream",
          "text": [
            "[ Train | 108/150 ] loss = 0.94885, acc = 0.67589\n"
          ]
        },
        {
          "name": "stderr",
          "output_type": "stream",
          "text": [
            "100%|██████████| 108/108 [00:18<00:00,  5.89it/s]\n"
          ]
        },
        {
          "name": "stdout",
          "output_type": "stream",
          "text": [
            "[ Valid | 108/150 ] loss = 1.04565, acc = 0.67506\n",
            "[ Valid | 108/150 ] loss = 1.04565, acc = 0.67506\n"
          ]
        },
        {
          "name": "stderr",
          "output_type": "stream",
          "text": [
            "100%|██████████| 309/309 [01:25<00:00,  3.60it/s]\n"
          ]
        },
        {
          "name": "stdout",
          "output_type": "stream",
          "text": [
            "[ Train | 109/150 ] loss = 0.94807, acc = 0.67660\n"
          ]
        },
        {
          "name": "stderr",
          "output_type": "stream",
          "text": [
            "100%|██████████| 108/108 [00:18<00:00,  5.89it/s]\n"
          ]
        },
        {
          "name": "stdout",
          "output_type": "stream",
          "text": [
            "[ Valid | 109/150 ] loss = 1.06837, acc = 0.66927\n",
            "[ Valid | 109/150 ] loss = 1.06837, acc = 0.66927\n"
          ]
        },
        {
          "name": "stderr",
          "output_type": "stream",
          "text": [
            "100%|██████████| 309/309 [01:25<00:00,  3.60it/s]\n"
          ]
        },
        {
          "name": "stdout",
          "output_type": "stream",
          "text": [
            "[ Train | 110/150 ] loss = 0.92527, acc = 0.67660\n"
          ]
        },
        {
          "name": "stderr",
          "output_type": "stream",
          "text": [
            "100%|██████████| 108/108 [00:18<00:00,  5.91it/s]\n"
          ]
        },
        {
          "name": "stdout",
          "output_type": "stream",
          "text": [
            "[ Valid | 110/150 ] loss = 1.17222, acc = 0.65172\n",
            "[ Valid | 110/150 ] loss = 1.17222, acc = 0.65172\n"
          ]
        },
        {
          "name": "stderr",
          "output_type": "stream",
          "text": [
            "100%|██████████| 309/309 [01:25<00:00,  3.60it/s]\n"
          ]
        },
        {
          "name": "stdout",
          "output_type": "stream",
          "text": [
            "[ Train | 111/150 ] loss = 0.95970, acc = 0.66804\n"
          ]
        },
        {
          "name": "stderr",
          "output_type": "stream",
          "text": [
            "100%|██████████| 108/108 [00:18<00:00,  5.89it/s]\n"
          ]
        },
        {
          "name": "stdout",
          "output_type": "stream",
          "text": [
            "[ Valid | 111/150 ] loss = 1.37016, acc = 0.59674\n",
            "[ Valid | 111/150 ] loss = 1.37016, acc = 0.59674\n"
          ]
        },
        {
          "name": "stderr",
          "output_type": "stream",
          "text": [
            "100%|██████████| 309/309 [01:25<00:00,  3.60it/s]\n"
          ]
        },
        {
          "name": "stdout",
          "output_type": "stream",
          "text": [
            "[ Train | 112/150 ] loss = 0.92762, acc = 0.68226\n"
          ]
        },
        {
          "name": "stderr",
          "output_type": "stream",
          "text": [
            "100%|██████████| 108/108 [00:18<00:00,  5.88it/s]\n"
          ]
        },
        {
          "name": "stdout",
          "output_type": "stream",
          "text": [
            "[ Valid | 112/150 ] loss = 1.38681, acc = 0.59192\n",
            "[ Valid | 112/150 ] loss = 1.38681, acc = 0.59192\n"
          ]
        },
        {
          "name": "stderr",
          "output_type": "stream",
          "text": [
            "100%|██████████| 309/309 [01:25<00:00,  3.60it/s]\n"
          ]
        },
        {
          "name": "stdout",
          "output_type": "stream",
          "text": [
            "[ Train | 113/150 ] loss = 0.94636, acc = 0.67496\n"
          ]
        },
        {
          "name": "stderr",
          "output_type": "stream",
          "text": [
            "100%|██████████| 108/108 [00:18<00:00,  5.87it/s]\n"
          ]
        },
        {
          "name": "stdout",
          "output_type": "stream",
          "text": [
            "[ Valid | 113/150 ] loss = 1.10307, acc = 0.67486\n",
            "[ Valid | 113/150 ] loss = 1.10307, acc = 0.67486\n"
          ]
        },
        {
          "name": "stderr",
          "output_type": "stream",
          "text": [
            "100%|██████████| 309/309 [01:25<00:00,  3.60it/s]\n"
          ]
        },
        {
          "name": "stdout",
          "output_type": "stream",
          "text": [
            "[ Train | 114/150 ] loss = 0.92624, acc = 0.68095\n"
          ]
        },
        {
          "name": "stderr",
          "output_type": "stream",
          "text": [
            "100%|██████████| 108/108 [00:18<00:00,  5.87it/s]\n"
          ]
        },
        {
          "name": "stdout",
          "output_type": "stream",
          "text": [
            "[ Valid | 114/150 ] loss = 1.34689, acc = 0.61333\n",
            "[ Valid | 114/150 ] loss = 1.34689, acc = 0.61333\n"
          ]
        },
        {
          "name": "stderr",
          "output_type": "stream",
          "text": [
            "100%|██████████| 309/309 [01:25<00:00,  3.60it/s]\n"
          ]
        },
        {
          "name": "stdout",
          "output_type": "stream",
          "text": [
            "[ Train | 115/150 ] loss = 0.93741, acc = 0.68612\n"
          ]
        },
        {
          "name": "stderr",
          "output_type": "stream",
          "text": [
            "100%|██████████| 108/108 [00:18<00:00,  5.88it/s]\n"
          ]
        },
        {
          "name": "stdout",
          "output_type": "stream",
          "text": [
            "[ Valid | 115/150 ] loss = 1.05275, acc = 0.67419\n",
            "[ Valid | 115/150 ] loss = 1.05275, acc = 0.67419\n"
          ]
        },
        {
          "name": "stderr",
          "output_type": "stream",
          "text": [
            "100%|██████████| 309/309 [01:25<00:00,  3.61it/s]\n"
          ]
        },
        {
          "name": "stdout",
          "output_type": "stream",
          "text": [
            "[ Train | 116/150 ] loss = 0.94490, acc = 0.67801\n"
          ]
        },
        {
          "name": "stderr",
          "output_type": "stream",
          "text": [
            "100%|██████████| 108/108 [00:18<00:00,  5.90it/s]\n"
          ]
        },
        {
          "name": "stdout",
          "output_type": "stream",
          "text": [
            "[ Valid | 116/150 ] loss = 1.14043, acc = 0.65162\n",
            "[ Valid | 116/150 ] loss = 1.14043, acc = 0.65162\n"
          ]
        },
        {
          "name": "stderr",
          "output_type": "stream",
          "text": [
            "100%|██████████| 309/309 [01:25<00:00,  3.61it/s]\n"
          ]
        },
        {
          "name": "stdout",
          "output_type": "stream",
          "text": [
            "[ Train | 117/150 ] loss = 0.92906, acc = 0.68198\n"
          ]
        },
        {
          "name": "stderr",
          "output_type": "stream",
          "text": [
            "100%|██████████| 108/108 [00:18<00:00,  5.89it/s]\n"
          ]
        },
        {
          "name": "stdout",
          "output_type": "stream",
          "text": [
            "[ Valid | 117/150 ] loss = 1.10286, acc = 0.66975\n",
            "[ Valid | 117/150 ] loss = 1.10286, acc = 0.66975\n"
          ]
        },
        {
          "name": "stderr",
          "output_type": "stream",
          "text": [
            "100%|██████████| 309/309 [01:25<00:00,  3.59it/s]\n"
          ]
        },
        {
          "name": "stdout",
          "output_type": "stream",
          "text": [
            "[ Train | 118/150 ] loss = 0.92905, acc = 0.68076\n"
          ]
        },
        {
          "name": "stderr",
          "output_type": "stream",
          "text": [
            "100%|██████████| 108/108 [00:18<00:00,  5.89it/s]\n"
          ]
        },
        {
          "name": "stdout",
          "output_type": "stream",
          "text": [
            "[ Valid | 118/150 ] loss = 1.14491, acc = 0.66291\n",
            "[ Valid | 118/150 ] loss = 1.14491, acc = 0.66291\n"
          ]
        },
        {
          "name": "stderr",
          "output_type": "stream",
          "text": [
            "100%|██████████| 309/309 [01:25<00:00,  3.60it/s]\n"
          ]
        },
        {
          "name": "stdout",
          "output_type": "stream",
          "text": [
            "[ Train | 119/150 ] loss = 0.92432, acc = 0.68653\n"
          ]
        },
        {
          "name": "stderr",
          "output_type": "stream",
          "text": [
            "100%|██████████| 108/108 [00:18<00:00,  5.86it/s]\n"
          ]
        },
        {
          "name": "stdout",
          "output_type": "stream",
          "text": [
            "[ Valid | 119/150 ] loss = 1.20399, acc = 0.63281\n",
            "[ Valid | 119/150 ] loss = 1.20399, acc = 0.63281\n"
          ]
        },
        {
          "name": "stderr",
          "output_type": "stream",
          "text": [
            "100%|██████████| 309/309 [01:25<00:00,  3.61it/s]\n"
          ]
        },
        {
          "name": "stdout",
          "output_type": "stream",
          "text": [
            "[ Train | 120/150 ] loss = 0.92026, acc = 0.68667\n"
          ]
        },
        {
          "name": "stderr",
          "output_type": "stream",
          "text": [
            "100%|██████████| 108/108 [00:18<00:00,  5.90it/s]\n"
          ]
        },
        {
          "name": "stdout",
          "output_type": "stream",
          "text": [
            "[ Valid | 120/150 ] loss = 1.30216, acc = 0.63358\n",
            "[ Valid | 120/150 ] loss = 1.30216, acc = 0.63358\n"
          ]
        },
        {
          "name": "stderr",
          "output_type": "stream",
          "text": [
            "100%|██████████| 309/309 [01:25<00:00,  3.61it/s]\n"
          ]
        },
        {
          "name": "stdout",
          "output_type": "stream",
          "text": [
            "[ Train | 121/150 ] loss = 0.91222, acc = 0.68736\n"
          ]
        },
        {
          "name": "stderr",
          "output_type": "stream",
          "text": [
            "100%|██████████| 108/108 [00:18<00:00,  5.85it/s]\n"
          ]
        },
        {
          "name": "stdout",
          "output_type": "stream",
          "text": [
            "[ Valid | 121/150 ] loss = 1.54263, acc = 0.58574\n",
            "[ Valid | 121/150 ] loss = 1.54263, acc = 0.58574\n"
          ]
        },
        {
          "name": "stderr",
          "output_type": "stream",
          "text": [
            "100%|██████████| 309/309 [01:25<00:00,  3.60it/s]\n"
          ]
        },
        {
          "name": "stdout",
          "output_type": "stream",
          "text": [
            "[ Train | 122/150 ] loss = 0.90447, acc = 0.69140\n"
          ]
        },
        {
          "name": "stderr",
          "output_type": "stream",
          "text": [
            "100%|██████████| 108/108 [00:18<00:00,  5.88it/s]\n"
          ]
        },
        {
          "name": "stdout",
          "output_type": "stream",
          "text": [
            "[ Valid | 122/150 ] loss = 1.03214, acc = 0.68123\n",
            "[ Valid | 122/150 ] loss = 1.03214, acc = 0.68123\n"
          ]
        },
        {
          "name": "stderr",
          "output_type": "stream",
          "text": [
            "100%|██████████| 309/309 [01:25<00:00,  3.61it/s]\n"
          ]
        },
        {
          "name": "stdout",
          "output_type": "stream",
          "text": [
            "[ Train | 123/150 ] loss = 0.90655, acc = 0.69118\n"
          ]
        },
        {
          "name": "stderr",
          "output_type": "stream",
          "text": [
            "100%|██████████| 108/108 [00:18<00:00,  5.91it/s]\n"
          ]
        },
        {
          "name": "stdout",
          "output_type": "stream",
          "text": [
            "[ Valid | 123/150 ] loss = 1.28936, acc = 0.63397\n",
            "[ Valid | 123/150 ] loss = 1.28936, acc = 0.63397\n"
          ]
        },
        {
          "name": "stderr",
          "output_type": "stream",
          "text": [
            "100%|██████████| 309/309 [01:25<00:00,  3.60it/s]\n"
          ]
        },
        {
          "name": "stdout",
          "output_type": "stream",
          "text": [
            "[ Train | 124/150 ] loss = 0.91131, acc = 0.68530\n"
          ]
        },
        {
          "name": "stderr",
          "output_type": "stream",
          "text": [
            "100%|██████████| 108/108 [00:18<00:00,  5.90it/s]\n"
          ]
        },
        {
          "name": "stdout",
          "output_type": "stream",
          "text": [
            "[ Valid | 124/150 ] loss = 0.98312, acc = 0.69165\n",
            "[ Valid | 124/150 ] loss = 0.98312, acc = 0.69165 -> best\n",
            "Best model found at epoch 123, saving model\n"
          ]
        },
        {
          "name": "stderr",
          "output_type": "stream",
          "text": [
            "100%|██████████| 309/309 [01:25<00:00,  3.60it/s]\n"
          ]
        },
        {
          "name": "stdout",
          "output_type": "stream",
          "text": [
            "[ Train | 125/150 ] loss = 0.88983, acc = 0.69478\n"
          ]
        },
        {
          "name": "stderr",
          "output_type": "stream",
          "text": [
            "100%|██████████| 108/108 [00:18<00:00,  5.88it/s]\n"
          ]
        },
        {
          "name": "stdout",
          "output_type": "stream",
          "text": [
            "[ Valid | 125/150 ] loss = 1.38862, acc = 0.60320\n",
            "[ Valid | 125/150 ] loss = 1.38862, acc = 0.60320\n"
          ]
        },
        {
          "name": "stderr",
          "output_type": "stream",
          "text": [
            "100%|██████████| 309/309 [01:25<00:00,  3.61it/s]\n"
          ]
        },
        {
          "name": "stdout",
          "output_type": "stream",
          "text": [
            "[ Train | 126/150 ] loss = 0.90510, acc = 0.68633\n"
          ]
        },
        {
          "name": "stderr",
          "output_type": "stream",
          "text": [
            "100%|██████████| 108/108 [00:18<00:00,  5.93it/s]\n"
          ]
        },
        {
          "name": "stdout",
          "output_type": "stream",
          "text": [
            "[ Valid | 126/150 ] loss = 1.02283, acc = 0.68210\n",
            "[ Valid | 126/150 ] loss = 1.02283, acc = 0.68210\n"
          ]
        },
        {
          "name": "stderr",
          "output_type": "stream",
          "text": [
            "100%|██████████| 309/309 [01:25<00:00,  3.62it/s]\n"
          ]
        },
        {
          "name": "stdout",
          "output_type": "stream",
          "text": [
            "[ Train | 127/150 ] loss = 0.90372, acc = 0.68958\n"
          ]
        },
        {
          "name": "stderr",
          "output_type": "stream",
          "text": [
            "100%|██████████| 108/108 [00:18<00:00,  5.90it/s]\n"
          ]
        },
        {
          "name": "stdout",
          "output_type": "stream",
          "text": [
            "[ Valid | 127/150 ] loss = 1.01860, acc = 0.69001\n",
            "[ Valid | 127/150 ] loss = 1.01860, acc = 0.69001\n"
          ]
        },
        {
          "name": "stderr",
          "output_type": "stream",
          "text": [
            "100%|██████████| 309/309 [01:25<00:00,  3.61it/s]\n"
          ]
        },
        {
          "name": "stdout",
          "output_type": "stream",
          "text": [
            "[ Train | 128/150 ] loss = 0.89353, acc = 0.69207\n"
          ]
        },
        {
          "name": "stderr",
          "output_type": "stream",
          "text": [
            "100%|██████████| 108/108 [00:18<00:00,  5.94it/s]\n"
          ]
        },
        {
          "name": "stdout",
          "output_type": "stream",
          "text": [
            "[ Valid | 128/150 ] loss = 1.06556, acc = 0.68027\n",
            "[ Valid | 128/150 ] loss = 1.06556, acc = 0.68027\n"
          ]
        },
        {
          "name": "stderr",
          "output_type": "stream",
          "text": [
            "100%|██████████| 309/309 [01:25<00:00,  3.61it/s]\n"
          ]
        },
        {
          "name": "stdout",
          "output_type": "stream",
          "text": [
            "[ Train | 129/150 ] loss = 0.88727, acc = 0.69856\n"
          ]
        },
        {
          "name": "stderr",
          "output_type": "stream",
          "text": [
            "100%|██████████| 108/108 [00:18<00:00,  5.94it/s]\n"
          ]
        },
        {
          "name": "stdout",
          "output_type": "stream",
          "text": [
            "[ Valid | 129/150 ] loss = 1.34134, acc = 0.62722\n",
            "[ Valid | 129/150 ] loss = 1.34134, acc = 0.62722\n"
          ]
        },
        {
          "name": "stderr",
          "output_type": "stream",
          "text": [
            "100%|██████████| 309/309 [01:25<00:00,  3.61it/s]\n"
          ]
        },
        {
          "name": "stdout",
          "output_type": "stream",
          "text": [
            "[ Train | 130/150 ] loss = 0.89791, acc = 0.68906\n"
          ]
        },
        {
          "name": "stderr",
          "output_type": "stream",
          "text": [
            "100%|██████████| 108/108 [00:18<00:00,  5.92it/s]\n"
          ]
        },
        {
          "name": "stdout",
          "output_type": "stream",
          "text": [
            "[ Valid | 130/150 ] loss = 1.10175, acc = 0.65654\n",
            "[ Valid | 130/150 ] loss = 1.10175, acc = 0.65654\n"
          ]
        },
        {
          "name": "stderr",
          "output_type": "stream",
          "text": [
            "100%|██████████| 309/309 [01:25<00:00,  3.61it/s]\n"
          ]
        },
        {
          "name": "stdout",
          "output_type": "stream",
          "text": [
            "[ Train | 131/150 ] loss = 0.88629, acc = 0.69826\n"
          ]
        },
        {
          "name": "stderr",
          "output_type": "stream",
          "text": [
            "100%|██████████| 108/108 [00:18<00:00,  5.92it/s]\n"
          ]
        },
        {
          "name": "stdout",
          "output_type": "stream",
          "text": [
            "[ Valid | 131/150 ] loss = 1.13938, acc = 0.66889\n",
            "[ Valid | 131/150 ] loss = 1.13938, acc = 0.66889\n"
          ]
        },
        {
          "name": "stderr",
          "output_type": "stream",
          "text": [
            "100%|██████████| 309/309 [01:25<00:00,  3.61it/s]\n"
          ]
        },
        {
          "name": "stdout",
          "output_type": "stream",
          "text": [
            "[ Train | 132/150 ] loss = 0.89485, acc = 0.69490\n"
          ]
        },
        {
          "name": "stderr",
          "output_type": "stream",
          "text": [
            "100%|██████████| 108/108 [00:18<00:00,  5.94it/s]\n"
          ]
        },
        {
          "name": "stdout",
          "output_type": "stream",
          "text": [
            "[ Valid | 132/150 ] loss = 1.49803, acc = 0.59742\n",
            "[ Valid | 132/150 ] loss = 1.49803, acc = 0.59742\n"
          ]
        },
        {
          "name": "stderr",
          "output_type": "stream",
          "text": [
            "100%|██████████| 309/309 [01:25<00:00,  3.61it/s]\n"
          ]
        },
        {
          "name": "stdout",
          "output_type": "stream",
          "text": [
            "[ Train | 133/150 ] loss = 0.88247, acc = 0.69737\n"
          ]
        },
        {
          "name": "stderr",
          "output_type": "stream",
          "text": [
            "100%|██████████| 108/108 [00:18<00:00,  5.91it/s]\n"
          ]
        },
        {
          "name": "stdout",
          "output_type": "stream",
          "text": [
            "[ Valid | 133/150 ] loss = 0.97307, acc = 0.69570\n",
            "[ Valid | 133/150 ] loss = 0.97307, acc = 0.69570 -> best\n",
            "Best model found at epoch 132, saving model\n"
          ]
        },
        {
          "name": "stderr",
          "output_type": "stream",
          "text": [
            "100%|██████████| 309/309 [01:25<00:00,  3.61it/s]\n"
          ]
        },
        {
          "name": "stdout",
          "output_type": "stream",
          "text": [
            "[ Train | 134/150 ] loss = 0.90054, acc = 0.69399\n"
          ]
        },
        {
          "name": "stderr",
          "output_type": "stream",
          "text": [
            "100%|██████████| 108/108 [00:18<00:00,  5.92it/s]\n"
          ]
        },
        {
          "name": "stdout",
          "output_type": "stream",
          "text": [
            "[ Valid | 134/150 ] loss = 1.23989, acc = 0.62490\n",
            "[ Valid | 134/150 ] loss = 1.23989, acc = 0.62490\n"
          ]
        },
        {
          "name": "stderr",
          "output_type": "stream",
          "text": [
            "100%|██████████| 309/309 [01:25<00:00,  3.61it/s]\n"
          ]
        },
        {
          "name": "stdout",
          "output_type": "stream",
          "text": [
            "[ Train | 135/150 ] loss = 0.88159, acc = 0.69547\n"
          ]
        },
        {
          "name": "stderr",
          "output_type": "stream",
          "text": [
            "100%|██████████| 108/108 [00:18<00:00,  5.95it/s]\n"
          ]
        },
        {
          "name": "stdout",
          "output_type": "stream",
          "text": [
            "[ Valid | 135/150 ] loss = 1.06277, acc = 0.67438\n",
            "[ Valid | 135/150 ] loss = 1.06277, acc = 0.67438\n"
          ]
        },
        {
          "name": "stderr",
          "output_type": "stream",
          "text": [
            "100%|██████████| 309/309 [01:25<00:00,  3.62it/s]\n"
          ]
        },
        {
          "name": "stdout",
          "output_type": "stream",
          "text": [
            "[ Train | 136/150 ] loss = 0.89013, acc = 0.69755\n"
          ]
        },
        {
          "name": "stderr",
          "output_type": "stream",
          "text": [
            "100%|██████████| 108/108 [00:18<00:00,  5.95it/s]\n"
          ]
        },
        {
          "name": "stdout",
          "output_type": "stream",
          "text": [
            "[ Valid | 136/150 ] loss = 1.10700, acc = 0.67757\n",
            "[ Valid | 136/150 ] loss = 1.10700, acc = 0.67757\n"
          ]
        },
        {
          "name": "stderr",
          "output_type": "stream",
          "text": [
            "100%|██████████| 309/309 [01:25<00:00,  3.61it/s]\n"
          ]
        },
        {
          "name": "stdout",
          "output_type": "stream",
          "text": [
            "[ Train | 137/150 ] loss = 0.87279, acc = 0.70364\n"
          ]
        },
        {
          "name": "stderr",
          "output_type": "stream",
          "text": [
            "100%|██████████| 108/108 [00:18<00:00,  5.94it/s]\n"
          ]
        },
        {
          "name": "stdout",
          "output_type": "stream",
          "text": [
            "[ Valid | 137/150 ] loss = 0.96871, acc = 0.69801\n",
            "[ Valid | 137/150 ] loss = 0.96871, acc = 0.69801 -> best\n",
            "Best model found at epoch 136, saving model\n"
          ]
        },
        {
          "name": "stderr",
          "output_type": "stream",
          "text": [
            "100%|██████████| 309/309 [01:25<00:00,  3.60it/s]\n"
          ]
        },
        {
          "name": "stdout",
          "output_type": "stream",
          "text": [
            "[ Train | 138/150 ] loss = 0.88339, acc = 0.70196\n"
          ]
        },
        {
          "name": "stderr",
          "output_type": "stream",
          "text": [
            "100%|██████████| 108/108 [00:18<00:00,  5.92it/s]\n"
          ]
        },
        {
          "name": "stdout",
          "output_type": "stream",
          "text": [
            "[ Valid | 138/150 ] loss = 1.49118, acc = 0.59086\n",
            "[ Valid | 138/150 ] loss = 1.49118, acc = 0.59086\n"
          ]
        },
        {
          "name": "stderr",
          "output_type": "stream",
          "text": [
            "100%|██████████| 309/309 [01:25<00:00,  3.61it/s]\n"
          ]
        },
        {
          "name": "stdout",
          "output_type": "stream",
          "text": [
            "[ Train | 139/150 ] loss = 0.86258, acc = 0.70356\n"
          ]
        },
        {
          "name": "stderr",
          "output_type": "stream",
          "text": [
            "100%|██████████| 108/108 [00:18<00:00,  5.93it/s]\n"
          ]
        },
        {
          "name": "stdout",
          "output_type": "stream",
          "text": [
            "[ Valid | 139/150 ] loss = 0.99814, acc = 0.69280\n",
            "[ Valid | 139/150 ] loss = 0.99814, acc = 0.69280\n"
          ]
        },
        {
          "name": "stderr",
          "output_type": "stream",
          "text": [
            "100%|██████████| 309/309 [01:25<00:00,  3.61it/s]\n"
          ]
        },
        {
          "name": "stdout",
          "output_type": "stream",
          "text": [
            "[ Train | 140/150 ] loss = 0.86866, acc = 0.70063\n"
          ]
        },
        {
          "name": "stderr",
          "output_type": "stream",
          "text": [
            "100%|██████████| 108/108 [00:18<00:00,  5.93it/s]\n"
          ]
        },
        {
          "name": "stdout",
          "output_type": "stream",
          "text": [
            "[ Valid | 140/150 ] loss = 1.01338, acc = 0.70062\n",
            "[ Valid | 140/150 ] loss = 1.01338, acc = 0.70062 -> best\n",
            "Best model found at epoch 139, saving model\n"
          ]
        },
        {
          "name": "stderr",
          "output_type": "stream",
          "text": [
            "100%|██████████| 309/309 [01:25<00:00,  3.61it/s]\n"
          ]
        },
        {
          "name": "stdout",
          "output_type": "stream",
          "text": [
            "[ Train | 141/150 ] loss = 0.86522, acc = 0.70150\n"
          ]
        },
        {
          "name": "stderr",
          "output_type": "stream",
          "text": [
            "100%|██████████| 108/108 [00:18<00:00,  5.92it/s]\n"
          ]
        },
        {
          "name": "stdout",
          "output_type": "stream",
          "text": [
            "[ Valid | 141/150 ] loss = 1.08921, acc = 0.67303\n",
            "[ Valid | 141/150 ] loss = 1.08921, acc = 0.67303\n"
          ]
        },
        {
          "name": "stderr",
          "output_type": "stream",
          "text": [
            "100%|██████████| 309/309 [01:25<00:00,  3.61it/s]\n"
          ]
        },
        {
          "name": "stdout",
          "output_type": "stream",
          "text": [
            "[ Train | 142/150 ] loss = 0.87470, acc = 0.69737\n"
          ]
        },
        {
          "name": "stderr",
          "output_type": "stream",
          "text": [
            "100%|██████████| 108/108 [00:18<00:00,  5.91it/s]\n"
          ]
        },
        {
          "name": "stdout",
          "output_type": "stream",
          "text": [
            "[ Valid | 142/150 ] loss = 1.06802, acc = 0.68644\n",
            "[ Valid | 142/150 ] loss = 1.06802, acc = 0.68644\n"
          ]
        },
        {
          "name": "stderr",
          "output_type": "stream",
          "text": [
            "100%|██████████| 309/309 [01:25<00:00,  3.60it/s]\n"
          ]
        },
        {
          "name": "stdout",
          "output_type": "stream",
          "text": [
            "[ Train | 143/150 ] loss = 0.86477, acc = 0.70303\n"
          ]
        },
        {
          "name": "stderr",
          "output_type": "stream",
          "text": [
            "100%|██████████| 108/108 [00:18<00:00,  5.96it/s]\n"
          ]
        },
        {
          "name": "stdout",
          "output_type": "stream",
          "text": [
            "[ Valid | 143/150 ] loss = 1.34694, acc = 0.62336\n",
            "[ Valid | 143/150 ] loss = 1.34694, acc = 0.62336\n"
          ]
        },
        {
          "name": "stderr",
          "output_type": "stream",
          "text": [
            "100%|██████████| 309/309 [01:25<00:00,  3.62it/s]\n"
          ]
        },
        {
          "name": "stdout",
          "output_type": "stream",
          "text": [
            "[ Train | 144/150 ] loss = 0.86710, acc = 0.70204\n"
          ]
        },
        {
          "name": "stderr",
          "output_type": "stream",
          "text": [
            "100%|██████████| 108/108 [00:18<00:00,  5.92it/s]\n"
          ]
        },
        {
          "name": "stdout",
          "output_type": "stream",
          "text": [
            "[ Valid | 144/150 ] loss = 0.96358, acc = 0.69888\n",
            "[ Valid | 144/150 ] loss = 0.96358, acc = 0.69888\n"
          ]
        },
        {
          "name": "stderr",
          "output_type": "stream",
          "text": [
            "100%|██████████| 309/309 [01:25<00:00,  3.61it/s]\n"
          ]
        },
        {
          "name": "stdout",
          "output_type": "stream",
          "text": [
            "[ Train | 145/150 ] loss = 0.87516, acc = 0.70002\n"
          ]
        },
        {
          "name": "stderr",
          "output_type": "stream",
          "text": [
            "100%|██████████| 108/108 [00:18<00:00,  5.97it/s]\n"
          ]
        },
        {
          "name": "stdout",
          "output_type": "stream",
          "text": [
            "[ Valid | 145/150 ] loss = 1.13125, acc = 0.66078\n",
            "[ Valid | 145/150 ] loss = 1.13125, acc = 0.66078\n"
          ]
        },
        {
          "name": "stderr",
          "output_type": "stream",
          "text": [
            "100%|██████████| 309/309 [01:25<00:00,  3.62it/s]\n"
          ]
        },
        {
          "name": "stdout",
          "output_type": "stream",
          "text": [
            "[ Train | 146/150 ] loss = 0.86064, acc = 0.70140\n"
          ]
        },
        {
          "name": "stderr",
          "output_type": "stream",
          "text": [
            "100%|██████████| 108/108 [00:18<00:00,  5.95it/s]\n"
          ]
        },
        {
          "name": "stdout",
          "output_type": "stream",
          "text": [
            "[ Valid | 146/150 ] loss = 1.03746, acc = 0.69464\n",
            "[ Valid | 146/150 ] loss = 1.03746, acc = 0.69464\n"
          ]
        },
        {
          "name": "stderr",
          "output_type": "stream",
          "text": [
            "100%|██████████| 309/309 [01:25<00:00,  3.62it/s]\n"
          ]
        },
        {
          "name": "stdout",
          "output_type": "stream",
          "text": [
            "[ Train | 147/150 ] loss = 0.85273, acc = 0.70959\n"
          ]
        },
        {
          "name": "stderr",
          "output_type": "stream",
          "text": [
            "100%|██████████| 108/108 [00:18<00:00,  5.95it/s]\n"
          ]
        },
        {
          "name": "stdout",
          "output_type": "stream",
          "text": [
            "[ Valid | 147/150 ] loss = 1.19771, acc = 0.64419\n",
            "[ Valid | 147/150 ] loss = 1.19771, acc = 0.64419\n"
          ]
        },
        {
          "name": "stderr",
          "output_type": "stream",
          "text": [
            "100%|██████████| 309/309 [01:25<00:00,  3.62it/s]\n"
          ]
        },
        {
          "name": "stdout",
          "output_type": "stream",
          "text": [
            "[ Train | 148/150 ] loss = 0.86677, acc = 0.70231\n"
          ]
        },
        {
          "name": "stderr",
          "output_type": "stream",
          "text": [
            "100%|██████████| 108/108 [00:18<00:00,  5.95it/s]\n"
          ]
        },
        {
          "name": "stdout",
          "output_type": "stream",
          "text": [
            "[ Valid | 148/150 ] loss = 0.99007, acc = 0.69010\n",
            "[ Valid | 148/150 ] loss = 0.99007, acc = 0.69010\n"
          ]
        },
        {
          "name": "stderr",
          "output_type": "stream",
          "text": [
            "100%|██████████| 309/309 [01:25<00:00,  3.62it/s]\n"
          ]
        },
        {
          "name": "stdout",
          "output_type": "stream",
          "text": [
            "[ Train | 149/150 ] loss = 0.85780, acc = 0.70665\n"
          ]
        },
        {
          "name": "stderr",
          "output_type": "stream",
          "text": [
            "100%|██████████| 108/108 [00:18<00:00,  5.90it/s]\n"
          ]
        },
        {
          "name": "stdout",
          "output_type": "stream",
          "text": [
            "[ Valid | 149/150 ] loss = 1.09880, acc = 0.66358\n",
            "[ Valid | 149/150 ] loss = 1.09880, acc = 0.66358\n"
          ]
        },
        {
          "name": "stderr",
          "output_type": "stream",
          "text": [
            "100%|██████████| 309/309 [01:25<00:00,  3.62it/s]\n"
          ]
        },
        {
          "name": "stdout",
          "output_type": "stream",
          "text": [
            "[ Train | 150/150 ] loss = 0.84035, acc = 0.71398\n"
          ]
        },
        {
          "name": "stderr",
          "output_type": "stream",
          "text": [
            "100%|██████████| 108/108 [00:18<00:00,  5.93it/s]"
          ]
        },
        {
          "name": "stdout",
          "output_type": "stream",
          "text": [
            "[ Valid | 150/150 ] loss = 1.03681, acc = 0.68644\n",
            "[ Valid | 150/150 ] loss = 1.03681, acc = 0.68644\n"
          ]
        },
        {
          "name": "stderr",
          "output_type": "stream",
          "text": [
            "\n"
          ]
        }
      ],
      "source": [
        "# \"cuda\" only when GPUs are available.\n",
        "device = \"cuda\" if torch.cuda.is_available() else \"cpu\"\n",
        "\n",
        "# The number of training epochs and patience.\n",
        "n_epochs = 150\n",
        "patience = 300 # If no improvement in 'patience' epochs, early stop\n",
        "\n",
        "# Initialize a model, and put it on the device specified.\n",
        "# model = Classifier().to(device)\n",
        "# model_used = timm.create_model('res2next50', pretrained=False)\n",
        "# model = timm.create_model('res2net101_26w_4s', pretrained=False).to(device)\n",
        "# model=model_used.to(device)\n",
        "model=Residual_Network().to(device)\n",
        "\n",
        "# For the classification task, we use cross-entropy as the measurement of performance.\n",
        "criterion = nn.CrossEntropyLoss()\n",
        "\n",
        "# Initialize optimizer, you may fine-tune some hyperparameters such as learning rate on your own.\n",
        "optimizer = torch.optim.Adam(model.parameters(), lr=0.0003, weight_decay=1e-3) \n",
        "\n",
        "T_max=10\n",
        "eta_min=0.0001\n",
        "scheduler=CosineAnnealingLR(optimizer,T_max=T_max,eta_min=eta_min)\n",
        "\n",
        "\n",
        "# Initialize trackers, these are not parameters and should not be changed\n",
        "stale = 0\n",
        "best_acc = 0\n",
        "\n",
        "for epoch in range(n_epochs):\n",
        "\n",
        "    # ---------- Training ----------\n",
        "    # Make sure the model is in train mode before training.\n",
        "    model.train()\n",
        "\n",
        "    # These are used to record information in training.\n",
        "    train_loss = []\n",
        "    train_accs = []\n",
        "\n",
        "    for batch in tqdm(train_loader):\n",
        "\n",
        "        # A batch consists of image data and corresponding labels.\n",
        "        imgs, labels = batch\n",
        "        #imgs = imgs.half()\n",
        "        #print(imgs.shape,labels.shape)\n",
        "\n",
        "        # Forward the data. (Make sure data and model are on the same device.)\n",
        "        logits = model(imgs.to(device))\n",
        "\n",
        "        # Calculate the cross-entropy loss.\n",
        "        # We don't need to apply softmax before computing cross-entropy as it is done automatically.\n",
        "        loss = criterion(logits, labels.to(device))\n",
        "\n",
        "        # Gradients stored in the parameters in the previous step should be cleared out first.\n",
        "        optimizer.zero_grad()\n",
        "\n",
        "        # Compute the gradients for parameters.\n",
        "        loss.backward()\n",
        "\n",
        "        # Clip the gradient norms for stable training.\n",
        "        grad_norm = nn.utils.clip_grad_norm_(model.parameters(), max_norm=10)\n",
        "\n",
        "        # Update the parameters with computed gradients.\n",
        "        optimizer.step()\n",
        "        scheduler.step()\n",
        "\n",
        "        # Compute the accuracy for current batch.\n",
        "        acc = (logits.argmax(dim=-1) == labels.to(device)).float().mean()\n",
        "\n",
        "        # Record the loss and accuracy.\n",
        "        train_loss.append(loss.item())\n",
        "        train_accs.append(acc)\n",
        "        \n",
        "    train_loss = sum(train_loss) / len(train_loss)\n",
        "    train_acc = sum(train_accs) / len(train_accs)\n",
        "\n",
        "    # Print the information.\n",
        "    print(f\"[ Train | {epoch + 1:03d}/{n_epochs:03d} ] loss = {train_loss:.5f}, acc = {train_acc:.5f}\")\n",
        "\n",
        "    # ---------- Validation ----------\n",
        "    # Make sure the model is in eval mode so that some modules like dropout are disabled and work normally.\n",
        "    model.eval()\n",
        "\n",
        "    # These are used to record information in validation.\n",
        "    valid_loss = []\n",
        "    valid_accs = []\n",
        "\n",
        "    # Iterate the validation set by batches.\n",
        "    for batch in tqdm(valid_loader):\n",
        "\n",
        "        # A batch consists of image data and corresponding labels.\n",
        "        imgs, labels = batch\n",
        "        #imgs = imgs.half()\n",
        "\n",
        "        # We don't need gradient in validation.\n",
        "        # Using torch.no_grad() accelerates the forward process.\n",
        "        with torch.no_grad():\n",
        "            logits = model(imgs.to(device))\n",
        "\n",
        "        # We can still compute the loss (but not the gradient).\n",
        "        loss = criterion(logits, labels.to(device))\n",
        "\n",
        "        # Compute the accuracy for current batch.\n",
        "        acc = (logits.argmax(dim=-1) == labels.to(device)).float().mean()\n",
        "\n",
        "        # Record the loss and accuracy.\n",
        "        valid_loss.append(loss.item())\n",
        "        valid_accs.append(acc)\n",
        "        #break\n",
        "\n",
        "    # The average loss and accuracy for entire validation set is the average of the recorded values.\n",
        "    valid_loss = sum(valid_loss) / len(valid_loss)\n",
        "    valid_acc = sum(valid_accs) / len(valid_accs)\n",
        "\n",
        "    # Print the information.\n",
        "    print(f\"[ Valid | {epoch + 1:03d}/{n_epochs:03d} ] loss = {valid_loss:.5f}, acc = {valid_acc:.5f}\")\n",
        "\n",
        "\n",
        "    # update logs\n",
        "    if valid_acc > best_acc:\n",
        "        with open(f\"./{_exp_name}_log.txt\",\"a\"):\n",
        "            print(f\"[ Valid | {epoch + 1:03d}/{n_epochs:03d} ] loss = {valid_loss:.5f}, acc = {valid_acc:.5f} -> best\")\n",
        "    else:\n",
        "        with open(f\"./{_exp_name}_log.txt\",\"a\"):\n",
        "            print(f\"[ Valid | {epoch + 1:03d}/{n_epochs:03d} ] loss = {valid_loss:.5f}, acc = {valid_acc:.5f}\")\n",
        "\n",
        "\n",
        "    # save models\n",
        "    if valid_acc > best_acc:\n",
        "        print(f\"Best model found at epoch {epoch}, saving model\")\n",
        "        torch.save(model.state_dict(), f\"{_exp_name}_best.ckpt\") # only save best to prevent output memory exceed error\n",
        "        best_acc = valid_acc\n",
        "        stale = 0\n",
        "    else:\n",
        "        stale += 1\n",
        "        if stale > patience:\n",
        "            print(f\"No improvment {patience} consecutive epochs, early stopping\")\n",
        "            break"
      ]
    },
    {
      "cell_type": "code",
      "execution_count": 11,
      "metadata": {
        "colab": {
          "base_uri": "https://localhost:8080/"
        },
        "execution": {
          "iopub.execute_input": "2022-03-03T13:12:03.273089Z",
          "iopub.status.busy": "2022-03-03T13:12:03.272682Z",
          "iopub.status.idle": "2022-03-03T13:12:03.288146Z",
          "shell.execute_reply": "2022-03-03T13:12:03.287465Z",
          "shell.execute_reply.started": "2022-03-03T13:12:03.273048Z"
        },
        "id": "B9QNdHIXVaVP",
        "outputId": "02fc4afa-dd85-4adb-bc28-37cafabe07cd",
        "papermill": {
          "duration": 0.493644,
          "end_time": "2022-02-23T19:10:19.985992",
          "exception": false,
          "start_time": "2022-02-23T19:10:19.492348",
          "status": "completed"
        },
        "tags": [],
        "trusted": true
      },
      "outputs": [
        {
          "name": "stdout",
          "output_type": "stream",
          "text": [
            "One ./food11/test sample ./food11/test/0001.jpg\n"
          ]
        }
      ],
      "source": [
        "test_set = FoodDataset(os.path.join(_dataset_dir,\"test\"), tfm=test_tfm)\n",
        "test_loader = DataLoader(test_set, batch_size=batch_size, shuffle=False, num_workers=0, pin_memory=True)"
      ]
    },
    {
      "cell_type": "markdown",
      "metadata": {
        "id": "G31uyjpvVaVP",
        "papermill": {
          "duration": 0.498773,
          "end_time": "2022-02-23T19:10:20.961802",
          "exception": false,
          "start_time": "2022-02-23T19:10:20.463029",
          "status": "completed"
        },
        "tags": []
      },
      "source": [
        "# Testing and generate prediction CSV"
      ]
    },
    {
      "cell_type": "code",
      "execution_count": 13,
      "metadata": {
        "execution": {
          "iopub.execute_input": "2022-03-03T13:12:03.290671Z",
          "iopub.status.busy": "2022-03-03T13:12:03.290214Z",
          "iopub.status.idle": "2022-03-03T13:12:37.20328Z",
          "shell.execute_reply": "2022-03-03T13:12:37.202502Z",
          "shell.execute_reply.started": "2022-03-03T13:12:03.290624Z"
        },
        "id": "bpLtxx5FVaVP",
        "papermill": {
          "duration": 49.157727,
          "end_time": "2022-02-23T19:11:10.61523",
          "exception": false,
          "start_time": "2022-02-23T19:10:21.457503",
          "status": "completed"
        },
        "tags": [],
        "trusted": true
      },
      "outputs": [],
      "source": [
        "model_best = model.to(device)\n",
        "model_best.load_state_dict(torch.load(f\"{_exp_name}_best.ckpt\"))\n",
        "model_best.eval()\n",
        "prediction = []\n",
        "with torch.no_grad():\n",
        "    for data,_ in test_loader:\n",
        "        test_pred = model_best(data.to(device))\n",
        "        test_label = np.argmax(test_pred.cpu().data.numpy(), axis=1)\n",
        "        prediction += test_label.squeeze().tolist()"
      ]
    },
    {
      "cell_type": "code",
      "execution_count": 14,
      "metadata": {
        "execution": {
          "iopub.execute_input": "2022-03-03T13:12:37.204789Z",
          "iopub.status.busy": "2022-03-03T13:12:37.20452Z",
          "iopub.status.idle": "2022-03-03T13:12:37.235831Z",
          "shell.execute_reply": "2022-03-03T13:12:37.235207Z",
          "shell.execute_reply.started": "2022-03-03T13:12:37.204753Z"
        },
        "id": "fKupB3VUVaVQ",
        "papermill": {
          "duration": 0.554276,
          "end_time": "2022-02-23T19:11:11.870035",
          "exception": false,
          "start_time": "2022-02-23T19:11:11.315759",
          "status": "completed"
        },
        "tags": [],
        "trusted": true
      },
      "outputs": [],
      "source": [
        "#create test csv\n",
        "def pad4(i):\n",
        "    return \"0\"*(4-len(str(i)))+str(i)\n",
        "df = pd.DataFrame()\n",
        "df[\"Id\"] = [pad4(i) for i in range(1,len(test_set)+1)]\n",
        "df[\"Category\"] = prediction\n",
        "df.to_csv(\"submission.csv\",index = False)"
      ]
    },
    {
      "cell_type": "markdown",
      "metadata": {
        "id": "Ivk0hrE-V8Cu"
      },
      "source": [
        "# Q1. Augmentation Implementation\n",
        "## Implement augmentation by finishing train_tfm in the code with image size of your choice. \n",
        "## Directly copy the following block and paste it on GradeScope after you finish the code\n",
        "### Your train_tfm must be capable of producing 5+ different results when given an identical image multiple times.\n",
        "### Your  train_tfm in the report can be different from train_tfm in your training code.\n"
      ]
    },
    {
      "cell_type": "code",
      "execution_count": null,
      "metadata": {
        "id": "GSfKNo42WjKm"
      },
      "outputs": [],
      "source": [
        "train_tfm = transforms.Compose([\n",
        "    # Resize the image into a fixed shape (height = width = 128)\n",
        "    transforms.Resize((128, 128)),\n",
        "    # You need to add some transforms here.\n",
        "    transforms.ToTensor(),\n",
        "])"
      ]
    },
    {
      "cell_type": "markdown",
      "metadata": {
        "id": "3HemRgZ6WwRM"
      },
      "source": [
        "# Q2. Residual Implementation\n",
        "![](https://i.imgur.com/GYsq1Ap.png)\n",
        "## Directly copy the following block and paste it on GradeScope after you finish the code\n"
      ]
    },
    {
      "cell_type": "code",
      "execution_count": null,
      "metadata": {
        "id": "Q4OK9kRaWuiV"
      },
      "outputs": [],
      "source": [
        "from torch import nn\n",
        "class Residual_Network(nn.Module):\n",
        "    def __init__(self):\n",
        "        super(Residual_Network, self).__init__()\n",
        "        \n",
        "        self.cnn_layer1 = nn.Sequential(\n",
        "            nn.Conv2d(3, 64, 3, 1, 1),\n",
        "            nn.BatchNorm2d(64),\n",
        "        )\n",
        "\n",
        "        self.cnn_layer2 = nn.Sequential(\n",
        "            nn.Conv2d(64, 64, 3, 1, 1),\n",
        "            nn.BatchNorm2d(64),\n",
        "        )\n",
        "\n",
        "        self.cnn_layer3 = nn.Sequential(\n",
        "            nn.Conv2d(64, 128, 3, 2, 1),\n",
        "            nn.BatchNorm2d(128),\n",
        "        )\n",
        "\n",
        "        self.cnn_layer4 = nn.Sequential(\n",
        "            nn.Conv2d(128, 128, 3, 1, 1),\n",
        "            nn.BatchNorm2d(128),\n",
        "        )\n",
        "        self.cnn_layer5 = nn.Sequential(\n",
        "            nn.Conv2d(128, 256, 3, 2, 1),\n",
        "            nn.BatchNorm2d(256),\n",
        "        )\n",
        "        self.cnn_layer6 = nn.Sequential(\n",
        "            nn.Conv2d(256, 256, 3, 1, 1),\n",
        "            nn.BatchNorm2d(256),\n",
        "        )\n",
        "        self.fc_layer = nn.Sequential(\n",
        "            nn.Linear(256* 32* 32, 256),\n",
        "            nn.ReLU(),\n",
        "            nn.Linear(256, 11)\n",
        "        )\n",
        "        self.relu = nn.ReLU()\n",
        "\n",
        "    def forward(self, x):\n",
        "        # input (x): [batch_size, 3, 128, 128]\n",
        "        # output: [batch_size, 11]\n",
        "        # Extract features by convolutional layers.\n",
        "        x1 = self.cnn_layer1(x)\n",
        "        x1 = self.relu(x1)\n",
        "        x2 = self.cnn_layer2(x1)\n",
        "        x2+=x1\n",
        "        x2 = self.relu(x2)\n",
        "        x3 = self.cnn_layer3(x2)\n",
        "        x3 = self.relu(x3)\n",
        "        x4 = self.cnn_layer4(x3)\n",
        "        x4+=x3\n",
        "        x4 = self.relu(x4)\n",
        "        x5 = self.cnn_layer5(x4)\n",
        "        x5 = self.relu(x5)\n",
        "        x6 = self.cnn_layer6(x5)\n",
        "        x5+=x6\n",
        "        x6 = self.relu(x6)\n",
        "        \n",
        "        # The extracted feature map must be flatten before going to fully-connected layers.\n",
        "        xout = x6.flatten(1)\n",
        "\n",
        "        # The features are transformed by fully-connected layers to obtain the final logits.\n",
        "        xout = self.fc_layer(xout)\n",
        "        return xout"
      ]
    }
  ],
  "metadata": {
    "accelerator": "GPU",
    "colab": {
      "name": "HW03",
      "provenance": []
    },
    "kernelspec": {
      "display_name": "Python 3",
      "language": "python",
      "name": "python3"
    },
    "language_info": {
      "codemirror_mode": {
        "name": "ipython",
        "version": 3
      },
      "file_extension": ".py",
      "mimetype": "text/x-python",
      "name": "python",
      "nbconvert_exporter": "python",
      "pygments_lexer": "ipython3",
      "version": "3.12.3"
    },
    "widgets": {
      "application/vnd.jupyter.widget-state+json": {
        "002050c9657448f3836ddeb14757026f": {
          "model_module": "@jupyter-widgets/base",
          "model_module_version": "1.2.0",
          "model_name": "LayoutModel",
          "state": {
            "_model_module": "@jupyter-widgets/base",
            "_model_module_version": "1.2.0",
            "_model_name": "LayoutModel",
            "_view_count": null,
            "_view_module": "@jupyter-widgets/base",
            "_view_module_version": "1.2.0",
            "_view_name": "LayoutView",
            "align_content": null,
            "align_items": null,
            "align_self": null,
            "border": null,
            "bottom": null,
            "display": null,
            "flex": null,
            "flex_flow": null,
            "grid_area": null,
            "grid_auto_columns": null,
            "grid_auto_flow": null,
            "grid_auto_rows": null,
            "grid_column": null,
            "grid_gap": null,
            "grid_row": null,
            "grid_template_areas": null,
            "grid_template_columns": null,
            "grid_template_rows": null,
            "height": null,
            "justify_content": null,
            "justify_items": null,
            "left": null,
            "margin": null,
            "max_height": null,
            "max_width": null,
            "min_height": null,
            "min_width": null,
            "object_fit": null,
            "object_position": null,
            "order": null,
            "overflow": null,
            "overflow_x": null,
            "overflow_y": null,
            "padding": null,
            "right": null,
            "top": null,
            "visibility": null,
            "width": null
          }
        },
        "0193eae66b6d44d98c8c7af1c3ca245e": {
          "model_module": "@jupyter-widgets/controls",
          "model_module_version": "1.5.0",
          "model_name": "DescriptionStyleModel",
          "state": {
            "_model_module": "@jupyter-widgets/controls",
            "_model_module_version": "1.5.0",
            "_model_name": "DescriptionStyleModel",
            "_view_count": null,
            "_view_module": "@jupyter-widgets/base",
            "_view_module_version": "1.2.0",
            "_view_name": "StyleView",
            "description_width": ""
          }
        },
        "01f202ceca4c432fb25cf1adceadddd4": {
          "model_module": "@jupyter-widgets/controls",
          "model_module_version": "1.5.0",
          "model_name": "DescriptionStyleModel",
          "state": {
            "_model_module": "@jupyter-widgets/controls",
            "_model_module_version": "1.5.0",
            "_model_name": "DescriptionStyleModel",
            "_view_count": null,
            "_view_module": "@jupyter-widgets/base",
            "_view_module_version": "1.2.0",
            "_view_name": "StyleView",
            "description_width": ""
          }
        },
        "05620cbadedf4d6ea05468ed8fe174bb": {
          "model_module": "@jupyter-widgets/controls",
          "model_module_version": "1.5.0",
          "model_name": "DescriptionStyleModel",
          "state": {
            "_model_module": "@jupyter-widgets/controls",
            "_model_module_version": "1.5.0",
            "_model_name": "DescriptionStyleModel",
            "_view_count": null,
            "_view_module": "@jupyter-widgets/base",
            "_view_module_version": "1.2.0",
            "_view_name": "StyleView",
            "description_width": ""
          }
        },
        "082f25ab850d4935b0843b0726e4db86": {
          "model_module": "@jupyter-widgets/controls",
          "model_module_version": "1.5.0",
          "model_name": "ProgressStyleModel",
          "state": {
            "_model_module": "@jupyter-widgets/controls",
            "_model_module_version": "1.5.0",
            "_model_name": "ProgressStyleModel",
            "_view_count": null,
            "_view_module": "@jupyter-widgets/base",
            "_view_module_version": "1.2.0",
            "_view_name": "StyleView",
            "bar_color": null,
            "description_width": ""
          }
        },
        "0b319f5705bf4c1f88e7ff53951d7486": {
          "model_module": "@jupyter-widgets/controls",
          "model_module_version": "1.5.0",
          "model_name": "HTMLModel",
          "state": {
            "_dom_classes": [],
            "_model_module": "@jupyter-widgets/controls",
            "_model_module_version": "1.5.0",
            "_model_name": "HTMLModel",
            "_view_count": null,
            "_view_module": "@jupyter-widgets/controls",
            "_view_module_version": "1.5.0",
            "_view_name": "HTMLView",
            "description": "",
            "description_tooltip": null,
            "layout": "IPY_MODEL_a40ef0d028874f328aa2bfa36af5c1f9",
            "placeholder": "​",
            "style": "IPY_MODEL_940659b9b3c74d0c99d170abf6b4c22f",
            "value": " 54/54 [00:33&lt;00:00,  1.70it/s]"
          }
        },
        "0ce96c05d8b7417ea552b7a0a5db757f": {
          "model_module": "@jupyter-widgets/controls",
          "model_module_version": "1.5.0",
          "model_name": "DescriptionStyleModel",
          "state": {
            "_model_module": "@jupyter-widgets/controls",
            "_model_module_version": "1.5.0",
            "_model_name": "DescriptionStyleModel",
            "_view_count": null,
            "_view_module": "@jupyter-widgets/base",
            "_view_module_version": "1.2.0",
            "_view_name": "StyleView",
            "description_width": ""
          }
        },
        "112b45da977a43be81589781387fcb25": {
          "model_module": "@jupyter-widgets/base",
          "model_module_version": "1.2.0",
          "model_name": "LayoutModel",
          "state": {
            "_model_module": "@jupyter-widgets/base",
            "_model_module_version": "1.2.0",
            "_model_name": "LayoutModel",
            "_view_count": null,
            "_view_module": "@jupyter-widgets/base",
            "_view_module_version": "1.2.0",
            "_view_name": "LayoutView",
            "align_content": null,
            "align_items": null,
            "align_self": null,
            "border": null,
            "bottom": null,
            "display": null,
            "flex": null,
            "flex_flow": null,
            "grid_area": null,
            "grid_auto_columns": null,
            "grid_auto_flow": null,
            "grid_auto_rows": null,
            "grid_column": null,
            "grid_gap": null,
            "grid_row": null,
            "grid_template_areas": null,
            "grid_template_columns": null,
            "grid_template_rows": null,
            "height": null,
            "justify_content": null,
            "justify_items": null,
            "left": null,
            "margin": null,
            "max_height": null,
            "max_width": null,
            "min_height": null,
            "min_width": null,
            "object_fit": null,
            "object_position": null,
            "order": null,
            "overflow": null,
            "overflow_x": null,
            "overflow_y": null,
            "padding": null,
            "right": null,
            "top": null,
            "visibility": null,
            "width": null
          }
        },
        "1419c935e12a43c6ad282126e220b04f": {
          "model_module": "@jupyter-widgets/controls",
          "model_module_version": "1.5.0",
          "model_name": "HTMLModel",
          "state": {
            "_dom_classes": [],
            "_model_module": "@jupyter-widgets/controls",
            "_model_module_version": "1.5.0",
            "_model_name": "HTMLModel",
            "_view_count": null,
            "_view_module": "@jupyter-widgets/controls",
            "_view_module_version": "1.5.0",
            "_view_name": "HTMLView",
            "description": "",
            "description_tooltip": null,
            "layout": "IPY_MODEL_51fc23b7d9e54434aabb27a0fdbdb0ef",
            "placeholder": "​",
            "style": "IPY_MODEL_0ce96c05d8b7417ea552b7a0a5db757f",
            "value": " 155/155 [02:08&lt;00:00,  1.52it/s]"
          }
        },
        "1adcd5d7b2d64095b7f4009206843375": {
          "model_module": "@jupyter-widgets/controls",
          "model_module_version": "1.5.0",
          "model_name": "HTMLModel",
          "state": {
            "_dom_classes": [],
            "_model_module": "@jupyter-widgets/controls",
            "_model_module_version": "1.5.0",
            "_model_name": "HTMLModel",
            "_view_count": null,
            "_view_module": "@jupyter-widgets/controls",
            "_view_module_version": "1.5.0",
            "_view_name": "HTMLView",
            "description": "",
            "description_tooltip": null,
            "layout": "IPY_MODEL_8080593c6cca4c54ac01a5346a400469",
            "placeholder": "​",
            "style": "IPY_MODEL_3a0761a5580441afa603aae4a9f940f5",
            "value": "100%"
          }
        },
        "1e6ed1370acc4a6192a6977311d4fefe": {
          "model_module": "@jupyter-widgets/base",
          "model_module_version": "1.2.0",
          "model_name": "LayoutModel",
          "state": {
            "_model_module": "@jupyter-widgets/base",
            "_model_module_version": "1.2.0",
            "_model_name": "LayoutModel",
            "_view_count": null,
            "_view_module": "@jupyter-widgets/base",
            "_view_module_version": "1.2.0",
            "_view_name": "LayoutView",
            "align_content": null,
            "align_items": null,
            "align_self": null,
            "border": null,
            "bottom": null,
            "display": null,
            "flex": null,
            "flex_flow": null,
            "grid_area": null,
            "grid_auto_columns": null,
            "grid_auto_flow": null,
            "grid_auto_rows": null,
            "grid_column": null,
            "grid_gap": null,
            "grid_row": null,
            "grid_template_areas": null,
            "grid_template_columns": null,
            "grid_template_rows": null,
            "height": null,
            "justify_content": null,
            "justify_items": null,
            "left": null,
            "margin": null,
            "max_height": null,
            "max_width": null,
            "min_height": null,
            "min_width": null,
            "object_fit": null,
            "object_position": null,
            "order": null,
            "overflow": null,
            "overflow_x": null,
            "overflow_y": null,
            "padding": null,
            "right": null,
            "top": null,
            "visibility": null,
            "width": null
          }
        },
        "20bffe91f7b7419f97fdcbf8802002b2": {
          "model_module": "@jupyter-widgets/base",
          "model_module_version": "1.2.0",
          "model_name": "LayoutModel",
          "state": {
            "_model_module": "@jupyter-widgets/base",
            "_model_module_version": "1.2.0",
            "_model_name": "LayoutModel",
            "_view_count": null,
            "_view_module": "@jupyter-widgets/base",
            "_view_module_version": "1.2.0",
            "_view_name": "LayoutView",
            "align_content": null,
            "align_items": null,
            "align_self": null,
            "border": null,
            "bottom": null,
            "display": null,
            "flex": null,
            "flex_flow": null,
            "grid_area": null,
            "grid_auto_columns": null,
            "grid_auto_flow": null,
            "grid_auto_rows": null,
            "grid_column": null,
            "grid_gap": null,
            "grid_row": null,
            "grid_template_areas": null,
            "grid_template_columns": null,
            "grid_template_rows": null,
            "height": null,
            "justify_content": null,
            "justify_items": null,
            "left": null,
            "margin": null,
            "max_height": null,
            "max_width": null,
            "min_height": null,
            "min_width": null,
            "object_fit": null,
            "object_position": null,
            "order": null,
            "overflow": null,
            "overflow_x": null,
            "overflow_y": null,
            "padding": null,
            "right": null,
            "top": null,
            "visibility": null,
            "width": null
          }
        },
        "21df1b0c3af1404db71f92815ce4f7e2": {
          "model_module": "@jupyter-widgets/controls",
          "model_module_version": "1.5.0",
          "model_name": "HBoxModel",
          "state": {
            "_dom_classes": [],
            "_model_module": "@jupyter-widgets/controls",
            "_model_module_version": "1.5.0",
            "_model_name": "HBoxModel",
            "_view_count": null,
            "_view_module": "@jupyter-widgets/controls",
            "_view_module_version": "1.5.0",
            "_view_name": "HBoxView",
            "box_style": "",
            "children": [
              "IPY_MODEL_5705c9836e6744798ebf26e082624ad6",
              "IPY_MODEL_7b2f9765b52140949f5107490b1a19cf",
              "IPY_MODEL_87a51e79aefe4d37aa4a61d2537eb164"
            ],
            "layout": "IPY_MODEL_cc6cfc6957df4777a60c22518a513add"
          }
        },
        "2568e2a9a63940a1afc4bf99297f43c5": {
          "model_module": "@jupyter-widgets/base",
          "model_module_version": "1.2.0",
          "model_name": "LayoutModel",
          "state": {
            "_model_module": "@jupyter-widgets/base",
            "_model_module_version": "1.2.0",
            "_model_name": "LayoutModel",
            "_view_count": null,
            "_view_module": "@jupyter-widgets/base",
            "_view_module_version": "1.2.0",
            "_view_name": "LayoutView",
            "align_content": null,
            "align_items": null,
            "align_self": null,
            "border": null,
            "bottom": null,
            "display": null,
            "flex": null,
            "flex_flow": null,
            "grid_area": null,
            "grid_auto_columns": null,
            "grid_auto_flow": null,
            "grid_auto_rows": null,
            "grid_column": null,
            "grid_gap": null,
            "grid_row": null,
            "grid_template_areas": null,
            "grid_template_columns": null,
            "grid_template_rows": null,
            "height": null,
            "justify_content": null,
            "justify_items": null,
            "left": null,
            "margin": null,
            "max_height": null,
            "max_width": null,
            "min_height": null,
            "min_width": null,
            "object_fit": null,
            "object_position": null,
            "order": null,
            "overflow": null,
            "overflow_x": null,
            "overflow_y": null,
            "padding": null,
            "right": null,
            "top": null,
            "visibility": null,
            "width": null
          }
        },
        "2ce21509b5254cd082ddbaeab13481fa": {
          "model_module": "@jupyter-widgets/controls",
          "model_module_version": "1.5.0",
          "model_name": "HTMLModel",
          "state": {
            "_dom_classes": [],
            "_model_module": "@jupyter-widgets/controls",
            "_model_module_version": "1.5.0",
            "_model_name": "HTMLModel",
            "_view_count": null,
            "_view_module": "@jupyter-widgets/controls",
            "_view_module_version": "1.5.0",
            "_view_name": "HTMLView",
            "description": "",
            "description_tooltip": null,
            "layout": "IPY_MODEL_3410d1eb883e4676b83f736a0b3c7ac0",
            "placeholder": "​",
            "style": "IPY_MODEL_05620cbadedf4d6ea05468ed8fe174bb",
            "value": "100%"
          }
        },
        "2f9c9c8c00f145778e35bacaa59a8b5e": {
          "model_module": "@jupyter-widgets/controls",
          "model_module_version": "1.5.0",
          "model_name": "ProgressStyleModel",
          "state": {
            "_model_module": "@jupyter-widgets/controls",
            "_model_module_version": "1.5.0",
            "_model_name": "ProgressStyleModel",
            "_view_count": null,
            "_view_module": "@jupyter-widgets/base",
            "_view_module_version": "1.2.0",
            "_view_name": "StyleView",
            "bar_color": null,
            "description_width": ""
          }
        },
        "3410d1eb883e4676b83f736a0b3c7ac0": {
          "model_module": "@jupyter-widgets/base",
          "model_module_version": "1.2.0",
          "model_name": "LayoutModel",
          "state": {
            "_model_module": "@jupyter-widgets/base",
            "_model_module_version": "1.2.0",
            "_model_name": "LayoutModel",
            "_view_count": null,
            "_view_module": "@jupyter-widgets/base",
            "_view_module_version": "1.2.0",
            "_view_name": "LayoutView",
            "align_content": null,
            "align_items": null,
            "align_self": null,
            "border": null,
            "bottom": null,
            "display": null,
            "flex": null,
            "flex_flow": null,
            "grid_area": null,
            "grid_auto_columns": null,
            "grid_auto_flow": null,
            "grid_auto_rows": null,
            "grid_column": null,
            "grid_gap": null,
            "grid_row": null,
            "grid_template_areas": null,
            "grid_template_columns": null,
            "grid_template_rows": null,
            "height": null,
            "justify_content": null,
            "justify_items": null,
            "left": null,
            "margin": null,
            "max_height": null,
            "max_width": null,
            "min_height": null,
            "min_width": null,
            "object_fit": null,
            "object_position": null,
            "order": null,
            "overflow": null,
            "overflow_x": null,
            "overflow_y": null,
            "padding": null,
            "right": null,
            "top": null,
            "visibility": null,
            "width": null
          }
        },
        "34b9d75cfa3e4e5ebde73f84a233c7c9": {
          "model_module": "@jupyter-widgets/controls",
          "model_module_version": "1.5.0",
          "model_name": "HTMLModel",
          "state": {
            "_dom_classes": [],
            "_model_module": "@jupyter-widgets/controls",
            "_model_module_version": "1.5.0",
            "_model_name": "HTMLModel",
            "_view_count": null,
            "_view_module": "@jupyter-widgets/controls",
            "_view_module_version": "1.5.0",
            "_view_name": "HTMLView",
            "description": "",
            "description_tooltip": null,
            "layout": "IPY_MODEL_606cca0455f941a0873c1af403505a7c",
            "placeholder": "​",
            "style": "IPY_MODEL_01f202ceca4c432fb25cf1adceadddd4",
            "value": "100%"
          }
        },
        "37cb05e865ae4e93aeae6dcadc516a32": {
          "model_module": "@jupyter-widgets/base",
          "model_module_version": "1.2.0",
          "model_name": "LayoutModel",
          "state": {
            "_model_module": "@jupyter-widgets/base",
            "_model_module_version": "1.2.0",
            "_model_name": "LayoutModel",
            "_view_count": null,
            "_view_module": "@jupyter-widgets/base",
            "_view_module_version": "1.2.0",
            "_view_name": "LayoutView",
            "align_content": null,
            "align_items": null,
            "align_self": null,
            "border": null,
            "bottom": null,
            "display": null,
            "flex": null,
            "flex_flow": null,
            "grid_area": null,
            "grid_auto_columns": null,
            "grid_auto_flow": null,
            "grid_auto_rows": null,
            "grid_column": null,
            "grid_gap": null,
            "grid_row": null,
            "grid_template_areas": null,
            "grid_template_columns": null,
            "grid_template_rows": null,
            "height": null,
            "justify_content": null,
            "justify_items": null,
            "left": null,
            "margin": null,
            "max_height": null,
            "max_width": null,
            "min_height": null,
            "min_width": null,
            "object_fit": null,
            "object_position": null,
            "order": null,
            "overflow": null,
            "overflow_x": null,
            "overflow_y": null,
            "padding": null,
            "right": null,
            "top": null,
            "visibility": null,
            "width": null
          }
        },
        "3a0761a5580441afa603aae4a9f940f5": {
          "model_module": "@jupyter-widgets/controls",
          "model_module_version": "1.5.0",
          "model_name": "DescriptionStyleModel",
          "state": {
            "_model_module": "@jupyter-widgets/controls",
            "_model_module_version": "1.5.0",
            "_model_name": "DescriptionStyleModel",
            "_view_count": null,
            "_view_module": "@jupyter-widgets/base",
            "_view_module_version": "1.2.0",
            "_view_name": "StyleView",
            "description_width": ""
          }
        },
        "3e728be5faf84b7d9c1eea54547938c1": {
          "model_module": "@jupyter-widgets/controls",
          "model_module_version": "1.5.0",
          "model_name": "DescriptionStyleModel",
          "state": {
            "_model_module": "@jupyter-widgets/controls",
            "_model_module_version": "1.5.0",
            "_model_name": "DescriptionStyleModel",
            "_view_count": null,
            "_view_module": "@jupyter-widgets/base",
            "_view_module_version": "1.2.0",
            "_view_name": "StyleView",
            "description_width": ""
          }
        },
        "3eb723e514bf410997e58e12b2aa9870": {
          "model_module": "@jupyter-widgets/controls",
          "model_module_version": "1.5.0",
          "model_name": "HTMLModel",
          "state": {
            "_dom_classes": [],
            "_model_module": "@jupyter-widgets/controls",
            "_model_module_version": "1.5.0",
            "_model_name": "HTMLModel",
            "_view_count": null,
            "_view_module": "@jupyter-widgets/controls",
            "_view_module_version": "1.5.0",
            "_view_name": "HTMLView",
            "description": "",
            "description_tooltip": null,
            "layout": "IPY_MODEL_5d246b05af2e440eb1eb46ee1f3685b3",
            "placeholder": "​",
            "style": "IPY_MODEL_4157cbb8f5b7489683669b25b583b324",
            "value": " 155/155 [02:07&lt;00:00,  1.57it/s]"
          }
        },
        "40c953e50bea4456b3636ec468b32f14": {
          "model_module": "@jupyter-widgets/controls",
          "model_module_version": "1.5.0",
          "model_name": "HBoxModel",
          "state": {
            "_dom_classes": [],
            "_model_module": "@jupyter-widgets/controls",
            "_model_module_version": "1.5.0",
            "_model_name": "HBoxModel",
            "_view_count": null,
            "_view_module": "@jupyter-widgets/controls",
            "_view_module_version": "1.5.0",
            "_view_name": "HBoxView",
            "box_style": "",
            "children": [
              "IPY_MODEL_1adcd5d7b2d64095b7f4009206843375",
              "IPY_MODEL_50fdf3a8769e4e088045397cf582f24e",
              "IPY_MODEL_bccc745f50c44be481e792082dc56bdc"
            ],
            "layout": "IPY_MODEL_c9f6dda2f6c743f8b5e097ef9c37bbb2"
          }
        },
        "4157cbb8f5b7489683669b25b583b324": {
          "model_module": "@jupyter-widgets/controls",
          "model_module_version": "1.5.0",
          "model_name": "DescriptionStyleModel",
          "state": {
            "_model_module": "@jupyter-widgets/controls",
            "_model_module_version": "1.5.0",
            "_model_name": "DescriptionStyleModel",
            "_view_count": null,
            "_view_module": "@jupyter-widgets/base",
            "_view_module_version": "1.2.0",
            "_view_name": "StyleView",
            "description_width": ""
          }
        },
        "4392f8b04afa43d387fb6338577c889d": {
          "model_module": "@jupyter-widgets/base",
          "model_module_version": "1.2.0",
          "model_name": "LayoutModel",
          "state": {
            "_model_module": "@jupyter-widgets/base",
            "_model_module_version": "1.2.0",
            "_model_name": "LayoutModel",
            "_view_count": null,
            "_view_module": "@jupyter-widgets/base",
            "_view_module_version": "1.2.0",
            "_view_name": "LayoutView",
            "align_content": null,
            "align_items": null,
            "align_self": null,
            "border": null,
            "bottom": null,
            "display": null,
            "flex": null,
            "flex_flow": null,
            "grid_area": null,
            "grid_auto_columns": null,
            "grid_auto_flow": null,
            "grid_auto_rows": null,
            "grid_column": null,
            "grid_gap": null,
            "grid_row": null,
            "grid_template_areas": null,
            "grid_template_columns": null,
            "grid_template_rows": null,
            "height": null,
            "justify_content": null,
            "justify_items": null,
            "left": null,
            "margin": null,
            "max_height": null,
            "max_width": null,
            "min_height": null,
            "min_width": null,
            "object_fit": null,
            "object_position": null,
            "order": null,
            "overflow": null,
            "overflow_x": null,
            "overflow_y": null,
            "padding": null,
            "right": null,
            "top": null,
            "visibility": null,
            "width": null
          }
        },
        "455f6d586b094606a36ed3dd967102c9": {
          "model_module": "@jupyter-widgets/base",
          "model_module_version": "1.2.0",
          "model_name": "LayoutModel",
          "state": {
            "_model_module": "@jupyter-widgets/base",
            "_model_module_version": "1.2.0",
            "_model_name": "LayoutModel",
            "_view_count": null,
            "_view_module": "@jupyter-widgets/base",
            "_view_module_version": "1.2.0",
            "_view_name": "LayoutView",
            "align_content": null,
            "align_items": null,
            "align_self": null,
            "border": null,
            "bottom": null,
            "display": null,
            "flex": null,
            "flex_flow": null,
            "grid_area": null,
            "grid_auto_columns": null,
            "grid_auto_flow": null,
            "grid_auto_rows": null,
            "grid_column": null,
            "grid_gap": null,
            "grid_row": null,
            "grid_template_areas": null,
            "grid_template_columns": null,
            "grid_template_rows": null,
            "height": null,
            "justify_content": null,
            "justify_items": null,
            "left": null,
            "margin": null,
            "max_height": null,
            "max_width": null,
            "min_height": null,
            "min_width": null,
            "object_fit": null,
            "object_position": null,
            "order": null,
            "overflow": null,
            "overflow_x": null,
            "overflow_y": null,
            "padding": null,
            "right": null,
            "top": null,
            "visibility": null,
            "width": null
          }
        },
        "498da906503141ffabdbd3406d008523": {
          "model_module": "@jupyter-widgets/controls",
          "model_module_version": "1.5.0",
          "model_name": "DescriptionStyleModel",
          "state": {
            "_model_module": "@jupyter-widgets/controls",
            "_model_module_version": "1.5.0",
            "_model_name": "DescriptionStyleModel",
            "_view_count": null,
            "_view_module": "@jupyter-widgets/base",
            "_view_module_version": "1.2.0",
            "_view_name": "StyleView",
            "description_width": ""
          }
        },
        "4b7d4d1dadd44039bbe954ff12f5421c": {
          "model_module": "@jupyter-widgets/controls",
          "model_module_version": "1.5.0",
          "model_name": "FloatProgressModel",
          "state": {
            "_dom_classes": [],
            "_model_module": "@jupyter-widgets/controls",
            "_model_module_version": "1.5.0",
            "_model_name": "FloatProgressModel",
            "_view_count": null,
            "_view_module": "@jupyter-widgets/controls",
            "_view_module_version": "1.5.0",
            "_view_name": "ProgressView",
            "bar_style": "success",
            "description": "",
            "description_tooltip": null,
            "layout": "IPY_MODEL_ea92a75640ba4b0da70c1592f555b006",
            "max": 54,
            "min": 0,
            "orientation": "horizontal",
            "style": "IPY_MODEL_e081dbdcd04547489bcf374e22a343cc",
            "value": 54
          }
        },
        "50fdf3a8769e4e088045397cf582f24e": {
          "model_module": "@jupyter-widgets/controls",
          "model_module_version": "1.5.0",
          "model_name": "FloatProgressModel",
          "state": {
            "_dom_classes": [],
            "_model_module": "@jupyter-widgets/controls",
            "_model_module_version": "1.5.0",
            "_model_name": "FloatProgressModel",
            "_view_count": null,
            "_view_module": "@jupyter-widgets/controls",
            "_view_module_version": "1.5.0",
            "_view_name": "ProgressView",
            "bar_style": "success",
            "description": "",
            "description_tooltip": null,
            "layout": "IPY_MODEL_2568e2a9a63940a1afc4bf99297f43c5",
            "max": 155,
            "min": 0,
            "orientation": "horizontal",
            "style": "IPY_MODEL_d1428b9747444a5795ee4ab454f2d561",
            "value": 155
          }
        },
        "51fc23b7d9e54434aabb27a0fdbdb0ef": {
          "model_module": "@jupyter-widgets/base",
          "model_module_version": "1.2.0",
          "model_name": "LayoutModel",
          "state": {
            "_model_module": "@jupyter-widgets/base",
            "_model_module_version": "1.2.0",
            "_model_name": "LayoutModel",
            "_view_count": null,
            "_view_module": "@jupyter-widgets/base",
            "_view_module_version": "1.2.0",
            "_view_name": "LayoutView",
            "align_content": null,
            "align_items": null,
            "align_self": null,
            "border": null,
            "bottom": null,
            "display": null,
            "flex": null,
            "flex_flow": null,
            "grid_area": null,
            "grid_auto_columns": null,
            "grid_auto_flow": null,
            "grid_auto_rows": null,
            "grid_column": null,
            "grid_gap": null,
            "grid_row": null,
            "grid_template_areas": null,
            "grid_template_columns": null,
            "grid_template_rows": null,
            "height": null,
            "justify_content": null,
            "justify_items": null,
            "left": null,
            "margin": null,
            "max_height": null,
            "max_width": null,
            "min_height": null,
            "min_width": null,
            "object_fit": null,
            "object_position": null,
            "order": null,
            "overflow": null,
            "overflow_x": null,
            "overflow_y": null,
            "padding": null,
            "right": null,
            "top": null,
            "visibility": null,
            "width": null
          }
        },
        "5705c9836e6744798ebf26e082624ad6": {
          "model_module": "@jupyter-widgets/controls",
          "model_module_version": "1.5.0",
          "model_name": "HTMLModel",
          "state": {
            "_dom_classes": [],
            "_model_module": "@jupyter-widgets/controls",
            "_model_module_version": "1.5.0",
            "_model_name": "HTMLModel",
            "_view_count": null,
            "_view_module": "@jupyter-widgets/controls",
            "_view_module_version": "1.5.0",
            "_view_name": "HTMLView",
            "description": "",
            "description_tooltip": null,
            "layout": "IPY_MODEL_455f6d586b094606a36ed3dd967102c9",
            "placeholder": "​",
            "style": "IPY_MODEL_8b757d6eb91b4fed8a23bf1f41a7cfd2",
            "value": "100%"
          }
        },
        "5a7f7e01edbf4429a4adc7ced4304fca": {
          "model_module": "@jupyter-widgets/controls",
          "model_module_version": "1.5.0",
          "model_name": "HBoxModel",
          "state": {
            "_dom_classes": [],
            "_model_module": "@jupyter-widgets/controls",
            "_model_module_version": "1.5.0",
            "_model_name": "HBoxModel",
            "_view_count": null,
            "_view_module": "@jupyter-widgets/controls",
            "_view_module_version": "1.5.0",
            "_view_name": "HBoxView",
            "box_style": "",
            "children": [
              "IPY_MODEL_34b9d75cfa3e4e5ebde73f84a233c7c9",
              "IPY_MODEL_c59c72e2c7f04b549a45f2267cbb94fe",
              "IPY_MODEL_3eb723e514bf410997e58e12b2aa9870"
            ],
            "layout": "IPY_MODEL_112b45da977a43be81589781387fcb25"
          }
        },
        "5ac6bf2dbe224a078c2e3fa349e0ae6e": {
          "model_module": "@jupyter-widgets/controls",
          "model_module_version": "1.5.0",
          "model_name": "HTMLModel",
          "state": {
            "_dom_classes": [],
            "_model_module": "@jupyter-widgets/controls",
            "_model_module_version": "1.5.0",
            "_model_name": "HTMLModel",
            "_view_count": null,
            "_view_module": "@jupyter-widgets/controls",
            "_view_module_version": "1.5.0",
            "_view_name": "HTMLView",
            "description": "",
            "description_tooltip": null,
            "layout": "IPY_MODEL_37cb05e865ae4e93aeae6dcadc516a32",
            "placeholder": "​",
            "style": "IPY_MODEL_7555c0cdbb3c4bc78281d0ce30b6d50a",
            "value": "100%"
          }
        },
        "5d246b05af2e440eb1eb46ee1f3685b3": {
          "model_module": "@jupyter-widgets/base",
          "model_module_version": "1.2.0",
          "model_name": "LayoutModel",
          "state": {
            "_model_module": "@jupyter-widgets/base",
            "_model_module_version": "1.2.0",
            "_model_name": "LayoutModel",
            "_view_count": null,
            "_view_module": "@jupyter-widgets/base",
            "_view_module_version": "1.2.0",
            "_view_name": "LayoutView",
            "align_content": null,
            "align_items": null,
            "align_self": null,
            "border": null,
            "bottom": null,
            "display": null,
            "flex": null,
            "flex_flow": null,
            "grid_area": null,
            "grid_auto_columns": null,
            "grid_auto_flow": null,
            "grid_auto_rows": null,
            "grid_column": null,
            "grid_gap": null,
            "grid_row": null,
            "grid_template_areas": null,
            "grid_template_columns": null,
            "grid_template_rows": null,
            "height": null,
            "justify_content": null,
            "justify_items": null,
            "left": null,
            "margin": null,
            "max_height": null,
            "max_width": null,
            "min_height": null,
            "min_width": null,
            "object_fit": null,
            "object_position": null,
            "order": null,
            "overflow": null,
            "overflow_x": null,
            "overflow_y": null,
            "padding": null,
            "right": null,
            "top": null,
            "visibility": null,
            "width": null
          }
        },
        "606cca0455f941a0873c1af403505a7c": {
          "model_module": "@jupyter-widgets/base",
          "model_module_version": "1.2.0",
          "model_name": "LayoutModel",
          "state": {
            "_model_module": "@jupyter-widgets/base",
            "_model_module_version": "1.2.0",
            "_model_name": "LayoutModel",
            "_view_count": null,
            "_view_module": "@jupyter-widgets/base",
            "_view_module_version": "1.2.0",
            "_view_name": "LayoutView",
            "align_content": null,
            "align_items": null,
            "align_self": null,
            "border": null,
            "bottom": null,
            "display": null,
            "flex": null,
            "flex_flow": null,
            "grid_area": null,
            "grid_auto_columns": null,
            "grid_auto_flow": null,
            "grid_auto_rows": null,
            "grid_column": null,
            "grid_gap": null,
            "grid_row": null,
            "grid_template_areas": null,
            "grid_template_columns": null,
            "grid_template_rows": null,
            "height": null,
            "justify_content": null,
            "justify_items": null,
            "left": null,
            "margin": null,
            "max_height": null,
            "max_width": null,
            "min_height": null,
            "min_width": null,
            "object_fit": null,
            "object_position": null,
            "order": null,
            "overflow": null,
            "overflow_x": null,
            "overflow_y": null,
            "padding": null,
            "right": null,
            "top": null,
            "visibility": null,
            "width": null
          }
        },
        "60d2c08bdb7648a984770c04f709fe0e": {
          "model_module": "@jupyter-widgets/controls",
          "model_module_version": "1.5.0",
          "model_name": "FloatProgressModel",
          "state": {
            "_dom_classes": [],
            "_model_module": "@jupyter-widgets/controls",
            "_model_module_version": "1.5.0",
            "_model_name": "FloatProgressModel",
            "_view_count": null,
            "_view_module": "@jupyter-widgets/controls",
            "_view_module_version": "1.5.0",
            "_view_name": "ProgressView",
            "bar_style": "success",
            "description": "",
            "description_tooltip": null,
            "layout": "IPY_MODEL_4392f8b04afa43d387fb6338577c889d",
            "max": 54,
            "min": 0,
            "orientation": "horizontal",
            "style": "IPY_MODEL_d1785aa220e54739b611cc3ec832bb92",
            "value": 54
          }
        },
        "61ed9e0c1a7949b7bb916c0ab5b9be39": {
          "model_module": "@jupyter-widgets/controls",
          "model_module_version": "1.5.0",
          "model_name": "FloatProgressModel",
          "state": {
            "_dom_classes": [],
            "_model_module": "@jupyter-widgets/controls",
            "_model_module_version": "1.5.0",
            "_model_name": "FloatProgressModel",
            "_view_count": null,
            "_view_module": "@jupyter-widgets/controls",
            "_view_module_version": "1.5.0",
            "_view_name": "ProgressView",
            "bar_style": "success",
            "description": "",
            "description_tooltip": null,
            "layout": "IPY_MODEL_1e6ed1370acc4a6192a6977311d4fefe",
            "max": 155,
            "min": 0,
            "orientation": "horizontal",
            "style": "IPY_MODEL_082f25ab850d4935b0843b0726e4db86",
            "value": 155
          }
        },
        "629f28ab51254b83b47ad07ead1f6827": {
          "model_module": "@jupyter-widgets/base",
          "model_module_version": "1.2.0",
          "model_name": "LayoutModel",
          "state": {
            "_model_module": "@jupyter-widgets/base",
            "_model_module_version": "1.2.0",
            "_model_name": "LayoutModel",
            "_view_count": null,
            "_view_module": "@jupyter-widgets/base",
            "_view_module_version": "1.2.0",
            "_view_name": "LayoutView",
            "align_content": null,
            "align_items": null,
            "align_self": null,
            "border": null,
            "bottom": null,
            "display": null,
            "flex": null,
            "flex_flow": null,
            "grid_area": null,
            "grid_auto_columns": null,
            "grid_auto_flow": null,
            "grid_auto_rows": null,
            "grid_column": null,
            "grid_gap": null,
            "grid_row": null,
            "grid_template_areas": null,
            "grid_template_columns": null,
            "grid_template_rows": null,
            "height": null,
            "justify_content": null,
            "justify_items": null,
            "left": null,
            "margin": null,
            "max_height": null,
            "max_width": null,
            "min_height": null,
            "min_width": null,
            "object_fit": null,
            "object_position": null,
            "order": null,
            "overflow": null,
            "overflow_x": null,
            "overflow_y": null,
            "padding": null,
            "right": null,
            "top": null,
            "visibility": null,
            "width": null
          }
        },
        "669ca3f9058a41b991203298f4046b26": {
          "model_module": "@jupyter-widgets/controls",
          "model_module_version": "1.5.0",
          "model_name": "HBoxModel",
          "state": {
            "_dom_classes": [],
            "_model_module": "@jupyter-widgets/controls",
            "_model_module_version": "1.5.0",
            "_model_name": "HBoxModel",
            "_view_count": null,
            "_view_module": "@jupyter-widgets/controls",
            "_view_module_version": "1.5.0",
            "_view_name": "HBoxView",
            "box_style": "",
            "children": [
              "IPY_MODEL_2ce21509b5254cd082ddbaeab13481fa",
              "IPY_MODEL_61ed9e0c1a7949b7bb916c0ab5b9be39",
              "IPY_MODEL_1419c935e12a43c6ad282126e220b04f"
            ],
            "layout": "IPY_MODEL_be043829292e4029bbcbc4bbf68634a6"
          }
        },
        "7555c0cdbb3c4bc78281d0ce30b6d50a": {
          "model_module": "@jupyter-widgets/controls",
          "model_module_version": "1.5.0",
          "model_name": "DescriptionStyleModel",
          "state": {
            "_model_module": "@jupyter-widgets/controls",
            "_model_module_version": "1.5.0",
            "_model_name": "DescriptionStyleModel",
            "_view_count": null,
            "_view_module": "@jupyter-widgets/base",
            "_view_module_version": "1.2.0",
            "_view_name": "StyleView",
            "description_width": ""
          }
        },
        "7b2f9765b52140949f5107490b1a19cf": {
          "model_module": "@jupyter-widgets/controls",
          "model_module_version": "1.5.0",
          "model_name": "FloatProgressModel",
          "state": {
            "_dom_classes": [],
            "_model_module": "@jupyter-widgets/controls",
            "_model_module_version": "1.5.0",
            "_model_name": "FloatProgressModel",
            "_view_count": null,
            "_view_module": "@jupyter-widgets/controls",
            "_view_module_version": "1.5.0",
            "_view_name": "ProgressView",
            "bar_style": "success",
            "description": "",
            "description_tooltip": null,
            "layout": "IPY_MODEL_bf326d803d0c43a6ad27b6ade626af7e",
            "max": 54,
            "min": 0,
            "orientation": "horizontal",
            "style": "IPY_MODEL_2f9c9c8c00f145778e35bacaa59a8b5e",
            "value": 54
          }
        },
        "7c3ffac62aa04f568b90499734bf725b": {
          "model_module": "@jupyter-widgets/base",
          "model_module_version": "1.2.0",
          "model_name": "LayoutModel",
          "state": {
            "_model_module": "@jupyter-widgets/base",
            "_model_module_version": "1.2.0",
            "_model_name": "LayoutModel",
            "_view_count": null,
            "_view_module": "@jupyter-widgets/base",
            "_view_module_version": "1.2.0",
            "_view_name": "LayoutView",
            "align_content": null,
            "align_items": null,
            "align_self": null,
            "border": null,
            "bottom": null,
            "display": null,
            "flex": null,
            "flex_flow": null,
            "grid_area": null,
            "grid_auto_columns": null,
            "grid_auto_flow": null,
            "grid_auto_rows": null,
            "grid_column": null,
            "grid_gap": null,
            "grid_row": null,
            "grid_template_areas": null,
            "grid_template_columns": null,
            "grid_template_rows": null,
            "height": null,
            "justify_content": null,
            "justify_items": null,
            "left": null,
            "margin": null,
            "max_height": null,
            "max_width": null,
            "min_height": null,
            "min_width": null,
            "object_fit": null,
            "object_position": null,
            "order": null,
            "overflow": null,
            "overflow_x": null,
            "overflow_y": null,
            "padding": null,
            "right": null,
            "top": null,
            "visibility": null,
            "width": null
          }
        },
        "7d6f69caa40146798c57e9d07c946203": {
          "model_module": "@jupyter-widgets/controls",
          "model_module_version": "1.5.0",
          "model_name": "HTMLModel",
          "state": {
            "_dom_classes": [],
            "_model_module": "@jupyter-widgets/controls",
            "_model_module_version": "1.5.0",
            "_model_name": "HTMLModel",
            "_view_count": null,
            "_view_module": "@jupyter-widgets/controls",
            "_view_module_version": "1.5.0",
            "_view_name": "HTMLView",
            "description": "",
            "description_tooltip": null,
            "layout": "IPY_MODEL_002050c9657448f3836ddeb14757026f",
            "placeholder": "​",
            "style": "IPY_MODEL_a2964dbea2e2484c9a6b41f7c732071b",
            "value": "100%"
          }
        },
        "8080593c6cca4c54ac01a5346a400469": {
          "model_module": "@jupyter-widgets/base",
          "model_module_version": "1.2.0",
          "model_name": "LayoutModel",
          "state": {
            "_model_module": "@jupyter-widgets/base",
            "_model_module_version": "1.2.0",
            "_model_name": "LayoutModel",
            "_view_count": null,
            "_view_module": "@jupyter-widgets/base",
            "_view_module_version": "1.2.0",
            "_view_name": "LayoutView",
            "align_content": null,
            "align_items": null,
            "align_self": null,
            "border": null,
            "bottom": null,
            "display": null,
            "flex": null,
            "flex_flow": null,
            "grid_area": null,
            "grid_auto_columns": null,
            "grid_auto_flow": null,
            "grid_auto_rows": null,
            "grid_column": null,
            "grid_gap": null,
            "grid_row": null,
            "grid_template_areas": null,
            "grid_template_columns": null,
            "grid_template_rows": null,
            "height": null,
            "justify_content": null,
            "justify_items": null,
            "left": null,
            "margin": null,
            "max_height": null,
            "max_width": null,
            "min_height": null,
            "min_width": null,
            "object_fit": null,
            "object_position": null,
            "order": null,
            "overflow": null,
            "overflow_x": null,
            "overflow_y": null,
            "padding": null,
            "right": null,
            "top": null,
            "visibility": null,
            "width": null
          }
        },
        "87a51e79aefe4d37aa4a61d2537eb164": {
          "model_module": "@jupyter-widgets/controls",
          "model_module_version": "1.5.0",
          "model_name": "HTMLModel",
          "state": {
            "_dom_classes": [],
            "_model_module": "@jupyter-widgets/controls",
            "_model_module_version": "1.5.0",
            "_model_name": "HTMLModel",
            "_view_count": null,
            "_view_module": "@jupyter-widgets/controls",
            "_view_module_version": "1.5.0",
            "_view_name": "HTMLView",
            "description": "",
            "description_tooltip": null,
            "layout": "IPY_MODEL_94e8fcba033a4d6d8be5c31f8435427c",
            "placeholder": "​",
            "style": "IPY_MODEL_0193eae66b6d44d98c8c7af1c3ca245e",
            "value": " 54/54 [00:33&lt;00:00,  2.08it/s]"
          }
        },
        "8b757d6eb91b4fed8a23bf1f41a7cfd2": {
          "model_module": "@jupyter-widgets/controls",
          "model_module_version": "1.5.0",
          "model_name": "DescriptionStyleModel",
          "state": {
            "_model_module": "@jupyter-widgets/controls",
            "_model_module_version": "1.5.0",
            "_model_name": "DescriptionStyleModel",
            "_view_count": null,
            "_view_module": "@jupyter-widgets/base",
            "_view_module_version": "1.2.0",
            "_view_name": "StyleView",
            "description_width": ""
          }
        },
        "940659b9b3c74d0c99d170abf6b4c22f": {
          "model_module": "@jupyter-widgets/controls",
          "model_module_version": "1.5.0",
          "model_name": "DescriptionStyleModel",
          "state": {
            "_model_module": "@jupyter-widgets/controls",
            "_model_module_version": "1.5.0",
            "_model_name": "DescriptionStyleModel",
            "_view_count": null,
            "_view_module": "@jupyter-widgets/base",
            "_view_module_version": "1.2.0",
            "_view_name": "StyleView",
            "description_width": ""
          }
        },
        "94e8fcba033a4d6d8be5c31f8435427c": {
          "model_module": "@jupyter-widgets/base",
          "model_module_version": "1.2.0",
          "model_name": "LayoutModel",
          "state": {
            "_model_module": "@jupyter-widgets/base",
            "_model_module_version": "1.2.0",
            "_model_name": "LayoutModel",
            "_view_count": null,
            "_view_module": "@jupyter-widgets/base",
            "_view_module_version": "1.2.0",
            "_view_name": "LayoutView",
            "align_content": null,
            "align_items": null,
            "align_self": null,
            "border": null,
            "bottom": null,
            "display": null,
            "flex": null,
            "flex_flow": null,
            "grid_area": null,
            "grid_auto_columns": null,
            "grid_auto_flow": null,
            "grid_auto_rows": null,
            "grid_column": null,
            "grid_gap": null,
            "grid_row": null,
            "grid_template_areas": null,
            "grid_template_columns": null,
            "grid_template_rows": null,
            "height": null,
            "justify_content": null,
            "justify_items": null,
            "left": null,
            "margin": null,
            "max_height": null,
            "max_width": null,
            "min_height": null,
            "min_width": null,
            "object_fit": null,
            "object_position": null,
            "order": null,
            "overflow": null,
            "overflow_x": null,
            "overflow_y": null,
            "padding": null,
            "right": null,
            "top": null,
            "visibility": null,
            "width": null
          }
        },
        "a2964dbea2e2484c9a6b41f7c732071b": {
          "model_module": "@jupyter-widgets/controls",
          "model_module_version": "1.5.0",
          "model_name": "DescriptionStyleModel",
          "state": {
            "_model_module": "@jupyter-widgets/controls",
            "_model_module_version": "1.5.0",
            "_model_name": "DescriptionStyleModel",
            "_view_count": null,
            "_view_module": "@jupyter-widgets/base",
            "_view_module_version": "1.2.0",
            "_view_name": "StyleView",
            "description_width": ""
          }
        },
        "a40ef0d028874f328aa2bfa36af5c1f9": {
          "model_module": "@jupyter-widgets/base",
          "model_module_version": "1.2.0",
          "model_name": "LayoutModel",
          "state": {
            "_model_module": "@jupyter-widgets/base",
            "_model_module_version": "1.2.0",
            "_model_name": "LayoutModel",
            "_view_count": null,
            "_view_module": "@jupyter-widgets/base",
            "_view_module_version": "1.2.0",
            "_view_name": "LayoutView",
            "align_content": null,
            "align_items": null,
            "align_self": null,
            "border": null,
            "bottom": null,
            "display": null,
            "flex": null,
            "flex_flow": null,
            "grid_area": null,
            "grid_auto_columns": null,
            "grid_auto_flow": null,
            "grid_auto_rows": null,
            "grid_column": null,
            "grid_gap": null,
            "grid_row": null,
            "grid_template_areas": null,
            "grid_template_columns": null,
            "grid_template_rows": null,
            "height": null,
            "justify_content": null,
            "justify_items": null,
            "left": null,
            "margin": null,
            "max_height": null,
            "max_width": null,
            "min_height": null,
            "min_width": null,
            "object_fit": null,
            "object_position": null,
            "order": null,
            "overflow": null,
            "overflow_x": null,
            "overflow_y": null,
            "padding": null,
            "right": null,
            "top": null,
            "visibility": null,
            "width": null
          }
        },
        "aa9cd7d0ffb2405c9cb1756644a59752": {
          "model_module": "@jupyter-widgets/controls",
          "model_module_version": "1.5.0",
          "model_name": "HBoxModel",
          "state": {
            "_dom_classes": [],
            "_model_module": "@jupyter-widgets/controls",
            "_model_module_version": "1.5.0",
            "_model_name": "HBoxModel",
            "_view_count": null,
            "_view_module": "@jupyter-widgets/controls",
            "_view_module_version": "1.5.0",
            "_view_name": "HBoxView",
            "box_style": "",
            "children": [
              "IPY_MODEL_5ac6bf2dbe224a078c2e3fa349e0ae6e",
              "IPY_MODEL_4b7d4d1dadd44039bbe954ff12f5421c",
              "IPY_MODEL_fa9320b10cbb4448a63526be9492c4c7"
            ],
            "layout": "IPY_MODEL_629f28ab51254b83b47ad07ead1f6827"
          }
        },
        "bccc745f50c44be481e792082dc56bdc": {
          "model_module": "@jupyter-widgets/controls",
          "model_module_version": "1.5.0",
          "model_name": "HTMLModel",
          "state": {
            "_dom_classes": [],
            "_model_module": "@jupyter-widgets/controls",
            "_model_module_version": "1.5.0",
            "_model_name": "HTMLModel",
            "_view_count": null,
            "_view_module": "@jupyter-widgets/controls",
            "_view_module_version": "1.5.0",
            "_view_name": "HTMLView",
            "description": "",
            "description_tooltip": null,
            "layout": "IPY_MODEL_e57e20ff9025496692f9e38184d83221",
            "placeholder": "​",
            "style": "IPY_MODEL_498da906503141ffabdbd3406d008523",
            "value": " 155/155 [02:08&lt;00:00,  1.61it/s]"
          }
        },
        "be043829292e4029bbcbc4bbf68634a6": {
          "model_module": "@jupyter-widgets/base",
          "model_module_version": "1.2.0",
          "model_name": "LayoutModel",
          "state": {
            "_model_module": "@jupyter-widgets/base",
            "_model_module_version": "1.2.0",
            "_model_name": "LayoutModel",
            "_view_count": null,
            "_view_module": "@jupyter-widgets/base",
            "_view_module_version": "1.2.0",
            "_view_name": "LayoutView",
            "align_content": null,
            "align_items": null,
            "align_self": null,
            "border": null,
            "bottom": null,
            "display": null,
            "flex": null,
            "flex_flow": null,
            "grid_area": null,
            "grid_auto_columns": null,
            "grid_auto_flow": null,
            "grid_auto_rows": null,
            "grid_column": null,
            "grid_gap": null,
            "grid_row": null,
            "grid_template_areas": null,
            "grid_template_columns": null,
            "grid_template_rows": null,
            "height": null,
            "justify_content": null,
            "justify_items": null,
            "left": null,
            "margin": null,
            "max_height": null,
            "max_width": null,
            "min_height": null,
            "min_width": null,
            "object_fit": null,
            "object_position": null,
            "order": null,
            "overflow": null,
            "overflow_x": null,
            "overflow_y": null,
            "padding": null,
            "right": null,
            "top": null,
            "visibility": null,
            "width": null
          }
        },
        "bf326d803d0c43a6ad27b6ade626af7e": {
          "model_module": "@jupyter-widgets/base",
          "model_module_version": "1.2.0",
          "model_name": "LayoutModel",
          "state": {
            "_model_module": "@jupyter-widgets/base",
            "_model_module_version": "1.2.0",
            "_model_name": "LayoutModel",
            "_view_count": null,
            "_view_module": "@jupyter-widgets/base",
            "_view_module_version": "1.2.0",
            "_view_name": "LayoutView",
            "align_content": null,
            "align_items": null,
            "align_self": null,
            "border": null,
            "bottom": null,
            "display": null,
            "flex": null,
            "flex_flow": null,
            "grid_area": null,
            "grid_auto_columns": null,
            "grid_auto_flow": null,
            "grid_auto_rows": null,
            "grid_column": null,
            "grid_gap": null,
            "grid_row": null,
            "grid_template_areas": null,
            "grid_template_columns": null,
            "grid_template_rows": null,
            "height": null,
            "justify_content": null,
            "justify_items": null,
            "left": null,
            "margin": null,
            "max_height": null,
            "max_width": null,
            "min_height": null,
            "min_width": null,
            "object_fit": null,
            "object_position": null,
            "order": null,
            "overflow": null,
            "overflow_x": null,
            "overflow_y": null,
            "padding": null,
            "right": null,
            "top": null,
            "visibility": null,
            "width": null
          }
        },
        "c59c72e2c7f04b549a45f2267cbb94fe": {
          "model_module": "@jupyter-widgets/controls",
          "model_module_version": "1.5.0",
          "model_name": "FloatProgressModel",
          "state": {
            "_dom_classes": [],
            "_model_module": "@jupyter-widgets/controls",
            "_model_module_version": "1.5.0",
            "_model_name": "FloatProgressModel",
            "_view_count": null,
            "_view_module": "@jupyter-widgets/controls",
            "_view_module_version": "1.5.0",
            "_view_name": "ProgressView",
            "bar_style": "success",
            "description": "",
            "description_tooltip": null,
            "layout": "IPY_MODEL_f829df6953e740a19edfaa52f7ef9571",
            "max": 155,
            "min": 0,
            "orientation": "horizontal",
            "style": "IPY_MODEL_ff674b6f3a484cf683bfe5385d798c3c",
            "value": 155
          }
        },
        "c894a6d22ca84dcd87a7b54557b9ef03": {
          "model_module": "@jupyter-widgets/controls",
          "model_module_version": "1.5.0",
          "model_name": "HBoxModel",
          "state": {
            "_dom_classes": [],
            "_model_module": "@jupyter-widgets/controls",
            "_model_module_version": "1.5.0",
            "_model_name": "HBoxModel",
            "_view_count": null,
            "_view_module": "@jupyter-widgets/controls",
            "_view_module_version": "1.5.0",
            "_view_name": "HBoxView",
            "box_style": "",
            "children": [
              "IPY_MODEL_7d6f69caa40146798c57e9d07c946203",
              "IPY_MODEL_60d2c08bdb7648a984770c04f709fe0e",
              "IPY_MODEL_0b319f5705bf4c1f88e7ff53951d7486"
            ],
            "layout": "IPY_MODEL_20bffe91f7b7419f97fdcbf8802002b2"
          }
        },
        "c9f6dda2f6c743f8b5e097ef9c37bbb2": {
          "model_module": "@jupyter-widgets/base",
          "model_module_version": "1.2.0",
          "model_name": "LayoutModel",
          "state": {
            "_model_module": "@jupyter-widgets/base",
            "_model_module_version": "1.2.0",
            "_model_name": "LayoutModel",
            "_view_count": null,
            "_view_module": "@jupyter-widgets/base",
            "_view_module_version": "1.2.0",
            "_view_name": "LayoutView",
            "align_content": null,
            "align_items": null,
            "align_self": null,
            "border": null,
            "bottom": null,
            "display": null,
            "flex": null,
            "flex_flow": null,
            "grid_area": null,
            "grid_auto_columns": null,
            "grid_auto_flow": null,
            "grid_auto_rows": null,
            "grid_column": null,
            "grid_gap": null,
            "grid_row": null,
            "grid_template_areas": null,
            "grid_template_columns": null,
            "grid_template_rows": null,
            "height": null,
            "justify_content": null,
            "justify_items": null,
            "left": null,
            "margin": null,
            "max_height": null,
            "max_width": null,
            "min_height": null,
            "min_width": null,
            "object_fit": null,
            "object_position": null,
            "order": null,
            "overflow": null,
            "overflow_x": null,
            "overflow_y": null,
            "padding": null,
            "right": null,
            "top": null,
            "visibility": null,
            "width": null
          }
        },
        "cc6cfc6957df4777a60c22518a513add": {
          "model_module": "@jupyter-widgets/base",
          "model_module_version": "1.2.0",
          "model_name": "LayoutModel",
          "state": {
            "_model_module": "@jupyter-widgets/base",
            "_model_module_version": "1.2.0",
            "_model_name": "LayoutModel",
            "_view_count": null,
            "_view_module": "@jupyter-widgets/base",
            "_view_module_version": "1.2.0",
            "_view_name": "LayoutView",
            "align_content": null,
            "align_items": null,
            "align_self": null,
            "border": null,
            "bottom": null,
            "display": null,
            "flex": null,
            "flex_flow": null,
            "grid_area": null,
            "grid_auto_columns": null,
            "grid_auto_flow": null,
            "grid_auto_rows": null,
            "grid_column": null,
            "grid_gap": null,
            "grid_row": null,
            "grid_template_areas": null,
            "grid_template_columns": null,
            "grid_template_rows": null,
            "height": null,
            "justify_content": null,
            "justify_items": null,
            "left": null,
            "margin": null,
            "max_height": null,
            "max_width": null,
            "min_height": null,
            "min_width": null,
            "object_fit": null,
            "object_position": null,
            "order": null,
            "overflow": null,
            "overflow_x": null,
            "overflow_y": null,
            "padding": null,
            "right": null,
            "top": null,
            "visibility": null,
            "width": null
          }
        },
        "d1428b9747444a5795ee4ab454f2d561": {
          "model_module": "@jupyter-widgets/controls",
          "model_module_version": "1.5.0",
          "model_name": "ProgressStyleModel",
          "state": {
            "_model_module": "@jupyter-widgets/controls",
            "_model_module_version": "1.5.0",
            "_model_name": "ProgressStyleModel",
            "_view_count": null,
            "_view_module": "@jupyter-widgets/base",
            "_view_module_version": "1.2.0",
            "_view_name": "StyleView",
            "bar_color": null,
            "description_width": ""
          }
        },
        "d1785aa220e54739b611cc3ec832bb92": {
          "model_module": "@jupyter-widgets/controls",
          "model_module_version": "1.5.0",
          "model_name": "ProgressStyleModel",
          "state": {
            "_model_module": "@jupyter-widgets/controls",
            "_model_module_version": "1.5.0",
            "_model_name": "ProgressStyleModel",
            "_view_count": null,
            "_view_module": "@jupyter-widgets/base",
            "_view_module_version": "1.2.0",
            "_view_name": "StyleView",
            "bar_color": null,
            "description_width": ""
          }
        },
        "e081dbdcd04547489bcf374e22a343cc": {
          "model_module": "@jupyter-widgets/controls",
          "model_module_version": "1.5.0",
          "model_name": "ProgressStyleModel",
          "state": {
            "_model_module": "@jupyter-widgets/controls",
            "_model_module_version": "1.5.0",
            "_model_name": "ProgressStyleModel",
            "_view_count": null,
            "_view_module": "@jupyter-widgets/base",
            "_view_module_version": "1.2.0",
            "_view_name": "StyleView",
            "bar_color": null,
            "description_width": ""
          }
        },
        "e57e20ff9025496692f9e38184d83221": {
          "model_module": "@jupyter-widgets/base",
          "model_module_version": "1.2.0",
          "model_name": "LayoutModel",
          "state": {
            "_model_module": "@jupyter-widgets/base",
            "_model_module_version": "1.2.0",
            "_model_name": "LayoutModel",
            "_view_count": null,
            "_view_module": "@jupyter-widgets/base",
            "_view_module_version": "1.2.0",
            "_view_name": "LayoutView",
            "align_content": null,
            "align_items": null,
            "align_self": null,
            "border": null,
            "bottom": null,
            "display": null,
            "flex": null,
            "flex_flow": null,
            "grid_area": null,
            "grid_auto_columns": null,
            "grid_auto_flow": null,
            "grid_auto_rows": null,
            "grid_column": null,
            "grid_gap": null,
            "grid_row": null,
            "grid_template_areas": null,
            "grid_template_columns": null,
            "grid_template_rows": null,
            "height": null,
            "justify_content": null,
            "justify_items": null,
            "left": null,
            "margin": null,
            "max_height": null,
            "max_width": null,
            "min_height": null,
            "min_width": null,
            "object_fit": null,
            "object_position": null,
            "order": null,
            "overflow": null,
            "overflow_x": null,
            "overflow_y": null,
            "padding": null,
            "right": null,
            "top": null,
            "visibility": null,
            "width": null
          }
        },
        "ea92a75640ba4b0da70c1592f555b006": {
          "model_module": "@jupyter-widgets/base",
          "model_module_version": "1.2.0",
          "model_name": "LayoutModel",
          "state": {
            "_model_module": "@jupyter-widgets/base",
            "_model_module_version": "1.2.0",
            "_model_name": "LayoutModel",
            "_view_count": null,
            "_view_module": "@jupyter-widgets/base",
            "_view_module_version": "1.2.0",
            "_view_name": "LayoutView",
            "align_content": null,
            "align_items": null,
            "align_self": null,
            "border": null,
            "bottom": null,
            "display": null,
            "flex": null,
            "flex_flow": null,
            "grid_area": null,
            "grid_auto_columns": null,
            "grid_auto_flow": null,
            "grid_auto_rows": null,
            "grid_column": null,
            "grid_gap": null,
            "grid_row": null,
            "grid_template_areas": null,
            "grid_template_columns": null,
            "grid_template_rows": null,
            "height": null,
            "justify_content": null,
            "justify_items": null,
            "left": null,
            "margin": null,
            "max_height": null,
            "max_width": null,
            "min_height": null,
            "min_width": null,
            "object_fit": null,
            "object_position": null,
            "order": null,
            "overflow": null,
            "overflow_x": null,
            "overflow_y": null,
            "padding": null,
            "right": null,
            "top": null,
            "visibility": null,
            "width": null
          }
        },
        "f829df6953e740a19edfaa52f7ef9571": {
          "model_module": "@jupyter-widgets/base",
          "model_module_version": "1.2.0",
          "model_name": "LayoutModel",
          "state": {
            "_model_module": "@jupyter-widgets/base",
            "_model_module_version": "1.2.0",
            "_model_name": "LayoutModel",
            "_view_count": null,
            "_view_module": "@jupyter-widgets/base",
            "_view_module_version": "1.2.0",
            "_view_name": "LayoutView",
            "align_content": null,
            "align_items": null,
            "align_self": null,
            "border": null,
            "bottom": null,
            "display": null,
            "flex": null,
            "flex_flow": null,
            "grid_area": null,
            "grid_auto_columns": null,
            "grid_auto_flow": null,
            "grid_auto_rows": null,
            "grid_column": null,
            "grid_gap": null,
            "grid_row": null,
            "grid_template_areas": null,
            "grid_template_columns": null,
            "grid_template_rows": null,
            "height": null,
            "justify_content": null,
            "justify_items": null,
            "left": null,
            "margin": null,
            "max_height": null,
            "max_width": null,
            "min_height": null,
            "min_width": null,
            "object_fit": null,
            "object_position": null,
            "order": null,
            "overflow": null,
            "overflow_x": null,
            "overflow_y": null,
            "padding": null,
            "right": null,
            "top": null,
            "visibility": null,
            "width": null
          }
        },
        "fa9320b10cbb4448a63526be9492c4c7": {
          "model_module": "@jupyter-widgets/controls",
          "model_module_version": "1.5.0",
          "model_name": "HTMLModel",
          "state": {
            "_dom_classes": [],
            "_model_module": "@jupyter-widgets/controls",
            "_model_module_version": "1.5.0",
            "_model_name": "HTMLModel",
            "_view_count": null,
            "_view_module": "@jupyter-widgets/controls",
            "_view_module_version": "1.5.0",
            "_view_name": "HTMLView",
            "description": "",
            "description_tooltip": null,
            "layout": "IPY_MODEL_7c3ffac62aa04f568b90499734bf725b",
            "placeholder": "​",
            "style": "IPY_MODEL_3e728be5faf84b7d9c1eea54547938c1",
            "value": " 54/54 [00:33&lt;00:00,  1.96it/s]"
          }
        },
        "ff674b6f3a484cf683bfe5385d798c3c": {
          "model_module": "@jupyter-widgets/controls",
          "model_module_version": "1.5.0",
          "model_name": "ProgressStyleModel",
          "state": {
            "_model_module": "@jupyter-widgets/controls",
            "_model_module_version": "1.5.0",
            "_model_name": "ProgressStyleModel",
            "_view_count": null,
            "_view_module": "@jupyter-widgets/base",
            "_view_module_version": "1.2.0",
            "_view_name": "StyleView",
            "bar_color": null,
            "description_width": ""
          }
        }
      }
    }
  },
  "nbformat": 4,
  "nbformat_minor": 0
}
